{
  "nbformat": 4,
  "nbformat_minor": 0,
  "metadata": {
    "colab": {
      "provenance": []
    },
    "kernelspec": {
      "name": "python3",
      "display_name": "Python 3"
    },
    "language_info": {
      "name": "python"
    }
  },
  "cells": [
    {
      "cell_type": "code",
      "execution_count": 1,
      "metadata": {
        "id": "EClrPXGoavrC"
      },
      "outputs": [],
      "source": [
        "import pandas as pd\n",
        "import numpy as np\n",
        "import seaborn as sns\n",
        "import matplotlib.pyplot as plt\n",
        "from sklearn.model_selection import train_test_split\n",
        "from sklearn.metrics import accuracy_score\n",
        "from sklearn.metrics import classification_report\n",
        "from sklearn.feature_extraction.text import TfidfVectorizer\n",
        "from sklearn.linear_model import LogisticRegression\n",
        "from sklearn.tree import DecisionTreeClassifier\n",
        "from sklearn.ensemble import RandomForestClassifier\n",
        "from sklearn.metrics import confusion_matrix, roc_curve, auc, precision_recall_curve\n",
        "import re\n",
        "import string"
      ]
    },
    {
      "cell_type": "markdown",
      "source": [],
      "metadata": {
        "id": "SyjDiR8nfKDr"
      }
    },
    {
      "cell_type": "code",
      "source": [
        "# Install the font tools (only if not already installed)\n",
        "!apt-get install -y fonts-liberation\n",
        "!apt-get install -y fontconfig\n",
        "\n",
        "# Copy the font to the Colab environment\n",
        "!cp /content/drive/MyDrive/path/to/SolaimanLipi.ttf /usr/share/fonts/truetype/\n",
        "\n",
        "# Rebuild the font cache\n",
        "!fc-cache -fv"
      ],
      "metadata": {
        "colab": {
          "base_uri": "https://localhost:8080/"
        },
        "id": "-h3PmmdQU3pH",
        "outputId": "11cd6e01-c270-4d3f-c99f-d83a3325a7ab"
      },
      "execution_count": 2,
      "outputs": [
        {
          "output_type": "stream",
          "name": "stdout",
          "text": [
            "Reading package lists... Done\n",
            "Building dependency tree... Done\n",
            "Reading state information... Done\n",
            "fonts-liberation is already the newest version (1:1.07.4-11).\n",
            "0 upgraded, 0 newly installed, 0 to remove and 49 not upgraded.\n",
            "Reading package lists... Done\n",
            "Building dependency tree... Done\n",
            "Reading state information... Done\n",
            "fontconfig is already the newest version (2.13.1-4.2ubuntu5).\n",
            "0 upgraded, 0 newly installed, 0 to remove and 49 not upgraded.\n",
            "cp: cannot stat '/content/drive/MyDrive/path/to/SolaimanLipi.ttf': No such file or directory\n",
            "/usr/share/fonts: caching, new cache contents: 0 fonts, 2 dirs\n",
            "/usr/share/fonts/opentype: caching, new cache contents: 0 fonts, 1 dirs\n",
            "/usr/share/fonts/opentype/noto: caching, new cache contents: 80 fonts, 0 dirs\n",
            "/usr/share/fonts/truetype: caching, new cache contents: 0 fonts, 3 dirs\n",
            "/usr/share/fonts/truetype/humor-sans: caching, new cache contents: 1 fonts, 0 dirs\n",
            "/usr/share/fonts/truetype/liberation: caching, new cache contents: 16 fonts, 0 dirs\n",
            "/usr/share/fonts/truetype/noto: caching, new cache contents: 2380 fonts, 0 dirs\n",
            "/usr/local/share/fonts: caching, new cache contents: 0 fonts, 0 dirs\n",
            "/root/.local/share/fonts: skipping, no such directory\n",
            "/root/.fonts: skipping, no such directory\n",
            "/usr/share/fonts/opentype: skipping, looped directory detected\n",
            "/usr/share/fonts/truetype: skipping, looped directory detected\n",
            "/usr/share/fonts/opentype/noto: skipping, looped directory detected\n",
            "/usr/share/fonts/truetype/humor-sans: skipping, looped directory detected\n",
            "/usr/share/fonts/truetype/liberation: skipping, looped directory detected\n",
            "/usr/share/fonts/truetype/noto: skipping, looped directory detected\n",
            "/var/cache/fontconfig: cleaning cache directory\n",
            "/root/.cache/fontconfig: not cleaning non-existent cache directory\n",
            "/root/.fontconfig: not cleaning non-existent cache directory\n",
            "fc-cache: succeeded\n"
          ]
        }
      ]
    },
    {
      "cell_type": "markdown",
      "source": [
        "# Reading file"
      ],
      "metadata": {
        "id": "4LTVVEcFbaf5"
      }
    },
    {
      "cell_type": "code",
      "source": [
        "\n",
        "\n",
        "try:\n",
        "  df = pd.read_csv('/content/final_bn_data.csv', encoding='utf-8')  # Try utf-8 first\n",
        "except UnicodeDecodeError:\n",
        "  try:\n",
        "    df = pd.read_csv('/content/final_bn_data.csv', encoding='cp1252')  # Try cp1252\n",
        "  except UnicodeDecodeError:\n",
        "    df = pd.read_csv('/content/final_bn_data.csv', encoding='latin-1')  # Try latin-1\n",
        "    print(\"Successfully loaded with 'latin-1' encoding\")\n",
        "  else:\n",
        "    print(\"Successfully loaded with 'cp1252' encoding\")\n",
        "else:\n",
        "  print(\"Successfully loaded with 'utf-8' encoding\")"
      ],
      "metadata": {
        "colab": {
          "base_uri": "https://localhost:8080/"
        },
        "id": "SMocAzwbbI8j",
        "outputId": "fb3ac066-916d-43ef-a970-828389714509"
      },
      "execution_count": 48,
      "outputs": [
        {
          "output_type": "stream",
          "name": "stdout",
          "text": [
            "Successfully loaded with 'utf-8' encoding\n"
          ]
        }
      ]
    },
    {
      "cell_type": "markdown",
      "source": [
        "# Data Description\n"
      ],
      "metadata": {
        "id": "rSq3ts-sbgZA"
      }
    },
    {
      "cell_type": "code",
      "source": [
        "df.head()"
      ],
      "metadata": {
        "colab": {
          "base_uri": "https://localhost:8080/",
          "height": 206
        },
        "id": "yp30IelfewqE",
        "outputId": "52166a0b-5a6e-4e62-84d9-7ed1e781fb66"
      },
      "execution_count": 4,
      "outputs": [
        {
          "output_type": "execute_result",
          "data": {
            "text/plain": [
              "   category                                        headline  \\\n",
              "0  National                              ৮ দিনে ১৮ বিল পাস!   \n",
              "1    Sports    আ’লীগের জনসভায় লোকে লোকারণ্য ফেনী ট্রাংক রোড   \n",
              "2  National  মাদ্রাসায় জোড়া খুন: পরিচালক তিন দিনের রিমান্ডে   \n",
              "3    Sports        নেপালকে হারিয়ে গ্রুপ চ্যাম্পিয়ন বাংলাদেশ   \n",
              "4  National             কুড়িগ্রামে ২ শিক্ষার্থীর লাশ উদ্ধার   \n",
              "\n",
              "                                             content  label  \n",
              "0  দশম জাতীয় সংসদের মেয়াদ শেষ হয়ে যাচ্ছে। কার্যত ...    0.0  \n",
              "1  একাদশ জাতীয় সংসদ নির্বাচনকে সামনে রেখে সাংগঠনি...    0.0  \n",
              "2  গাজীপুরে জোড়া খুন মামলার প্রধান আসামি মাদ্রাসা...    0.0  \n",
              "3  সাফ অনূর্ধ্ব-১৮ নারী ফুটবল চ্যাম্পিয়নশিপে নেপা...    1.0  \n",
              "4  কুড়িগ্রাম প্রতিনিধি : কুড়িগ্রাম সদর উপজেলার বে...    1.0  "
            ],
            "text/html": [
              "\n",
              "  <div id=\"df-6db20396-78f6-453d-b728-fd9c89ca2b12\" class=\"colab-df-container\">\n",
              "    <div>\n",
              "<style scoped>\n",
              "    .dataframe tbody tr th:only-of-type {\n",
              "        vertical-align: middle;\n",
              "    }\n",
              "\n",
              "    .dataframe tbody tr th {\n",
              "        vertical-align: top;\n",
              "    }\n",
              "\n",
              "    .dataframe thead th {\n",
              "        text-align: right;\n",
              "    }\n",
              "</style>\n",
              "<table border=\"1\" class=\"dataframe\">\n",
              "  <thead>\n",
              "    <tr style=\"text-align: right;\">\n",
              "      <th></th>\n",
              "      <th>category</th>\n",
              "      <th>headline</th>\n",
              "      <th>content</th>\n",
              "      <th>label</th>\n",
              "    </tr>\n",
              "  </thead>\n",
              "  <tbody>\n",
              "    <tr>\n",
              "      <th>0</th>\n",
              "      <td>National</td>\n",
              "      <td>৮ দিনে ১৮ বিল পাস!</td>\n",
              "      <td>দশম জাতীয় সংসদের মেয়াদ শেষ হয়ে যাচ্ছে। কার্যত ...</td>\n",
              "      <td>0.0</td>\n",
              "    </tr>\n",
              "    <tr>\n",
              "      <th>1</th>\n",
              "      <td>Sports</td>\n",
              "      <td>আ’লীগের জনসভায় লোকে লোকারণ্য ফেনী ট্রাংক রোড</td>\n",
              "      <td>একাদশ জাতীয় সংসদ নির্বাচনকে সামনে রেখে সাংগঠনি...</td>\n",
              "      <td>0.0</td>\n",
              "    </tr>\n",
              "    <tr>\n",
              "      <th>2</th>\n",
              "      <td>National</td>\n",
              "      <td>মাদ্রাসায় জোড়া খুন: পরিচালক তিন দিনের রিমান্ডে</td>\n",
              "      <td>গাজীপুরে জোড়া খুন মামলার প্রধান আসামি মাদ্রাসা...</td>\n",
              "      <td>0.0</td>\n",
              "    </tr>\n",
              "    <tr>\n",
              "      <th>3</th>\n",
              "      <td>Sports</td>\n",
              "      <td>নেপালকে হারিয়ে গ্রুপ চ্যাম্পিয়ন বাংলাদেশ</td>\n",
              "      <td>সাফ অনূর্ধ্ব-১৮ নারী ফুটবল চ্যাম্পিয়নশিপে নেপা...</td>\n",
              "      <td>1.0</td>\n",
              "    </tr>\n",
              "    <tr>\n",
              "      <th>4</th>\n",
              "      <td>National</td>\n",
              "      <td>কুড়িগ্রামে ২ শিক্ষার্থীর লাশ উদ্ধার</td>\n",
              "      <td>কুড়িগ্রাম প্রতিনিধি : কুড়িগ্রাম সদর উপজেলার বে...</td>\n",
              "      <td>1.0</td>\n",
              "    </tr>\n",
              "  </tbody>\n",
              "</table>\n",
              "</div>\n",
              "    <div class=\"colab-df-buttons\">\n",
              "\n",
              "  <div class=\"colab-df-container\">\n",
              "    <button class=\"colab-df-convert\" onclick=\"convertToInteractive('df-6db20396-78f6-453d-b728-fd9c89ca2b12')\"\n",
              "            title=\"Convert this dataframe to an interactive table.\"\n",
              "            style=\"display:none;\">\n",
              "\n",
              "  <svg xmlns=\"http://www.w3.org/2000/svg\" height=\"24px\" viewBox=\"0 -960 960 960\">\n",
              "    <path d=\"M120-120v-720h720v720H120Zm60-500h600v-160H180v160Zm220 220h160v-160H400v160Zm0 220h160v-160H400v160ZM180-400h160v-160H180v160Zm440 0h160v-160H620v160ZM180-180h160v-160H180v160Zm440 0h160v-160H620v160Z\"/>\n",
              "  </svg>\n",
              "    </button>\n",
              "\n",
              "  <style>\n",
              "    .colab-df-container {\n",
              "      display:flex;\n",
              "      gap: 12px;\n",
              "    }\n",
              "\n",
              "    .colab-df-convert {\n",
              "      background-color: #E8F0FE;\n",
              "      border: none;\n",
              "      border-radius: 50%;\n",
              "      cursor: pointer;\n",
              "      display: none;\n",
              "      fill: #1967D2;\n",
              "      height: 32px;\n",
              "      padding: 0 0 0 0;\n",
              "      width: 32px;\n",
              "    }\n",
              "\n",
              "    .colab-df-convert:hover {\n",
              "      background-color: #E2EBFA;\n",
              "      box-shadow: 0px 1px 2px rgba(60, 64, 67, 0.3), 0px 1px 3px 1px rgba(60, 64, 67, 0.15);\n",
              "      fill: #174EA6;\n",
              "    }\n",
              "\n",
              "    .colab-df-buttons div {\n",
              "      margin-bottom: 4px;\n",
              "    }\n",
              "\n",
              "    [theme=dark] .colab-df-convert {\n",
              "      background-color: #3B4455;\n",
              "      fill: #D2E3FC;\n",
              "    }\n",
              "\n",
              "    [theme=dark] .colab-df-convert:hover {\n",
              "      background-color: #434B5C;\n",
              "      box-shadow: 0px 1px 3px 1px rgba(0, 0, 0, 0.15);\n",
              "      filter: drop-shadow(0px 1px 2px rgba(0, 0, 0, 0.3));\n",
              "      fill: #FFFFFF;\n",
              "    }\n",
              "  </style>\n",
              "\n",
              "    <script>\n",
              "      const buttonEl =\n",
              "        document.querySelector('#df-6db20396-78f6-453d-b728-fd9c89ca2b12 button.colab-df-convert');\n",
              "      buttonEl.style.display =\n",
              "        google.colab.kernel.accessAllowed ? 'block' : 'none';\n",
              "\n",
              "      async function convertToInteractive(key) {\n",
              "        const element = document.querySelector('#df-6db20396-78f6-453d-b728-fd9c89ca2b12');\n",
              "        const dataTable =\n",
              "          await google.colab.kernel.invokeFunction('convertToInteractive',\n",
              "                                                    [key], {});\n",
              "        if (!dataTable) return;\n",
              "\n",
              "        const docLinkHtml = 'Like what you see? Visit the ' +\n",
              "          '<a target=\"_blank\" href=https://colab.research.google.com/notebooks/data_table.ipynb>data table notebook</a>'\n",
              "          + ' to learn more about interactive tables.';\n",
              "        element.innerHTML = '';\n",
              "        dataTable['output_type'] = 'display_data';\n",
              "        await google.colab.output.renderOutput(dataTable, element);\n",
              "        const docLink = document.createElement('div');\n",
              "        docLink.innerHTML = docLinkHtml;\n",
              "        element.appendChild(docLink);\n",
              "      }\n",
              "    </script>\n",
              "  </div>\n",
              "\n",
              "\n",
              "<div id=\"df-00b0ba92-74bf-4a54-ad99-ee67c0a9bdd4\">\n",
              "  <button class=\"colab-df-quickchart\" onclick=\"quickchart('df-00b0ba92-74bf-4a54-ad99-ee67c0a9bdd4')\"\n",
              "            title=\"Suggest charts\"\n",
              "            style=\"display:none;\">\n",
              "\n",
              "<svg xmlns=\"http://www.w3.org/2000/svg\" height=\"24px\"viewBox=\"0 0 24 24\"\n",
              "     width=\"24px\">\n",
              "    <g>\n",
              "        <path d=\"M19 3H5c-1.1 0-2 .9-2 2v14c0 1.1.9 2 2 2h14c1.1 0 2-.9 2-2V5c0-1.1-.9-2-2-2zM9 17H7v-7h2v7zm4 0h-2V7h2v10zm4 0h-2v-4h2v4z\"/>\n",
              "    </g>\n",
              "</svg>\n",
              "  </button>\n",
              "\n",
              "<style>\n",
              "  .colab-df-quickchart {\n",
              "      --bg-color: #E8F0FE;\n",
              "      --fill-color: #1967D2;\n",
              "      --hover-bg-color: #E2EBFA;\n",
              "      --hover-fill-color: #174EA6;\n",
              "      --disabled-fill-color: #AAA;\n",
              "      --disabled-bg-color: #DDD;\n",
              "  }\n",
              "\n",
              "  [theme=dark] .colab-df-quickchart {\n",
              "      --bg-color: #3B4455;\n",
              "      --fill-color: #D2E3FC;\n",
              "      --hover-bg-color: #434B5C;\n",
              "      --hover-fill-color: #FFFFFF;\n",
              "      --disabled-bg-color: #3B4455;\n",
              "      --disabled-fill-color: #666;\n",
              "  }\n",
              "\n",
              "  .colab-df-quickchart {\n",
              "    background-color: var(--bg-color);\n",
              "    border: none;\n",
              "    border-radius: 50%;\n",
              "    cursor: pointer;\n",
              "    display: none;\n",
              "    fill: var(--fill-color);\n",
              "    height: 32px;\n",
              "    padding: 0;\n",
              "    width: 32px;\n",
              "  }\n",
              "\n",
              "  .colab-df-quickchart:hover {\n",
              "    background-color: var(--hover-bg-color);\n",
              "    box-shadow: 0 1px 2px rgba(60, 64, 67, 0.3), 0 1px 3px 1px rgba(60, 64, 67, 0.15);\n",
              "    fill: var(--button-hover-fill-color);\n",
              "  }\n",
              "\n",
              "  .colab-df-quickchart-complete:disabled,\n",
              "  .colab-df-quickchart-complete:disabled:hover {\n",
              "    background-color: var(--disabled-bg-color);\n",
              "    fill: var(--disabled-fill-color);\n",
              "    box-shadow: none;\n",
              "  }\n",
              "\n",
              "  .colab-df-spinner {\n",
              "    border: 2px solid var(--fill-color);\n",
              "    border-color: transparent;\n",
              "    border-bottom-color: var(--fill-color);\n",
              "    animation:\n",
              "      spin 1s steps(1) infinite;\n",
              "  }\n",
              "\n",
              "  @keyframes spin {\n",
              "    0% {\n",
              "      border-color: transparent;\n",
              "      border-bottom-color: var(--fill-color);\n",
              "      border-left-color: var(--fill-color);\n",
              "    }\n",
              "    20% {\n",
              "      border-color: transparent;\n",
              "      border-left-color: var(--fill-color);\n",
              "      border-top-color: var(--fill-color);\n",
              "    }\n",
              "    30% {\n",
              "      border-color: transparent;\n",
              "      border-left-color: var(--fill-color);\n",
              "      border-top-color: var(--fill-color);\n",
              "      border-right-color: var(--fill-color);\n",
              "    }\n",
              "    40% {\n",
              "      border-color: transparent;\n",
              "      border-right-color: var(--fill-color);\n",
              "      border-top-color: var(--fill-color);\n",
              "    }\n",
              "    60% {\n",
              "      border-color: transparent;\n",
              "      border-right-color: var(--fill-color);\n",
              "    }\n",
              "    80% {\n",
              "      border-color: transparent;\n",
              "      border-right-color: var(--fill-color);\n",
              "      border-bottom-color: var(--fill-color);\n",
              "    }\n",
              "    90% {\n",
              "      border-color: transparent;\n",
              "      border-bottom-color: var(--fill-color);\n",
              "    }\n",
              "  }\n",
              "</style>\n",
              "\n",
              "  <script>\n",
              "    async function quickchart(key) {\n",
              "      const quickchartButtonEl =\n",
              "        document.querySelector('#' + key + ' button');\n",
              "      quickchartButtonEl.disabled = true;  // To prevent multiple clicks.\n",
              "      quickchartButtonEl.classList.add('colab-df-spinner');\n",
              "      try {\n",
              "        const charts = await google.colab.kernel.invokeFunction(\n",
              "            'suggestCharts', [key], {});\n",
              "      } catch (error) {\n",
              "        console.error('Error during call to suggestCharts:', error);\n",
              "      }\n",
              "      quickchartButtonEl.classList.remove('colab-df-spinner');\n",
              "      quickchartButtonEl.classList.add('colab-df-quickchart-complete');\n",
              "    }\n",
              "    (() => {\n",
              "      let quickchartButtonEl =\n",
              "        document.querySelector('#df-00b0ba92-74bf-4a54-ad99-ee67c0a9bdd4 button');\n",
              "      quickchartButtonEl.style.display =\n",
              "        google.colab.kernel.accessAllowed ? 'block' : 'none';\n",
              "    })();\n",
              "  </script>\n",
              "</div>\n",
              "\n",
              "    </div>\n",
              "  </div>\n"
            ],
            "application/vnd.google.colaboratory.intrinsic+json": {
              "type": "dataframe",
              "variable_name": "df",
              "summary": "{\n  \"name\": \"df\",\n  \"rows\": 14537,\n  \"fields\": [\n    {\n      \"column\": \"category\",\n      \"properties\": {\n        \"dtype\": \"category\",\n        \"num_unique_values\": 12,\n        \"samples\": [\n          \"Crime\",\n          \"Miscellaneous\",\n          \"National\"\n        ],\n        \"semantic_type\": \"\",\n        \"description\": \"\"\n      }\n    },\n    {\n      \"column\": \"headline\",\n      \"properties\": {\n        \"dtype\": \"string\",\n        \"num_unique_values\": 13584,\n        \"samples\": [\n          \"\\u09b6\\u09cd\\u09ac\\u09b6\\u09c1\\u09b0 \\u09ac\\u09be\\u09dc\\u09bf\\u09b0 \\u09a6\\u09c7\\u09df\\u09be \\u09ac\\u09c7\\u0997\\u09c1\\u09a8\\u09bf\\u09a4\\u09c7 \\u09ac\\u09c7\\u0997\\u09c1\\u09a8 \\u09a8\\u09be \\u09aa\\u09c7\\u09df\\u09c7 \\u09b8\\u09cd\\u09a4\\u09cd\\u09b0\\u09c0\\u0995\\u09c7 \\u09a4\\u09be\\u09b2\\u09be\\u0995 \\u09a6\\u09bf\\u09b2\\u09c7\\u09a8 \\u0995\\u09c1\\u09ae\\u09bf\\u09b2\\u09cd\\u09b2\\u09be\\u09b0 \\u098f\\u0995 \\u09af\\u09c1\\u09ac\\u0995 \",\n          \"\\u09a4\\u09bf\\u09a8\\u09a6\\u09bf\\u09a8\\u09c7\\u09b0 \\u09b8\\u09ab\\u09b0\\u09c7 \\u0986\\u099c \\u0995\\u09bf\\u09b6\\u09cb\\u09b0\\u0997\\u099e\\u09cd\\u099c \\u09af\\u09be\\u099a\\u09cd\\u099b\\u09c7\\u09a8 \\u09b0\\u09be\\u09b7\\u09cd\\u099f\\u09cd\\u09b0\\u09aa\\u09a4\\u09bf!\",\n          \"\\u09ac\\u09a6\\u09bf\\u09b0 \\u09b9\\u09be\\u09a4\\u09c7 \\u098f\\u0996\\u09a8 \\u09b6\\u09c1\\u09a7\\u09c1 \\u09a6\\u09c1\\u099f\\u09bf \\u0985\\u09aa\\u09b6\\u09a8, \\u09b8\\u09ae\\u09df \\u09ae\\u09be\\u09a4\\u09cd\\u09b0 \\u09aa\\u09be\\u0981\\u099a \\u09a6\\u09bf\\u09a8\"\n        ],\n        \"semantic_type\": \"\",\n        \"description\": \"\"\n      }\n    },\n    {\n      \"column\": \"content\",\n      \"properties\": {\n        \"dtype\": \"string\",\n        \"num_unique_values\": 14207,\n        \"samples\": [\n          \"\\u09ac\\u09be\\u0997\\u09c7\\u09b0\\u09b9\\u09be\\u099f: \\u2018\\u099c\\u09ae\\u09bf \\u0986\\u099b\\u09c7 \\u0998\\u09b0 \\u09a8\\u09be\\u0987\\u2019 \\u09aa\\u09cd\\u09b0\\u0995\\u09b2\\u09cd\\u09aa\\u09c7\\u09b0 \\u0986\\u0993\\u09a4\\u09be\\u09df \\u09ac\\u09be\\u0997\\u09c7\\u09b0\\u09b9\\u09be\\u099f\\u09c7 \\u09e9 \\u09b9\\u09be\\u099c\\u09be\\u09b0 \\u09ee\\u09ed\\u09e7 \\u09a6\\u09b0\\u09bf\\u09a6\\u09cd\\u09b0 \\u09aa\\u09b0\\u09bf\\u09ac\\u09be\\u09b0 \\u0998\\u09b0 \\u09aa\\u09be\\u099a\\u09cd\\u099b\\u09c7\\u0964 \\u09af\\u09be\\u09a6\\u09c7\\u09b0 \\u09a8\\u09bf\\u099c\\u09c7\\u09b0 \\u099c\\u09ae\\u09bf \\u0986\\u099b\\u09c7 \\u0995\\u09bf\\u09a8\\u09cd\\u09a4\\u09c1 \\u09a5\\u09be\\u0995\\u09be\\u09b0 \\u09ae\\u09a4\\u09c7\\u09be \\u09ae\\u09be\\u09a8\\u09b8\\u09ae\\u09cd\\u09ae\\u09a4 \\u0998\\u09b0 \\u09a8\\u09c7\\u0987, \\u09b8\\u09c7\\u09b8\\u09ac \\u09aa\\u09b0\\u09bf\\u09ac\\u09be\\u09b0\\u0995\\u09c7 \\u09b8\\u09c7\\u09ae\\u09bf \\u09aa\\u09be\\u0995\\u09be \\u0998\\u09b0 \\u09a6\\u09bf\\u099a\\u09cd\\u099b\\u09c7 \\u09b8\\u09b0\\u0995\\u09be\\u09b0\\u0964 \\u09aa\\u09cd\\u09b0\\u09a5\\u09ae \\u09aa\\u09b0\\u09cd\\u09af\\u09be\\u09df\\u09c7 \\u09aa\\u09cd\\u09b0\\u09a7\\u09be\\u09a8\\u09ae\\u09a8\\u09cd\\u09a4\\u09cd\\u09b0\\u09c0\\u09b0 \\u0995\\u09be\\u09b0\\u09cd\\u09af\\u09be\\u09b2\\u09df\\u09c7\\u09b0 \\u0985\\u09b0\\u09cd\\u09a5\\u09be\\u09df\\u09a8\\u09c7 \\u099c\\u09c7\\u09b2\\u09be\\u09df \\u09ae\\u09cb\\u099f \\u09ef\\u09e7\\u09ea\\u099f\\u09bf \\u0998\\u09b0 \\u09a4\\u09c8\\u09b0\\u09bf\\u09b0 \\u09aa\\u09b0 \\u09a6\\u09b0\\u09bf\\u09a6\\u09cd\\u09b0 \\u09aa\\u09b0\\u09bf\\u09ac\\u09be\\u09b0\\u09c7\\u09b0 \\u0995\\u09be\\u099b\\u09c7 \\u09b9\\u09b8\\u09cd\\u09a4\\u09be\\u09a8\\u09cd\\u09a4\\u09b0 \\u0995\\u09b0\\u09be \\u09b9\\u09df\\u09c7\\u099b\\u09c7\\u0964 \\u0985\\u09a8\\u09c7\\u0995\\u09c7 \\u09a8\\u09a4\\u09c1\\u09a8 \\u0998\\u09b0 \\u09aa\\u09c7\\u09df\\u09c7 \\u09ac\\u09b8\\u09ac\\u09be\\u09b8 \\u09b6\\u09c1\\u09b0\\u09c1 \\u0995\\u09b0\\u09c7\\u099b\\u09c7\\u09a8\\u0964 \\u0985\\u09ac\\u09b6\\u09bf\\u09b7\\u09cd\\u099f \\u0998\\u09b0\\u0997\\u09c1\\u09b2\\u09cb \\u09a8\\u09bf\\u09b0\\u09cd\\u09ae\\u09be\\u09a3\\u09be\\u09a7\\u09c0\\u09a8 \\u09b0\\u09df\\u09c7\\u099b\\u09c7\\u0964 \\u09ac\\u09c3\\u09b9\\u09b8\\u09cd\\u09aa\\u09a4\\u09bf\\u09ac\\u09be\\u09b0 (\\u09e8\\u09e6 \\u09b8\\u09c7\\u09aa\\u09cd\\u099f\\u09c7\\u09ae\\u09cd\\u09ac\\u09b0) \\u09b6\\u09b0\\u09a3\\u0996\\u09cb\\u09b2\\u09be \\u0989\\u09aa\\u099c\\u09c7\\u09b2\\u09be \\u0998\\u09c1\\u09b0\\u09c7 \\u09a8\\u09bf\\u09b0\\u09cd\\u09ae\\u09be\\u09a3 \\u09b8\\u09ae\\u09cd\\u09aa\\u09a8\\u09cd\\u09a8 \\u0985\\u09a8\\u09c7\\u0995 \\u0998\\u09b0 \\u09a6\\u09c7\\u0996\\u09be \\u09af\\u09be\\u09df\\u0964 \\u0998\\u09b0 \\u09aa\\u09c7\\u09df\\u09c7 \\u0986\\u09a8\\u09a8\\u09cd\\u09a6 \\u09aa\\u09cd\\u09b0\\u0995\\u09be\\u09b6 \\u0995\\u09b0\\u09c7\\u099b\\u09c7\\u09a8 \\u0985\\u09a8\\u09c7\\u0995\\u09c7\\u0964 \\u0985\\u09a8\\u09c7\\u0995\\u09c7\\u0987 \\u09a7\\u09a8\\u09cd\\u09af\\u09ac\\u09be\\u09a6 \\u099c\\u09be\\u09a8\\u09bf\\u09df\\u09c7\\u099b\\u09c7\\u09a8 \\u09aa\\u09cd\\u09b0\\u09a7\\u09be\\u09a8\\u09ae\\u09a8\\u09cd\\u09a4\\u09cd\\u09b0\\u09c0\\u0995\\u09c7\\u0964 \\u099c\\u09c7\\u09b2\\u09be \\u09aa\\u09cd\\u09b0\\u09b6\\u09be\\u09b8\\u09a8 \\u09b8\\u09c2\\u09a4\\u09cd\\u09b0\\u09c7 \\u099c\\u09be\\u09a8\\u09be \\u0997\\u09c7\\u099b\\u09c7, \\u09af\\u09c7\\u09b8\\u09ac \\u09a6\\u09b0\\u09bf\\u09a6\\u09cd\\u09b0 \\u09ae\\u09be\\u09a8\\u09c1\\u09b7\\u09a6\\u09c7\\u09b0 \\u09e7 \\u09a5\\u09c7\\u0995\\u09c7 \\u09e7\\u09e6 \\u09b6\\u09a4\\u09be\\u0982\\u09b6 \\u099c\\u09ae\\u09bf \\u0986\\u099b\\u09c7, \\u0995\\u09bf\\u09a8\\u09cd\\u09a4\\u09c1 \\u09a5\\u09be\\u0995\\u09be\\u09b0 \\u09ae\\u09a4\\u09cb \\u09ae\\u09be\\u09a8\\u09b8\\u09ae\\u09cd\\u09ae\\u09a4 \\u0998\\u09b0 \\u09a8\\u09c7\\u0987, \\u09a4\\u09be\\u09a6\\u09c7\\u09b0 \\u098f\\u0995 \\u09b2\\u09be\\u0996 \\u099f\\u09be\\u0995\\u09be \\u09ac\\u09cd\\u09af\\u09df\\u09c7 \\u09e8\\u09eb\\u09eb \\u09ac\\u09b0\\u09cd\\u0997\\u09ab\\u09c1\\u099f \\u0986\\u09df\\u09a4\\u09a8\\u09c7\\u09b0 \\u09b8\\u09c7\\u09ae\\u09bf \\u09aa\\u09be\\u0995\\u09be \\u0998\\u09b0 \\u0995\\u09b0\\u09c7 \\u09a6\\u09c7\\u0993\\u09df\\u09be \\u09b9\\u099a\\u09cd\\u099b\\u09c7\\u0964 \\u0998\\u09b0\\u09c7\\u09b0 \\u09b8\\u0999\\u09cd\\u0997\\u09c7 \\u09b8\\u09cd\\u09ac\\u09be\\u09b8\\u09cd\\u09a5\\u09cd\\u09af \\u09b8\\u09ae\\u09cd\\u09ae\\u09a4 \\u099f\\u09df\\u09c7\\u09b2\\u09c7\\u099f\\u0993 \\u09a4\\u09c8\\u09b0\\u09bf \\u0995\\u09b0\\u09c7 \\u09a6\\u09c7\\u0993\\u09df\\u09be \\u09b9\\u099a\\u09cd\\u099b\\u09c7\\u0964 \\u09b8\\u09cd\\u09a5\\u09be\\u09a8\\u09c0\\u09df \\u09aa\\u09cd\\u09b0\\u09b6\\u09be\\u09b8\\u09a8 \\u0993 \\u099c\\u09a8\\u09aa\\u09cd\\u09b0\\u09a4\\u09bf\\u09a8\\u09bf\\u09a7\\u09bf\\u09a6\\u09c7\\u09b0 \\u09a6\\u09c7\\u0993\\u09df\\u09be \\u09b9\\u09a4 \\u09a6\\u09b0\\u09bf\\u09a6\\u09cd\\u09b0\\u09a6\\u09c7\\u09b0 \\u09a4\\u09be\\u09b2\\u09bf\\u0995\\u09be\\u09ad\\u09c1\\u0995\\u09cd\\u09a4\\u09a6\\u09c7\\u09b0 \\u098f \\u0998\\u09b0 \\u09a6\\u09c7\\u0993\\u09df\\u09be \\u09b9\\u09df\\u09c7\\u099b\\u09c7\\u0964 \\u09b6\\u09b0\\u09a3\\u0996\\u09cb\\u09b2\\u09be \\u0989\\u09aa\\u099c\\u09c7\\u09b2\\u09be \\u09b8\\u09a6\\u09b0\\u09c7\\u09b0 \\u09b0\\u09be\\u09df\\u09c7\\u09a8\\u09cd\\u09a6\\u09be \\u0997\\u09cd\\u09b0\\u09be\\u09ae\\u09c7 \\u09b8\\u09b0\\u0995\\u09be\\u09b0\\u09bf \\u0998\\u09b0\\u09aa\\u09cd\\u09b0\\u09be\\u09aa\\u09cd\\u09a4 \\u09b9\\u09be\\u0993\\u09df\\u09be \\u09ac\\u09c7\\u0997\\u09ae \\u09ac\\u09be\\u0982\\u09b2\\u09be\\u09a8\\u09bf\\u0989\\u099c\\u0995\\u09c7 \\u09ac\\u09b2\\u09c7\\u09a8, \\u09b8\\u09bf\\u09a1\\u09b0\\u09c7 \\u0986\\u09ae\\u09be\\u09a6\\u09c7\\u09b0 \\u0998\\u09b0\\u09ac\\u09be\\u09dc\\u09bf \\u09ac\\u09bf\\u09a6\\u09cd\\u09a7\\u09b8\\u09cd\\u09a4 \\u09b9\\u09df\\u09c7 \\u09af\\u09be\\u09df\\u0964 \\u09aa\\u09b0\\u09c7 \\u0985\\u09b0\\u09cd\\u09a5\\u09be\\u09ad\\u09be\\u09ac\\u09c7 \\u09ad\\u09be\\u09b2\\u09cb \\u0998\\u09b0 \\u09a4\\u09c8\\u09b0\\u09bf \\u0995\\u09b0\\u09a4\\u09c7 \\u09aa\\u09be\\u09b0\\u09c7\\u09a8\\u09bf\\u0964 \\u099b\\u09be\\u09aa\\u09dc\\u09be \\u0998\\u09b0\\u09c7 \\u09a5\\u09be\\u0995\\u09a4\\u09be\\u09ae\\u0964 \\u099d\\u09dc-\\u09ac\\u09c3\\u09b7\\u09cd\\u099f\\u09bf \\u09b9\\u09b2\\u09c7\\u0987 \\u09aa\\u09be\\u09a8\\u09bf\\u09a4\\u09c7 \\u09ad\\u09c7\\u09b8\\u09c7 \\u09af\\u09c7\\u09a4\\u09cb \\u0998\\u09b0\\u09c7\\u09b0 \\u09ae\\u09c7\\u099d\\u09c7\\u0964 \\u098f\\u0996\\u09a8 \\u09b8\\u09b0\\u0995\\u09be\\u09b0 \\u0986\\u09ae\\u09be\\u09a6\\u09c7\\u09b0 \\u0998\\u09b0 \\u09a6\\u09bf\\u09df\\u09c7\\u099b\\u09c7\\u0964 \\u098f\\u0995\\u0987 \\u09b8\\u0999\\u09cd\\u0997\\u09c7 \\u09aa\\u09be\\u0995\\u09be \\u099f\\u09df\\u09b2\\u09c7\\u099f\\u0993 \\u09a4\\u09c8\\u09b0\\u09bf \\u0995\\u09b0\\u09c7 \\u09a6\\u09bf\\u09df\\u09c7\\u099b\\u09c7\\u0964 \\u09b8\\u09b0\\u0995\\u09be\\u09b0\\u09c7\\u09b0 \\u09a6\\u09c7\\u0993\\u09df\\u09be \\u0998\\u09b0 \\u09aa\\u09c7\\u09df\\u09c7 \\u09b8\\u09cd\\u09ac\\u09be\\u09ae\\u09c0-\\u09b8\\u09a8\\u09cd\\u09a4\\u09be\\u09a8 \\u09a8\\u09bf\\u09df\\u09c7 \\u09aa\\u09be\\u0995\\u09be \\u0998\\u09b0\\u09c7 \\u09a5\\u09be\\u0995\\u09be\\u09b0 \\u09b8\\u09cd\\u09ac\\u09aa\\u09cd\\u09a8 \\u09aa\\u09c2\\u09b0\\u09a3 \\u09b9\\u09df\\u09c7\\u099b\\u09c7\\u0964\\u00a0 \\u0998\\u09b0\\u09aa\\u09cd\\u09b0\\u09be\\u09aa\\u09cd\\u09a4 \\u09b0\\u09a4\\u09cd\\u09ae\\u09be \\u0986\\u0995\\u09cd\\u09a4\\u09be\\u09b0 \\u09ac\\u09b2\\u09c7\\u09a8, \\u099b\\u09c7\\u09b2\\u09c7 \\u0993 \\u099b\\u09c7\\u09b2\\u09c7\\u09b0 \\u09ac\\u0989 \\u09a8\\u09bf\\u09df\\u09c7 \\u099b\\u09be\\u09aa\\u09dc\\u09be \\u0998\\u09b0\\u09c7\\u09b0 \\u098f\\u0995\\u09aa\\u09be\\u09b6\\u09c7 \\u09a5\\u09be\\u0995\\u09a4\\u09be\\u09ae\\u0964 \\u0985\\u09a8\\u09cd\\u09af\\u09aa\\u09be\\u09b6\\u09c7 \\u09a8\\u09bf\\u099c\\u09c7\\u09b0 \\u09aa\\u09cb\\u09b6\\u09be \\u09a6\\u09c1\\u099f\\u09bf \\u0997\\u09b0\\u09c1 \\u09b0\\u09be\\u0996\\u09a4\\u09be\\u09ae\\u0964 \\u0997\\u09a8\\u09cd\\u09a7\\u09c7 \\u0998\\u09c1\\u09ae\\u09cb\\u09a4\\u09c7 \\u0995\\u09b8\\u09cd\\u099f \\u09b9\\u09a4\\u09cb\\u0964 \\u098f\\u0996\\u09a8 \\u09b8\\u09b0\\u0995\\u09be\\u09b0\\u09bf \\u09aa\\u09be\\u0995\\u09be \\u0998\\u09b0\\u09c7 \\u09a5\\u09be\\u0995\\u09bf\\u0964 \\u0986\\u09b0 \\u0997\\u09b0\\u09c1 \\u09a6\\u09c1\\u099f\\u09cb\\u0993 \\u0996\\u09c1\\u09ac \\u09ad\\u09be\\u09b2 \\u0986\\u099b\\u09c7 \\u098f\\u0996\\u09a8\\u0964 \\u09b8\\u09cd\\u09a5\\u09be\\u09a8\\u09c0\\u09df \\u09b0\\u09be\\u09df\\u09c7\\u09a8\\u09cd\\u09a6\\u09be \\u0987\\u0989\\u09a8\\u09bf\\u09df\\u09a8 \\u09aa\\u09b0\\u09bf\\u09b7\\u09a6\\u09c7\\u09b0 \\u09aa\\u09cd\\u09af\\u09be\\u09a8\\u09c7\\u09b2 \\u099a\\u09c7\\u09df\\u09be\\u09b0\\u09ae\\u09cd\\u09af\\u09be\\u09a8 \\u099c\\u09be\\u09b2\\u09be\\u09b2 \\u0989\\u09a6\\u09cd\\u09a6\\u09bf\\u09a8 \\u09b0\\u09c1\\u09ae\\u09c0 \\u09ac\\u09be\\u0982\\u09b2\\u09be\\u09a8\\u09bf\\u0989\\u099c\\u0995\\u09c7 \\u09ac\\u09b2\\u09c7\\u09a8, \\u0987\\u0989\\u09a8\\u09bf\\u09df\\u09a8\\u09c7 \\u09af\\u09be\\u09a6\\u09c7\\u09b0 \\u099c\\u09ae\\u09bf \\u0986\\u099b\\u09c7 \\u0995\\u09bf\\u09a8\\u09cd\\u09a4\\u09c1 \\u09a5\\u09be\\u0995\\u09be\\u09b0 \\u09ae\\u09a4\\u09cb \\u09ad\\u09be\\u09b2 \\u0998\\u09b0 \\u09a8\\u09c7\\u0987, \\u09a4\\u09be\\u09a6\\u09c7\\u09b0 \\u09a4\\u09be\\u09b2\\u09bf\\u0995\\u09be \\u09a4\\u09c8\\u09b0\\u09bf \\u0995\\u09b0\\u09c7 \\u09a6\\u09bf\\u09df\\u09c7\\u099b\\u09bf\\u0964 \\u09ac\\u09bf\\u09a8\\u09be\\u09ae\\u09c2\\u09b2\\u09cd\\u09af\\u09c7 \\u09b8\\u09c7\\u09ae\\u09bf \\u09aa\\u09be\\u0995\\u09be \\u0998\\u09b0 \\u09aa\\u09c7\\u09df\\u09c7 \\u09a6\\u09b0\\u09bf\\u09a6\\u09cd\\u09b0\\u09b0\\u09be \\u0996\\u09c1\\u09b6\\u09bf \\u09b9\\u09df\\u09c7\\u099b\\u09c7\\u09a8\\u0964\\u00a0 \\u09b6\\u09b0\\u09a3\\u0996\\u09cb\\u09b2\\u09be \\u0989\\u09aa\\u099c\\u09c7\\u09b2\\u09be \\u09a8\\u09bf\\u09b0\\u09cd\\u09ac\\u09be\\u09b9\\u09c0 \\u0995\\u09b0\\u09cd\\u09ae\\u0995\\u09b0\\u09cd\\u09a4\\u09be (\\u0987\\u0989\\u098f\\u09a8\\u0993) \\u09b2\\u09bf\\u0982\\u0995\\u09a8 \\u09ac\\u09bf\\u09b6\\u09cd\\u09ac\\u09be\\u09b8 \\u099c\\u09be\\u09a8\\u09be\\u09a8, \\u2018\\u099c\\u09ae\\u09bf \\u0986\\u099b\\u09c7 \\u0998\\u09b0 \\u09a8\\u09be\\u0987\\u2019 \\u09aa\\u09cd\\u09b0\\u0995\\u09b2\\u09cd\\u09aa\\u09c7\\u09b0 \\u0986\\u0993\\u09a4\\u09be\\u09df \\u09b6\\u09b0\\u09a3\\u0996\\u09cb\\u09b2\\u09be\\u09df \\u099a\\u09be\\u09b0\\u099f\\u09bf \\u0987\\u0989\\u09a8\\u09bf\\u09df\\u09a8 \\u09a5\\u09c7\\u0995\\u09c7 \\u09aa\\u09cd\\u09b0\\u09a5\\u09ae \\u09aa\\u09b0\\u09cd\\u09af\\u09be\\u09df\\u09c7 \\u09ef\\u09e7\\u099f\\u09bf \\u09aa\\u09b0\\u09bf\\u09ac\\u09be\\u09b0\\u09c7\\u09b0 \\u09a4\\u09be\\u09b2\\u09bf\\u0995\\u09be \\u09aa\\u09be\\u09a0\\u09be\\u09a8\\u09cb \\u09b9\\u09df\\u09c7\\u099b\\u09bf\\u09b2\\u0964 \\u09a4\\u09be\\u09a4\\u09c7 \\u09ef\\u09e7\\u099f\\u09bf \\u0998\\u09b0 \\u0985\\u09a8\\u09c1\\u09ae\\u09cb\\u09a6\\u09a8 \\u09b9\\u09df\\u09c7 \\u09a8\\u09bf\\u09b0\\u09cd\\u09ae\\u09be\\u09a3\\u09c7\\u09b0 \\u099c\\u09a8\\u09cd\\u09af \\u09ef\\u09e7 \\u09b2\\u09be\\u0996 \\u099f\\u09be\\u0995\\u09be \\u09ac\\u09b0\\u09be\\u09a6\\u09cd\\u09a6 \\u09aa\\u09be\\u0993\\u09df\\u09be \\u0997\\u09c7\\u099b\\u09c7\\u0964 \\u098f\\u0995 \\u09b2\\u09be\\u0996 \\u099f\\u09be\\u0995\\u09be \\u0995\\u09b0\\u09c7 \\u09af\\u09c7 \\u09ac\\u09be\\u099c\\u09c7\\u099f \\u09b8\\u09b0\\u0995\\u09be\\u09b0 \\u09a5\\u09c7\\u0995\\u09c7 \\u09a6\\u09c7\\u0993\\u09df\\u09be \\u09b9\\u09df\\u09c7\\u099b\\u09c7, \\u09a4\\u09be \\u09a6\\u09bf\\u09df\\u09c7\\u0987 \\u09a8\\u09bf\\u09b0\\u09cd\\u09a6\\u09bf\\u09b7\\u09cd\\u099f \\u09a1\\u09bf\\u099c\\u09be\\u0987\\u09a8\\u09c7 \\u09a4\\u09c8\\u09b0\\u09bf \\u0995\\u09b0\\u09be \\u09b9\\u09df\\u09c7\\u099b\\u09c7 \\u09b6\\u09b0\\u09a3\\u0996\\u09cb\\u09b2\\u09be \\u0989\\u09aa\\u099c\\u09c7\\u09b2\\u09be\\u09b0 \\u0998\\u09b0\\u0997\\u09c1\\u09b2\\u09cb\\u0964 \\u098f\\u099b\\u09be\\u09dc\\u09be \\u09a6\\u09cd\\u09ac\\u09bf\\u09a4\\u09c0\\u09df \\u09aa\\u09b0\\u09cd\\u09af\\u09be\\u09df\\u09c7 \\u09eb\\u09ee\\u09eb\\u099f\\u09bf \\u0998\\u09b0 \\u09a8\\u09bf\\u09b0\\u09cd\\u09ae\\u09be\\u09a3 \\u0995\\u09be\\u099c \\u099a\\u09b2\\u099b\\u09c7 \\u09ac\\u09b2\\u09c7\\u0993 \\u099c\\u09be\\u09a8\\u09be\\u09a8 \\u09a4\\u09bf\\u09a8\\u09bf\\u0964 \\u099c\\u09c7\\u09b2\\u09be \\u09aa\\u09cd\\u09b0\\u09b6\\u09be\\u09b8\\u0995 (\\u09a1\\u09bf\\u09b8\\u09bf) \\u09a4\\u09aa\\u09a8 \\u0995\\u09c1\\u09ae\\u09be\\u09b0 \\u09ac\\u09bf\\u09b6\\u09cd\\u09ac\\u09be\\u09b8 \\u09ac\\u09b2\\u09c7\\u09a8, \\u09ac\\u09be\\u0997\\u09c7\\u09b0\\u09b9\\u09be\\u099f \\u099c\\u09c7\\u09b2\\u09be\\u09b0 \\u09a8\\u09df\\u099f\\u09bf \\u0989\\u09aa\\u099c\\u09c7\\u09b2\\u09be\\u09df \\u2018\\u099c\\u09ae\\u09bf \\u0986\\u099b\\u09c7 \\u0998\\u09b0 \\u09a8\\u09c7\\u0987\\u2019 \\u09aa\\u09cd\\u09b0\\u0995\\u09b2\\u09cd\\u09aa\\u09c7\\u09b0 \\u0986\\u0993\\u09a4\\u09be\\u09df \\u09e9 \\u09b9\\u09be\\u099c\\u09be\\u09b0 \\u09ee\\u09ed\\u09e7\\u099f\\u09bf \\u0998\\u09b0 \\u09ac\\u09b0\\u09be\\u09a6\\u09cd\\u09a6 \\u09a6\\u09c7\\u0993\\u09df\\u09be \\u09b9\\u09df\\u09c7\\u099b\\u09c7\\u0964 \\u098f\\u09b0 \\u09ae\\u09a7\\u09cd\\u09af\\u09c7 \\u09ef\\u09e7\\u09ea\\u099f\\u09bf \\u0998\\u09b0\\u09c7\\u09b0 \\u09a8\\u09bf\\u09b0\\u09cd\\u09ae\\u09be\\u09a3 \\u0995\\u09be\\u099c \\u09b8\\u09ae\\u09cd\\u09aa\\u09a8\\u09cd\\u09a8 \\u09b9\\u09df\\u09c7\\u099b\\u09c7\\u0964 \\u09e8 \\u09b9\\u09be\\u099c\\u09be\\u09b0 \\u09ef\\u09eb\\u09ed\\u099f\\u09bf \\u0998\\u09b0 \\u09a8\\u09bf\\u09b0\\u09cd\\u09ae\\u09be\\u09a3\\u09be\\u09a7\\u09c0\\u09a8 \\u09b0\\u09df\\u09c7\\u099b\\u09c7\\u0964 \\u09af\\u09be\\u09b0 \\u0995\\u09be\\u099c \\u0996\\u09c1\\u09ac \\u09a6\\u09cd\\u09b0\\u09c1\\u09a4 \\u09b8\\u09ae\\u09cd\\u09aa\\u09a8\\u09cd\\u09a8 \\u09b9\\u09ac\\u09c7\\u0964\\u00a0 \\u09ac\\u09be\\u0982\\u09b2\\u09be\\u09a6\\u09c7\\u09b6 \\u09b8\\u09ae\\u09df: \\u09e7\\u09ee\\u09e7\\u09ee \\u0998\\u09a3\\u09cd\\u099f\\u09be, \\u09b8\\u09c7\\u09aa\\u09cd\\u099f\\u09c7\\u09ae\\u09cd\\u09ac\\u09b0 \\u09e8\\u09e6, \\u09e8\\u09e6\\u09e7\\u09ee \\u098f\\u09b8\\u0986\\u09b0\\u098f\\u09b8\",\n          \"\\u0995\\u09cb\\u099f\\u09bf \\u099f\\u09be\\u0995\\u09be\\u09b0 \\u09ac\\u09c7\\u09b6\\u09bf \\u0985\\u09ac\\u09c8\\u09a7 \\u09b8\\u09ae\\u09cd\\u09aa\\u09a6\\u09c7\\u09b0 \\u0996\\u09cb\\u0981\\u099c \\u09aa\\u09be\\u0993\\u09df\\u09be\\u09df \\u09aa\\u09c1\\u09b2\\u09bf\\u09b6\\u09c7\\u09b0 \\u0989\\u09aa-\\u09ae\\u09b9\\u09be\\u09aa\\u09b0\\u09bf\\u09a6\\u09b0\\u09cd\\u09b6\\u0995 (\\u09a1\\u09bf\\u0986\\u0987\\u099c\\u09bf) \\u09ae\\u09bf\\u099c\\u09be\\u09a8\\u09c1\\u09b0 \\u09b0\\u09b9\\u09ae\\u09be\\u09a8\\u0995\\u09c7 \\u09a6\\u09cd\\u09ac\\u09bf\\u09a4\\u09c0\\u09df \\u09a6\\u09ab\\u09be\\u09df \\u0993 \\u09a4\\u09be\\u09b0 \\u09b8\\u09cd\\u09a4\\u09cd\\u09b0\\u09c0 \\u09b8\\u09cb\\u09b9\\u09c7\\u09b2\\u09bf\\u09df\\u09be \\u0986\\u09a8\\u09be\\u09b0 \\u09b0\\u09a4\\u09cd\\u09a8\\u09be\\u0995\\u09c7 \\u09aa\\u09cd\\u09b0\\u09a5\\u09ae \\u09ac\\u09be\\u09b0\\u09c7\\u09b0 \\u09ae\\u09a4\\u09cb \\u099c\\u09bf\\u099c\\u09cd\\u099e\\u09be\\u09b8\\u09be\\u09ac\\u09be\\u09a6\\u09c7\\u09b0 \\u099c\\u09a8\\u200c\\u09cd\\u09af \\u09a4\\u09b2\\u09ac \\u0995\\u09b0\\u09c7\\u099b\\u09c7 \\u09a6\\u09c1\\u09b0\\u09cd\\u09a8\\u09c0\\u09a4\\u09bf \\u09a6\\u09ae\\u09a8 \\u0995\\u09ae\\u09bf\\u09b6\\u09a8 (\\u09a6\\u09c1\\u09a6\\u0995)\\u0964 \\u09ac\\u09c1\\u09a7\\u09ac\\u09be\\u09b0 \\u09a6\\u09c1\\u09a6\\u0995\\u09c7\\u09b0 \\u09aa\\u09cd\\u09b0\\u09a7\\u09be\\u09a8 \\u0995\\u09be\\u09b0\\u09cd\\u09af\\u09be\\u09b2\\u09df \\u09a5\\u09c7\\u0995\\u09c7 \\u09aa\\u09be\\u09a0\\u09be\\u09a8\\u09cb \\u09a8\\u09cb\\u099f\\u09bf\\u09b6\\u09c7 \\u09a4\\u09be\\u09a6\\u09c7\\u09b0\\u0995\\u09c7 \\u0986\\u0997\\u09be\\u09ae\\u09c0 \\u09e9\\u09e6 \\u09b8\\u09c7\\u09aa\\u09cd\\u099f\\u09c7\\u09ae\\u09cd\\u09ac\\u09b0 \\u09b8\\u0995\\u09be\\u09b2\\u09c7 \\u09a6\\u09c1\\u09a6\\u0995\\u09c7\\u09b0 \\u09aa\\u09cd\\u09b0\\u09a7\\u09be\\u09a8 \\u0995\\u09be\\u09b0\\u09cd\\u09af\\u09be\\u09b2\\u09df\\u09c7 \\u09b9\\u09be\\u099c\\u09bf\\u09b0 \\u09b9\\u09a4\\u09c7 \\u09ac\\u09b2\\u09be \\u09b9\\u09df\\u09c7\\u099b\\u09c7\\u0964 \\u09a6\\u09c1\\u09a6\\u0995\\u09c7\\u09b0 \\u0989\\u09aa-\\u09aa\\u09b0\\u09bf\\u099a\\u09be\\u09b2\\u0995 \\u0993 \\u0985\\u09a8\\u09c1\\u09b8\\u09a8\\u09cd\\u09a7\\u09be\\u09a8 \\u0995\\u09b0\\u09cd\\u09ae\\u0995\\u09b0\\u09cd\\u09a4\\u09be \\u09ab\\u09b0\\u09bf\\u09a6 \\u0986\\u09b9\\u09ae\\u09c7\\u09a6 \\u09aa\\u09be\\u099f\\u09cb\\u09df\\u09be\\u09b0\\u09c0\\u09b0 \\u09b8\\u0987 \\u0995\\u09b0\\u09be \\u09a8\\u09cb\\u099f\\u09bf\\u09b6 \\u09a4\\u09be\\u09a6\\u09c7\\u09b0 \\u0989\\u09a4\\u09cd\\u09a4\\u09b0\\u09be\\u09b0 \\u09e7\\u09e9 \\u09a8\\u09ae\\u09cd\\u09ac\\u09b0 \\u09b8\\u09c7\\u0995\\u09cd\\u099f\\u09b0\\u09c7\\u09b0 \\u09e8\\u09ef \\u09a8\\u0982 \\u09ac\\u09be\\u09dc\\u09bf\\u09b0 \\u09a0\\u09bf\\u0995\\u09be\\u09a8\\u09be\\u09df \\u09aa\\u09be\\u09a0\\u09be\\u09a8\\u09cb \\u09b9\\u09df\\u09c7\\u099b\\u09c7\\u0964 \\u09a6\\u09c1\\u09a6\\u0995\\u09c7\\u09b0 \\u098a\\u09b0\\u09cd\\u09a7\\u09cd\\u09ac\\u09a4\\u09a8 \\u098f\\u0995\\u099f\\u09bf \\u09b8\\u09c2\\u09a4\\u09cd\\u09b0 \\u09b0\\u09be\\u0987\\u099c\\u09bf\\u0982\\u09ac\\u09bf\\u09a1\\u09bf\\u0995\\u09c7 \\u09a8\\u09cb\\u099f\\u09bf\\u09b6 \\u09aa\\u09be\\u09a0\\u09be\\u09a8\\u09c7\\u09be\\u09b0 \\u09ac\\u09bf\\u09b7\\u09df\\u099f\\u09bf \\u09a8\\u09bf\\u09b6\\u09cd\\u099a\\u09bf\\u09a4 \\u0995\\u09b0\\u09c7\\u099b\\u09c7\\u0964 \\u098f\\u09a6\\u09bf\\u0995\\u09c7, \\u09a6\\u09c1\\u09a6\\u0995\\u09c7\\u09b0 \\u09aa\\u09cd\\u09b0\\u09be\\u09a5\\u09ae\\u09bf\\u0995 \\u0985\\u09a8\\u09c1\\u09b8\\u09a8\\u09cd\\u09a7\\u09be\\u09a8\\u09c7 \\u09a1\\u09bf\\u0986\\u0987\\u099c\\u09bf \\u09ae\\u09bf\\u099c\\u09be\\u09a8\\u09c7\\u09b0 \\u09a8\\u09be\\u09ae\\u09c7 \\u09ea\\u09ec \\u09b2\\u09be\\u0996 \\u09e9\\u09e8 \\u09b9\\u09be\\u099c\\u09be\\u09b0 \\u09e7\\u09ef\\u09e7 \\u099f\\u09be\\u0995\\u09be\\u09b0 \\u098f\\u09ac\\u0982 \\u09a4\\u09be\\u09b0 \\u09b8\\u09cd\\u09a4\\u09cd\\u09b0\\u09c0\\u09b0 \\u09a8\\u09be\\u09ae\\u09c7 \\u09ed\\u09e8 \\u09b2\\u09be\\u0996 \\u09ef\\u09e6 \\u09b9\\u09be\\u099c\\u09be\\u09b0 \\u09ef\\u09eb\\u09e8 \\u099f\\u09be\\u0995\\u09be\\u09b0 \\u0985\\u09b8\\u0999\\u09cd\\u0997\\u09a4\\u09bf\\u09aa\\u09c2\\u09b0\\u09cd\\u09a3 \\u09b8\\u09cd\\u09a5\\u09be\\u09ac\\u09b0 \\u0993 \\u0985\\u09b8\\u09cd\\u09a5\\u09be\\u09ac\\u09b0 \\u09b8\\u09ae\\u09cd\\u09aa\\u09a6\\u09c7\\u09b0 \\u0996\\u09cb\\u0981\\u099c \\u09aa\\u09be\\u0993\\u09df\\u09be \\u0997\\u09c7\\u099b\\u09c7\\u0964 \\u098f\\u099b\\u09be\\u09dc\\u09be, \\u09ae\\u09bf\\u099c\\u09be\\u09a8\\u09c1\\u09b0 \\u09b0\\u09b9\\u09ae\\u09be\\u09a8\\u09c7\\u09b0 \\u099b\\u09cb\\u099f \\u09ad\\u09be\\u0987 \\u09ae\\u09be\\u09b9\\u09ac\\u09c1\\u09ac\\u09c1\\u09b0 \\u09b0\\u09b9\\u09ae\\u09be\\u09a8 \\u09b8\\u09cd\\u09ac\\u09aa\\u09a8 \\u0993 \\u09ad\\u09be\\u0997\\u09a8\\u09c7 \\u09aa\\u09c1\\u09b2\\u09bf\\u09b6\\u09c7\\u09b0 \\u098f\\u09b8\\u0986\\u0987 \\u09ae\\u09be\\u09b9\\u09be\\u09ae\\u09c1\\u09a6\\u09c1\\u09b2 \\u09b9\\u09be\\u09b8\\u09be\\u09a8\\u09c7\\u09b0 \\u09a8\\u09be\\u09ae\\u09c7\\u0993 \\u09b8\\u09cd\\u09a5\\u09be\\u09ac\\u09b0 \\u0993 \\u0985\\u09b8\\u09cd\\u09a5\\u09be\\u09ac\\u09b0 \\u09ac\\u200c\\u09cd\\u09af\\u09be\\u09aa\\u0995 \\u09b8\\u09ae\\u09cd\\u09aa\\u09a6\\u09c7\\u09b0 \\u0996\\u09cb\\u0981\\u099c \\u09aa\\u09be\\u0993\\u09df\\u09be \\u0997\\u09c7\\u099b\\u09c7\\u0964 \\u09a6\\u09c1\\u09a6\\u0995\\u09c7\\u09b0 \\u09a7\\u09be\\u09b0\\u09a3\\u09be, \\u098f\\u09b8\\u09ac \\u09b8\\u09ae\\u09cd\\u09aa\\u09a6\\u09c7\\u09b0 \\u09aa\\u09cd\\u09b0\\u0995\\u09c3\\u09a4 \\u09ae\\u09be\\u09b2\\u09bf\\u0995 \\u09b9\\u099a\\u09cd\\u099b\\u09c7\\u09a8 \\u09a1\\u09bf\\u0986\\u0987\\u099c\\u09bf \\u09ae\\u09bf\\u099c\\u09be\\u09a8\\u0964 \\u098f \\u0995\\u09be\\u09b0\\u09a3\\u09c7\\u0987 \\u0987\\u09a4\\u09bf\\u09ae\\u09a7\\u200c\\u09cd\\u09af\\u09c7 \\u09a6\\u09c1\\u09a6\\u0995 \\u0986\\u0987\\u09a8\\u09c7\\u09b0 \\u09e8\\u09ec(\\u09e7) \\u09a7\\u09be\\u09b0\\u09be\\u09df \\u09ae\\u09bf\\u099c\\u09be\\u09a8\\u09c1\\u09b0 \\u09b0\\u09b9\\u09ae\\u09be\\u09a8 \\u0993 \\u09a4\\u09be\\u09b0 \\u09b8\\u09cd\\u09a4\\u09cd\\u09b0\\u09c0\\u09b0 \\u09a8\\u09be\\u09ae\\u09c7 \\u09b8\\u09ae\\u09cd\\u09aa\\u09a6 \\u09ac\\u09bf\\u09ac\\u09b0\\u09a3\\u09c0 \\u09a6\\u09be\\u0996\\u09bf\\u09b2\\u09c7\\u09b0 \\u09a8\\u09cb\\u099f\\u09bf\\u09b6 \\u099c\\u09be\\u09b0\\u09bf \\u0995\\u09b0\\u09c7 \\u09b8\\u0982\\u09b8\\u09cd\\u09a5\\u09be\\u099f\\u09bf\\u0964 \\u09a6\\u09c1\\u09a6\\u0995 \\u099c\\u09be\\u09a8\\u09be\\u09df, \\u09ae\\u09bf\\u099c\\u09be\\u09a8\\u09c1\\u09b0 \\u09b0\\u09b9\\u09ae\\u09be\\u09a8 \\u0986\\u09df\\u0995\\u09b0 \\u09a8\\u09a5\\u09bf\\u09a4\\u09c7 \\u09a4\\u09be\\u09b0 \\u09a8\\u09be\\u09ae\\u09c7 \\u09b8\\u09cd\\u09a5\\u09be\\u09ac\\u09b0 \\u0993 \\u0985\\u09b8\\u09cd\\u09a5\\u09be\\u09ac\\u09b0 \\u09ae\\u09cb\\u099f \\u09e7 \\u0995\\u09cb\\u099f\\u09bf \\u09eb\\u09e9 \\u09b2\\u09be\\u0996 \\u09ed\\u09e6 \\u09b9\\u09be\\u099c\\u09be\\u09b0 \\u09ed\\u09ec\\u09e9 \\u099f\\u09be\\u0995\\u09be\\u09b0 \\u09b8\\u09ae\\u09cd\\u09aa\\u09a6 \\u09a6\\u09c7\\u0996\\u09bf\\u09df\\u09c7\\u099b\\u09c7\\u09a8\\u0964 \\u09a4\\u09ac\\u09c7 \\u09a6\\u09c1\\u09a6\\u0995\\u09c7\\u09b0 \\u0985\\u09a8\\u09c1\\u09b8\\u09a8\\u09cd\\u09a7\\u09be\\u09a8\\u09c7 \\u0986\\u09df\\u0995\\u09b0 \\u09a8\\u09a5\\u09bf\\u09b0 \\u09ac\\u09be\\u0987\\u09b0\\u09c7 \\u09ea\\u09ec \\u09b2\\u09be\\u0996 \\u09e9\\u09e8 \\u09b9\\u09be\\u099c\\u09be\\u09b0 \\u09e7\\u09ef\\u09e7 \\u099f\\u09be\\u0995\\u09be\\u09b0 \\u099c\\u09cd\\u099e\\u09be\\u09a4 \\u0986\\u09df\\u09ac\\u09b9\\u09bf\\u09b0\\u09cd\\u09ad\\u09c2\\u09a4 \\u09b8\\u09ae\\u09cd\\u09aa\\u09a6\\u09c7\\u09b0 \\u0996\\u09cb\\u0981\\u099c \\u09ae\\u09bf\\u09b2\\u09c7\\u099b\\u09c7\\u0964 \\u0985\\u09a8\\u200c\\u09cd\\u09af\\u09a6\\u09bf\\u0995\\u09c7, \\u09b8\\u09cb\\u09b9\\u09c7\\u09b2\\u09bf\\u09df\\u09be \\u0986\\u09a8\\u09be\\u09b0 \\u09b0\\u09a4\\u09cd\\u09a8\\u09be \\u0986\\u09df\\u0995\\u09b0 \\u09a8\\u09a5\\u09bf\\u09a4\\u09c7 \\u09b8\\u09cd\\u09a5\\u09be\\u09ac\\u09b0 \\u0993 \\u0985\\u09b8\\u09cd\\u09a5\\u09be\\u09ac\\u09b0 \\u09ae\\u09cb\\u099f \\u09ee\\u09eb \\u09b2\\u09be\\u0996 \\u09ea\\u09ec \\u09b9\\u09be\\u099c\\u09be\\u09b0 \\u09ef\\u09e9\\u09eb \\u099f\\u09be\\u0995\\u09be\\u09b0 \\u09b8\\u09ae\\u09cd\\u09aa\\u09a6\\u09c7\\u09b0 \\u09a4\\u09a5\\u200c\\u09cd\\u09af \\u09a6\\u09bf\\u09df\\u09c7\\u099b\\u09c7\\u09a8\\u0964 \\u0985\\u09a5\\u099a \\u0986\\u09df\\u09c7\\u09b0 \\u0989\\u09ce\\u09b8 \\u09aa\\u09be\\u0993\\u09df\\u09be \\u09af\\u09be\\u09df \\u09ae\\u09be\\u09a4\\u09cd\\u09b0 \\u09e7\\u09e8 \\u09b2\\u09be\\u0996 \\u09eb\\u09eb \\u09b9\\u09be\\u099c\\u09be\\u09b0 \\u09ef\\u09ee\\u09e9 \\u099f\\u09be\\u0995\\u09be\\u0964 \\u0985\\u09b0\\u09cd\\u09a5\\u09be\\u09ce \\u09a6\\u09c1\\u09a6\\u0995\\u09c7\\u09b0 \\u0985\\u09a8\\u09c1\\u09b8\\u09a8\\u09cd\\u09a7\\u09be\\u09a8\\u09c7 \\u0986\\u09df\\u09c7\\u09b0 \\u09b8\\u0999\\u09cd\\u0997\\u09c7 \\u0985\\u09b8\\u0999\\u09cd\\u0997\\u09a4\\u09bf\\u09aa\\u09c2\\u09b0\\u09cd\\u09a3 \\u09ed\\u09e8 \\u09b2\\u09be\\u0996 \\u09ef\\u09e6 \\u09b9\\u09be\\u099c\\u09be\\u09b0 \\u09ef\\u09eb\\u09e8 \\u099f\\u09be\\u0995\\u09be\\u09b0 \\u09b8\\u09ae\\u09cd\\u09aa\\u09a6 \\u09b0\\u09df\\u09c7\\u099b\\u09c7 \\u09ac\\u09b2\\u09c7 \\u09a6\\u09c1\\u09a6\\u0995 \\u09ae\\u09a8\\u09c7 \\u0995\\u09b0\\u09c7\\u0964 \\u098f\\u099b\\u09be\\u09dc\\u09be, \\u09ae\\u09bf\\u099c\\u09be\\u09a8\\u09c1\\u09b0 \\u09b0\\u09b9\\u09ae\\u09be\\u09a8\\u09c7\\u09b0 \\u099b\\u09cb\\u099f \\u09ad\\u09be\\u0987\\u09df\\u09c7\\u09b0 \\u09a8\\u09be\\u09ae\\u09c7 \\u09b0\\u09be\\u099c\\u09a7\\u09be\\u09a8\\u09c0\\u09b0 \\u09ac\\u09c7\\u0987\\u09b2\\u09bf \\u09b0\\u09cb\\u09a1\\u09c7 \\u09ac\\u09c7\\u0987\\u09b2\\u09bf \\u09b0\\u09cb\\u099c \\u09a8\\u09be\\u09ae\\u09c7\\u09b0 \\u09e8 \\u09b9\\u09be\\u099c\\u09be\\u09b0 \\u09ea\\u09e6\\u09e6 \\u09ac\\u09b0\\u09cd\\u0997\\u09ab\\u09c1\\u099f\\u09c7\\u09b0 \\u09ab\\u09cd\\u09b2\\u200c\\u09cd\\u09af\\u09be\\u099f \\u0993 \\u09ad\\u09be\\u0997\\u09a8\\u09c7 \\u09ae\\u09be\\u09b9\\u09be\\u09ae\\u09c1\\u09a6\\u09c1\\u09b2 \\u09b9\\u09be\\u09b8\\u09be\\u09a8\\u09c7\\u09b0 \\u09a8\\u09be\\u09ae\\u09c7 \\u099a\\u09be\\u0995\\u09b0\\u09bf\\u09a4\\u09c7 \\u09aa\\u09cd\\u09b0\\u09ac\\u09c7\\u09b6\\u09c7\\u09b0 \\u0986\\u0997\\u09c7\\u0987 \\u09a2\\u09be\\u0995\\u09be\\u09b0 \\u09aa\\u09be\\u0987\\u0993\\u09a8\\u09bf\\u09df\\u09be\\u09b0 \\u09b0\\u09cb\\u09a1\\u09c7 \\u09e7 \\u09b9\\u09be\\u099c\\u09be\\u09b0 \\u09ef\\u09e7\\u09ef \\u09ac\\u09b0\\u09cd\\u0997\\u09ab\\u09c1\\u099f\\u09c7\\u09b0 \\u098f\\u0995\\u099f\\u09bf \\u09ab\\u09cd\\u09b2\\u200c\\u09cd\\u09af\\u09be\\u099f\\u09c7\\u09b0 \\u09b8\\u09a8\\u09cd\\u09a7\\u09be\\u09a8 \\u09aa\\u09be\\u0993\\u09df\\u09be \\u09af\\u09be\\u09df\\u0964 \\u09a7\\u09be\\u09b0\\u09a3\\u09be \\u0995\\u09b0\\u09be \\u09b9\\u099a\\u09cd\\u099b\\u09c7, \\u09a1\\u09bf\\u0986\\u0987\\u099c\\u09bf \\u09ae\\u09bf\\u099c\\u09be\\u09a8 \\u09a4\\u09be\\u09a6\\u09c7\\u09b0 \\u09a8\\u09be\\u09ae\\u09c7 \\u098f\\u09b8\\u09ac \\u09b8\\u09ae\\u09cd\\u09aa\\u09a6 \\u0995\\u09b0\\u09c7\\u099b\\u09c7\\u09a8\\u0964 \\u098f\\u09b0 \\u0986\\u0997\\u09c7\\u09b0 \\u099a\\u09b2\\u09a4\\u09bf \\u09ac\\u099b\\u09b0\\u09c7\\u09b0 \\u09e9 \\u09ae\\u09c7 \\u0985\\u09ac\\u09c8\\u09a7 \\u09b8\\u09ae\\u09cd\\u09aa\\u09a6\\u09b8\\u09b9 \\u09ac\\u09bf\\u09ad\\u09bf\\u09a8\\u09cd\\u09a8 \\u09a6\\u09c1\\u09b0\\u09cd\\u09a8\\u09c0\\u09a4\\u09bf\\u09b0 \\u0985\\u09ad\\u09bf\\u09af\\u09cb\\u0997\\u09c7 \\u09aa\\u09cd\\u09b0\\u09a5\\u09ae \\u09a6\\u09ab\\u09be\\u09df \\u09aa\\u09cd\\u09b0\\u09be\\u09df \\u09ed \\u0998\\u09a3\\u09cd\\u099f\\u09be \\u09a1\\u09bf\\u0986\\u0987\\u099c\\u09bf \\u09ae\\u09bf\\u099c\\u09be\\u09a8\\u0995\\u09c7 \\u099c\\u09bf\\u099c\\u09cd\\u099e\\u09be\\u09b8\\u09be\\u09ac\\u09be\\u09a6 \\u0995\\u09b0\\u09c7 \\u09a6\\u09c1\\u09a6\\u0995\\u0964 \\u099c\\u09bf\\u099c\\u09cd\\u099e\\u09be\\u09b8\\u09be\\u09ac\\u09be\\u09a6 \\u09b6\\u09c7\\u09b7\\u09c7 \\u09a1\\u09bf\\u0986\\u0987\\u099c\\u09bf \\u09ae\\u09bf\\u099c\\u09be\\u09a8 \\u09b8\\u09be\\u0982\\u09ac\\u09be\\u09a6\\u09bf\\u0995\\u09a6\\u09c7\\u09b0 \\u09ac\\u09b2\\u09c7\\u09a8, \\u2018\\u0986\\u09ae\\u09be\\u09b0 \\u09af\\u09c7 \\u09b8\\u09ae\\u09cd\\u09aa\\u09a6 \\u0986\\u099b\\u09c7, \\u098f \\u09ac\\u09bf\\u09b7\\u09df\\u09c7 \\u09a6\\u09c1\\u09a6\\u0995\\u09c7\\u09b0 \\u09b8\\u0982\\u09b6\\u09cd\\u09b2\\u09bf\\u09b7\\u09cd\\u099f \\u0995\\u09b0\\u09cd\\u09ae\\u0995\\u09b0\\u09cd\\u09a4\\u09be \\u09a6\\u09c0\\u09b0\\u09cd\\u0998\\u0995\\u09cd\\u09b7\\u09a3 \\u0995\\u09a5\\u09be \\u09ac\\u09b2\\u09c7\\u099b\\u09c7\\u09a8\\u0964 \\u099f\\u09cd\\u09af\\u09be\\u0995\\u09cd\\u09b8 \\u09ab\\u09be\\u0987\\u09b2\\u09c7\\u09b0 \\u09ac\\u09be\\u0987\\u09b0\\u09c7 \\u0986\\u09ae\\u09be\\u09b0 \\u0995\\u09cb\\u09a8\\u09cb \\u09b8\\u09ae\\u09cd\\u09aa\\u09a6 \\u09a8\\u09c7\\u0987\\u0964 \\u09ac\\u09be\\u0995\\u09bf\\u099f\\u09c1\\u0995\\u09c1 \\u09a4\\u09a6\\u09a8\\u09cd\\u09a4 \\u0995\\u09b0\\u09cd\\u09ae\\u0995\\u09b0\\u09cd\\u09a4\\u09be\\u0995\\u09c7 \\u099c\\u09bf\\u099c\\u09cd\\u099e\\u09c7\\u09b8 \\u0995\\u09b0\\u09a4\\u09c7 \\u09aa\\u09be\\u09b0\\u09c7\\u09a8\\u0964\\u2019 \\u0986\\u09a4\\u09cd\\u09ae\\u09c0\\u09df-\\u09b8\\u09cd\\u09ac\\u099c\\u09a8\\u09a6\\u09c7\\u09b0 \\u09a8\\u09be\\u09ae\\u09c7 \\u09b8\\u09ae\\u09cd\\u09aa\\u09a6 \\u0986\\u099b\\u09c7 \\u0995\\u09bf \\u09a8\\u09be, \\u098f \\u09aa\\u09cd\\u09b0\\u09b6\\u09cd\\u09a8\\u09c7\\u09b0 \\u099c\\u09ac\\u09be\\u09ac\\u09c7 \\u09a4\\u09bf\\u09a8\\u09bf \\u09ac\\u09b2\\u09c7\\u09a8, \\u2018\\u0986\\u09ae\\u09bf \\u0986\\u09ac\\u09be\\u09b0\\u0993 \\u09ac\\u09b2\\u09bf, \\u09af\\u09c7 \\u09af\\u09c7 \\u099c\\u09be\\u09df\\u0997\\u09be\\u09df \\u09b8\\u09ae\\u09cd\\u09aa\\u09a6 \\u0986\\u099b\\u09c7 \\u09ac\\u09be \\u0986\\u09ae\\u09be\\u09b0 \\u0986\\u09a4\\u09cd\\u09ae\\u09c0\\u09df-\\u09b8\\u09cd\\u09ac\\u099c\\u09a8\\u09c7\\u09b0 \\u09a8\\u09be\\u09ae\\u09c7 \\u09af\\u09c7 \\u09b8\\u09ae\\u09cd\\u09aa\\u09a6 \\u0986\\u099b\\u09c7 \\u09a4\\u09be \\u0986\\u09ae\\u09be\\u09b0 \\u099f\\u09cd\\u09af\\u09be\\u0995\\u09cd\\u09b8 \\u09ab\\u09be\\u0987\\u09b2\\u09c7 \\u0986\\u099b\\u09c7\\u0964\\u2019 \\u09a8\\u09be\\u09b0\\u09c0 \\u09b8\\u0982\\u0995\\u09cd\\u09b0\\u09be\\u09a8\\u09cd\\u09a4 \\u09ac\\u09bf\\u09b7\\u09df\\u09c7 \\u09aa\\u09cd\\u09b0\\u09b6\\u09cd\\u09a8 \\u0995\\u09b0\\u09be \\u09b9\\u09b2\\u09c7 \\u09ae\\u09bf\\u099c\\u09be\\u09a8\\u09c1\\u09b0 \\u09b0\\u09b9\\u09ae\\u09be\\u09a8 \\u09ac\\u09b2\\u09c7\\u09a8, \\u2018\\u098f \\u09ac\\u09bf\\u09b7\\u09df\\u09c7 \\u0986\\u09ae\\u09bf \\u09ac\\u09b2\\u09ac, \\u09b8\\u09cd\\u09ac\\u09b0\\u09be\\u09b7\\u09cd\\u099f\\u09cd\\u09b0 \\u09ae\\u09a8\\u09cd\\u09a4\\u09cd\\u09b0\\u09a3\\u09be\\u09b2\\u09df\\u09c7 \\u0986\\u09ae\\u09be\\u09b0 \\u09ac\\u09bf\\u09b0\\u09c1\\u09a6\\u09cd\\u09a7\\u09c7 \\u0987\\u09a8\\u0995\\u09cb\\u09df\\u09be\\u09b0\\u09bf \\u0986\\u099b\\u09c7\\u0964 \\u09b8\\u09c1\\u09a4\\u09b0\\u09be\\u0982 \\u0993\\u09a8\\u09be\\u09b0\\u09be\\u0987 \\u09ad\\u09be\\u09b2\\u09cb \\u09ac\\u09b2\\u09a4\\u09c7 \\u09aa\\u09be\\u09b0\\u09ac\\u09c7\\u09a8, \\u0995\\u09a4\\u099f\\u09c1\\u0995\\u09c1 \\u09aa\\u09cd\\u09b0\\u09ae\\u09be\\u09a3\\u09bf\\u09a4 \\u09b9\\u09df\\u09c7\\u099b\\u09c7 \\u0986\\u09b0 \\u0995\\u09a4\\u099f\\u09c1\\u0995\\u09c1 \\u09aa\\u09cd\\u09b0\\u09ae\\u09be\\u09a3\\u09bf\\u09a4 \\u09b9\\u09df\\u09a8\\u09bf\\u0964 \\u09b8\\u09be\\u0982\\u09ac\\u09be\\u09a6\\u09bf\\u0995 \\u098f\\u0995 \\u09ad\\u09a6\\u09cd\\u09b0\\u09ae\\u09b9\\u09bf\\u09b2\\u09be\\u09b0 \\u09b8\\u0999\\u09cd\\u0997\\u09c7 \\u0986\\u09ae\\u09be\\u09b0 \\u0995\\u09a8\\u09ad\\u09be\\u09b0\\u09b8\\u09c7\\u09b6\\u09a8 \\u09b9\\u09df\\u09c7\\u099b\\u09c7, \\u098f\\u099c\\u09a8\\u09cd\\u09af \\u0986\\u09ae\\u09bf \\u09b8\\u09b0\\u09bf\\u0964 \\u098f\\u099c\\u09a8\\u09cd\\u09af \\u0986\\u09ae\\u09bf \\u09a6\\u09c1\\u0983\\u0996 \\u09aa\\u09cd\\u09b0\\u0995\\u09be\\u09b6 \\u0995\\u09b0\\u099b\\u09bf\\u0964\\u2019 \\u0997\\u09a4 \\u09ac\\u099b\\u09b0\\u09c7\\u09b0 \\u099c\\u09be\\u09a8\\u09c1\\u09df\\u09be\\u09b0\\u09bf\\u09a4\\u09c7 \\u09aa\\u09c1\\u09b2\\u09bf\\u09b6 \\u09b8\\u09aa\\u09cd\\u09a4\\u09be\\u09b9 \\u09b6\\u09c1\\u09b0\\u09c1 \\u09b9\\u0993\\u09df\\u09be\\u09b0 \\u0986\\u0997\\u09c7 \\u09aa\\u09c1\\u09b2\\u09bf\\u09b6\\u09c7\\u09b0 \\u0989\\u09aa-\\u09ae\\u09b9\\u09be\\u09aa\\u09b0\\u09bf\\u09a6\\u09b0\\u09cd\\u09b6\\u0995 (\\u09a1\\u09bf\\u0986\\u0987\\u099c\\u09bf) \\u09ae\\u09bf\\u099c\\u09be\\u09a8\\u09c1\\u09b0 \\u09b0\\u09b9\\u09ae\\u09be\\u09a8\\u09c7\\u09b0 \\u09ac\\u09bf\\u09b0\\u09c1\\u09a6\\u09cd\\u09a7\\u09c7 \\u09b8\\u09cd\\u09a4\\u09cd\\u09b0\\u09c0-\\u09b8\\u09a8\\u09cd\\u09a4\\u09be\\u09a8 \\u09b0\\u09c7\\u0996\\u09c7 \\u0986\\u09b0\\u09c7\\u0995 \\u09a8\\u09be\\u09b0\\u09c0\\u0995\\u09c7 \\u099c\\u09cb\\u09b0 \\u0995\\u09b0\\u09c7 \\u09ac\\u09bf\\u09df\\u09c7 \\u0995\\u09b0\\u09be\\u09b0 \\u0985\\u09ad\\u09bf\\u09af\\u09cb\\u0997 \\u0993\\u09a0\\u09c7\\u0964 \\u09ac\\u09bf\\u09b7\\u09df\\u099f\\u09bf \\u09a8\\u09bf\\u09df\\u09c7 \\u09a6\\u09c7\\u09b6\\u09ac\\u09cd\\u09af\\u09be\\u09aa\\u09c0 \\u09ac\\u09cd\\u09af\\u09be\\u09aa\\u0995 \\u09a4\\u09cb\\u09b2\\u09aa\\u09be\\u09dc \\u09b9\\u09df\\u0964 \\u09b8\\u09c7 \\u09b8\\u09ae\\u09df \\u09a2\\u09be\\u0995\\u09be \\u09ae\\u09b9\\u09be\\u09a8\\u0997\\u09b0 \\u09aa\\u09c1\\u09b2\\u09bf\\u09b6\\u09c7 (\\u09a1\\u09bf\\u098f\\u09ae\\u09aa\\u09bf) \\u0985\\u09a4\\u09bf\\u09b0\\u09bf\\u0995\\u09cd\\u09a4 \\u0995\\u09ae\\u09bf\\u09b6\\u09a8\\u09be\\u09b0 \\u09b9\\u09bf\\u09b8\\u09c7\\u09ac\\u09c7 \\u09a6\\u09be\\u09df\\u09bf\\u09a4\\u09cd\\u09ac\\u09c7 \\u09a5\\u09be\\u0995\\u09be \\u09ae\\u09bf\\u099c\\u09be\\u09a8\\u09c1\\u09b0 \\u09b0\\u09b9\\u09ae\\u09be\\u09a8\\u0995\\u09c7 \\u09a1\\u09bf\\u098f\\u09ae\\u09aa\\u09bf \\u09a5\\u09c7\\u0995\\u09c7 \\u09b8\\u09b0\\u09bf\\u09df\\u09c7 \\u09aa\\u09c1\\u09b2\\u09bf\\u09b6 \\u09b8\\u09a6\\u09b0 \\u09a6\\u09aa\\u09cd\\u09a4\\u09b0\\u09c7 \\u09b8\\u0982\\u09af\\u09c1\\u0995\\u09cd\\u09a4 \\u0995\\u09b0\\u09be \\u09b9\\u09df\\u0964 \\u09a8\\u09be\\u09ae\\u09c7-\\u09ac\\u09c7\\u09a8\\u09be\\u09ae\\u09c7 \\u09a1\\u09bf\\u0986\\u0987\\u099c\\u09bf \\u09ae\\u09bf\\u099c\\u09be\\u09a8\\u09c1\\u09b0 \\u09b0\\u09b9\\u09ae\\u09be\\u09a8\\u09c7\\u09b0 \\u09b6\\u09a4 \\u0995\\u09cb\\u099f\\u09bf \\u099f\\u09be\\u0995\\u09be\\u09b0 \\u09b8\\u09ae\\u09cd\\u09aa\\u09a6 \\u09b0\\u09df\\u09c7\\u099b\\u09c7, \\u098f \\u0985\\u09ad\\u09bf\\u09af\\u09cb\\u0997 \\u0985\\u09a8\\u09c1\\u09b8\\u09a8\\u09cd\\u09a7\\u09be\\u09a8\\u09c7\\u09b0 \\u09b8\\u09bf\\u09a6\\u09cd\\u09a7\\u09be\\u09a8\\u09cd\\u09a4 \\u09a8\\u09c7\\u0993\\u09df\\u09be\\u09b0 \\u09aa\\u09b0 \\u09a6\\u09c1\\u09a6\\u0995\\u09c7\\u09b0 \\u0989\\u09aa-\\u09aa\\u09b0\\u09bf\\u099a\\u09be\\u09b2\\u0995 \\u09ab\\u09b0\\u09bf\\u09a6 \\u0986\\u09b9\\u09ae\\u09c7\\u09a6 \\u09aa\\u09be\\u099f\\u09cb\\u09df\\u09be\\u09b0\\u09c0\\u0995\\u09c7 \\u09e7\\u09e6 \\u09ab\\u09c7\\u09ac\\u09cd\\u09b0\\u09c1\\u09df\\u09be\\u09b0\\u09bf \\u0985\\u09a8\\u09c1\\u09b8\\u09a8\\u09cd\\u09a7\\u09be\\u09a8 \\u0995\\u09b0\\u09cd\\u09ae\\u0995\\u09b0\\u09cd\\u09a4\\u09be \\u09b9\\u09bf\\u09b8\\u09c7\\u09ac\\u09c7 \\u09a8\\u09bf\\u09df\\u09cb\\u0997 \\u09a6\\u09c7\\u0993\\u09df\\u09be \\u09b9\\u09df\\u0964 \\u09a6\\u09c1\\u09a6\\u0995 \\u099c\\u09be\\u09a8\\u09be\\u09df, \\u09aa\\u09c1\\u09b2\\u09bf\\u09b6\\u09c7\\u09b0 \\u0989\\u099a\\u09cd\\u099a\\u09aa\\u09a6\\u09b8\\u09cd\\u09a5 \\u0995\\u09b0\\u09cd\\u09ae\\u0995\\u09b0\\u09cd\\u09a4\\u09be \\u09b9\\u09bf\\u09b8\\u09c7\\u09ac\\u09c7 \\u09ae\\u09bf\\u099c\\u09be\\u09a8\\u09c1\\u09b0 \\u09b0\\u09b9\\u09ae\\u09be\\u09a8 \\u09a4\\u09a6\\u09ac\\u09bf\\u09b0, \\u09a8\\u09bf\\u09df\\u09cb\\u0997 \\u0993 \\u09ac\\u09a6\\u09b2\\u09bf \\u09ac\\u09be\\u09a3\\u09bf\\u099c\\u09cd\\u09af\\u09b8\\u09b9 \\u09a8\\u09be\\u09a8\\u09be \\u0985\\u09a8\\u09bf\\u09df\\u09ae-\\u09a6\\u09c1\\u09b0\\u09cd\\u09a8\\u09c0\\u09a4\\u09bf\\u09a4\\u09c7 \\u099c\\u09dc\\u09bf\\u09df\\u09c7 \\u09aa\\u09dc\\u09c7\\u09a8\\u0964 \\u099a\\u09be\\u0995\\u09b0\\u09bf\\u099c\\u09c0\\u09ac\\u09a8\\u09c7 \\u09a4\\u09bf\\u09a8\\u09bf \\u0995\\u09cd\\u09b7\\u09ae\\u09a4\\u09be\\u09b0 \\u0985\\u09aa\\u09ac\\u09cd\\u09af\\u09ac\\u09b9\\u09be\\u09b0 \\u0995\\u09b0\\u09c7 \\u09a8\\u09be\\u09a8\\u09be \\u0989\\u09aa\\u09be\\u09df\\u09c7 \\u09b6\\u09a4 \\u0995\\u09cb\\u099f\\u09bf \\u099f\\u09be\\u0995\\u09be\\u09b0 \\u09ae\\u09be\\u09b2\\u09bf\\u0995 \\u09b9\\u09df\\u09c7\\u099b\\u09c7\\u09a8\\u0964 \\u09a4\\u09be\\u09b0 \\u09a8\\u09be\\u09ae\\u09c7-\\u09ac\\u09c7\\u09a8\\u09be\\u09ae\\u09c7 \\u09ac\\u09bf\\u09b2\\u09be\\u09b8\\u09ac\\u09b9\\u09c1\\u09b2 \\u09ac\\u09be\\u09dc\\u09bf, \\u0997\\u09be\\u09dc\\u09bf, \\u09ab\\u09cd\\u09b2\\u09cd\\u09af\\u09be\\u099f \\u0993 \\u099c\\u09ae\\u09bf \\u09b0\\u09df\\u09c7\\u099b\\u09c7\\u0964 \\u098f\\u0995\\u09be\\u09a7\\u09bf\\u0995 \\u09ac\\u09cd\\u09af\\u09be\\u0982\\u0995 \\u09b9\\u09bf\\u09b8\\u09be\\u09ac\\u09c7 \\u09b0\\u09df\\u09c7\\u099b\\u09c7 \\u09ac\\u09bf\\u09aa\\u09c1\\u09b2 \\u0985\\u09b0\\u09cd\\u09a5 \\u0993 \\u09ab\\u09bf\\u0995\\u09cd\\u09b8\\u09a1 \\u09a1\\u09bf\\u09aa\\u09cb\\u099c\\u09bf\\u099f\\u0964 \\u098f\\u09ae\\u09a8\\u0995\\u09bf \\u09a6\\u09c7\\u09b6\\u09c7\\u09b0 \\u09ac\\u09be\\u0987\\u09b0\\u09c7 \\u0985\\u09b0\\u09cd\\u09a5 \\u09aa\\u09be\\u099a\\u09be\\u09b0\\u09c7\\u09b0\\u0993 \\u0985\\u09ad\\u09bf\\u09af\\u09cb\\u0997 \\u09b0\\u09df\\u09c7\\u099b\\u09c7 \\u09a4\\u09be\\u09b0 \\u09ac\\u09bf\\u09b0\\u09c1\\u09a6\\u09cd\\u09a7\\u09c7\\u0964\",\n          \"\\u09a4\\u09a5\\u09cd\\u09af\\u09aa\\u09cd\\u09b0\\u09af\\u09c1\\u0995\\u09cd\\u09a4\\u09bf \\u09aa\\u09cd\\u09b0\\u09a4\\u09bf\\u09ae\\u09a8\\u09cd\\u09a4\\u09cd\\u09b0\\u09c0 \\u099c\\u09c1\\u09a8\\u09be\\u0987\\u09a6 \\u0986\\u09b9\\u09ae\\u09c7\\u09a6 \\u09aa\\u09b2\\u0995 \\u09ac\\u09b2\\u09c7\\u099b\\u09c7\\u09a8, \\u0986\\u0997\\u09be\\u09ae\\u09c0 \\u09a6\\u09bf\\u09a8\\u09c7 \\u09ac\\u09bf\\u09b6\\u09cd\\u09ac\\u09c7 \\u09a8\\u09c7\\u09a4\\u09c3\\u09a4\\u09cd\\u09ac \\u09a6\\u09c7\\u09df\\u09be\\u09b0 \\u099c\\u09a8\\u09cd\\u09af \\u098f\\u0996\\u09a8\\u0987 \\u099a\\u09bf\\u09a8\\u09cd\\u09a4\\u09be \\u0995\\u09b0\\u09a4\\u09c7 \\u09b9\\u09ac\\u09c7\\u0964 \\u09a4\\u09b0\\u09c1\\u09a3 \\u09aa\\u09cd\\u09b0\\u099c\\u09a8\\u09cd\\u09ae\\u09c7\\u09b0 \\u09a8\\u09c7\\u09a4\\u09c3\\u09a4\\u09cd\\u09ac\\u0997\\u09c1\\u09a3\\u09c7\\u09b0 \\u0989\\u09a6\\u09cd\\u09ad\\u09be\\u09ac\\u09a8 \\u0993 \\u09ac\\u09bf\\u0995\\u09be\\u09b6\\u09c7\\u09b0 \\u09b2\\u0995\\u09cd\\u09b7\\u09cd\\u09af\\u09c7 \\u09ac\\u09be\\u0982\\u09b2\\u09be\\u09a6\\u09c7\\u09b6\\u09c7 \\u09a4\\u09c8\\u09b0\\u09bf \\u09b9\\u09ac\\u09c7 \\u0986\\u09a8\\u09cd\\u09a4\\u09b0\\u09cd\\u099c\\u09be\\u09a4\\u09bf\\u0995 \\u09ae\\u09be\\u09a8\\u09c7\\u09b0 \\u09ac\\u09bf\\u09b6\\u09c7\\u09b7\\u09be\\u09df\\u09bf\\u09a4 \\u09aa\\u09cd\\u09b0\\u09a4\\u09bf\\u09b7\\u09cd\\u09a0\\u09be\\u09a8 \\u2018\\u09b8\\u09c7\\u09a8\\u09cd\\u099f\\u09be\\u09b0 \\u09ab\\u09b0 \\u09b2\\u09bf\\u09a1\\u09be\\u09b0\\u09b6\\u09bf\\u09aa\\u2019\\u0964 \\u09a4\\u09bf\\u09a8\\u09bf \\u09ac\\u09b2\\u09c7\\u09a8, \\u098f\\u099f\\u09bf \\u09ac\\u09be\\u09b8\\u09cd\\u09a4\\u09ac\\u09be\\u09df\\u09a8 \\u09b9\\u09b2\\u09c7 \\u09ad\\u09be\\u09b0\\u09cd\\u099a\\u09c1\\u09df\\u09be\\u09b2 \\u09af\\u09cb\\u0997\\u09be\\u09af\\u09cb\\u0997 \\u0993 \\u09a8\\u09c7\\u09a4\\u09c3\\u09a4\\u09cd\\u09ac \\u09a4\\u09c8\\u09b0\\u09bf\\u09a4\\u09c7 \\u09ac\\u09bf\\u099c\\u09cd\\u099e\\u09be\\u09a8, \\u09aa\\u09cd\\u09b0\\u0995\\u09cc\\u09b6\\u09b2, \\u09aa\\u09cd\\u09b0\\u09af\\u09c1\\u0995\\u09cd\\u09a4\\u09bf \\u0993 \\u09ad\\u09be\\u09b7\\u09be \\u09ac\\u09bf\\u09b7\\u09df\\u09c7 \\u09ac\\u09bf\\u09b6\\u09cd\\u09ac\\u09ae\\u09be\\u09a8\\u09c7\\u09b0 \\u09aa\\u09cd\\u09b0\\u09b6\\u09bf\\u0995\\u09cd\\u09b7\\u09a3 \\u09aa\\u09be\\u09ac\\u09c7 \\u09a4\\u09b0\\u09c1\\u09a3-\\u09a4\\u09b0\\u09c1\\u09a3\\u09c0\\u09b0\\u09be\\u0964 \\u09aa\\u09cd\\u09b0\\u09be\\u09a5\\u09ae\\u09bf\\u0995\\u09ad\\u09be\\u09ac\\u09c7 \\u09b0\\u09be\\u099c\\u09a7\\u09be\\u09a8\\u09c0 \\u09a2\\u09be\\u0995\\u09be\\u09b0 \\u09b8\\u0999\\u09cd\\u0997\\u09c7 \\u09a8\\u09be\\u099f\\u09cb\\u09b0\\u09c7\\u09b0 \\u09b8\\u09bf\\u0982\\u09dc\\u09be\\u09df \\u0995\\u09be\\u09b0\\u09cd\\u09af\\u0995\\u09cd\\u09b0\\u09ae \\u09b6\\u09c1\\u09b0\\u09c1 \\u09b9\\u09ac\\u09c7\\u0964 \\u09aa\\u09cd\\u09b0\\u09a4\\u09bf\\u09ae\\u09a8\\u09cd\\u09a4\\u09cd\\u09b0\\u09c0 \\u09ac\\u09c1\\u09a7\\u09ac\\u09be\\u09b0 \\u09b8\\u0995\\u09be\\u09b2\\u09c7 \\u09a8\\u09be\\u099f\\u09cb\\u09b0-\\u09ac\\u0997\\u09c1\\u09dc\\u09be \\u09ae\\u09b9\\u09be\\u09b8\\u09dc\\u0995\\u09c7\\u09b0 \\u09b8\\u09bf\\u0982\\u09dc\\u09be \\u09b6\\u09c7\\u09b0\\u0995\\u09cb\\u09b2\\u09c7 \\u09e7\\u09eb\\u09ea \\u0995\\u09cb\\u099f\\u09bf \\u09eb\\u09ea \\u09b2\\u09be\\u0996 \\u099f\\u09be\\u0995\\u09be \\u09ac\\u09cd\\u09af\\u09df\\u09c7 \\u099c\\u09c7\\u09b2\\u09be\\u09aa\\u09b0\\u09cd\\u09af\\u09be\\u09df\\u09c7 \\u09b9\\u09be\\u0987\\u099f\\u09c7\\u0995 \\u09aa\\u09be\\u09b0\\u09cd\\u0995\\u09c7\\u09b0 \\u09ad\\u09bf\\u09a4\\u09cd\\u09a4\\u09bf\\u09aa\\u09cd\\u09b0\\u09b8\\u09cd\\u09a4\\u09b0 \\u09b8\\u09cd\\u09a5\\u09be\\u09aa\\u09a8 \\u09b6\\u09c7\\u09b7\\u09c7 \\u09b8\\u09cd\\u09a5\\u09be\\u09a8\\u09c0\\u09df \\u09a6\\u09ae\\u09a6\\u09ae\\u09be \\u09aa\\u09be\\u0987\\u09b2\\u099f \\u09b8\\u09cd\\u0995\\u09c1\\u09b2 \\u0985\\u09cd\\u09af\\u09be\\u09a8\\u09cd\\u09a1 \\u0995\\u09b2\\u09c7\\u099c \\u099a\\u09a4\\u09cd\\u09ac\\u09b0\\u09c7 \\u09a8\\u09ac\\u09c0\\u09a8\\u09ac\\u09b0\\u09a3 \\u0985\\u09a8\\u09c1\\u09b7\\u09cd\\u09a0\\u09be\\u09a8\\u09c7 \\u09aa\\u09cd\\u09b0\\u09a7\\u09be\\u09a8 \\u0985\\u09a4\\u09bf\\u09a5\\u09bf\\u09b0 \\u09ac\\u0995\\u09cd\\u09a4\\u09ac\\u09cd\\u09af\\u09c7 \\u09a4\\u09bf\\u09a8\\u09bf \\u098f\\u09b8\\u09ac \\u0995\\u09a5\\u09be \\u09ac\\u09b2\\u09c7\\u09a8\\u0964 \\u09a6\\u09c7\\u09b6\\u09c7 \\u09aa\\u09cd\\u09b0\\u09af\\u09c1\\u0995\\u09cd\\u09a4\\u09bf\\u09b0 \\u09ac\\u09bf\\u0995\\u09be\\u09b6\\u09c7 \\u09aa\\u09cd\\u09b0\\u09a7\\u09be\\u09a8\\u09ae\\u09a8\\u09cd\\u09a4\\u09cd\\u09b0\\u09c0 \\u09b6\\u09c7\\u0996 \\u09b9\\u09be\\u09b8\\u09bf\\u09a8\\u09be \\u0993 \\u09a4\\u09be\\u09b0 \\u09aa\\u09c1\\u09a4\\u09cd\\u09b0 \\u09b8\\u099c\\u09c0\\u09ac \\u0993\\u09df\\u09be\\u099c\\u09c7\\u09a6 \\u099c\\u09df\\u09c7\\u09b0 \\u0985\\u09ac\\u09a6\\u09be\\u09a8\\u09c7\\u09b0 \\u0995\\u09a5\\u09be \\u09a4\\u09c1\\u09b2\\u09c7 \\u09a7\\u09b0\\u09c7 \\u09aa\\u09b2\\u0995 \\u09ac\\u09b2\\u09c7\\u09a8, \\u09a4\\u09be\\u09b0\\u09be \\u09a1\\u09bf\\u099c\\u09bf\\u099f\\u09be\\u09b2 \\u09ac\\u09be\\u0982\\u09b2\\u09be\\u09a6\\u09c7\\u09b6\\u09c7\\u09b0 \\u09b8\\u09cd\\u09ac\\u09aa\\u09cd\\u09a8 \\u09a6\\u09c7\\u0996\\u09c7\\u099b\\u09bf\\u09b2\\u09c7\\u09a8 \\u09ac\\u09b2\\u09c7\\u0987 \\u0986\\u099c \\u09a6\\u09c7\\u09b6\\u09c7\\u09b0 \\u09ae\\u09be\\u09a8\\u09c1\\u09b7\\u09c7\\u09b0 \\u09b9\\u09be\\u09a4\\u09c7 \\u09b8\\u09cd\\u09ae\\u09be\\u09b0\\u09cd\\u099f\\u09ab\\u09cb\\u09a8 \\u0993 \\u0987\\u09a8\\u09cd\\u099f\\u09be\\u09b0\\u09a8\\u09c7\\u099f \\u09b8\\u0982\\u09af\\u09cb\\u0997 \\u09aa\\u09cd\\u09b0\\u09a6\\u09be\\u09a8 \\u09b8\\u09ae\\u09cd\\u09ad\\u09ac \\u09b9\\u09df\\u09c7\\u099b\\u09c7\\u0964 \\u09aa\\u09cd\\u09b0\\u09a7\\u09be\\u09a8\\u09ae\\u09a8\\u09cd\\u09a4\\u09cd\\u09b0\\u09c0\\u09b0 \\u0990\\u0995\\u09be\\u09a8\\u09cd\\u09a4\\u09bf\\u0995 \\u09aa\\u09cd\\u09b0\\u099a\\u09c7\\u09b7\\u09cd\\u099f\\u09be\\u09df \\u09ac\\u09be\\u0982\\u09b2\\u09be\\u09a6\\u09c7\\u09b6 \\u0986\\u099c \\u09a6\\u09b0\\u09bf\\u09a6\\u09cd\\u09b0 \\u09a6\\u09c7\\u09b6\\u09c7\\u09b0 \\u0995\\u09be\\u09a4\\u09be\\u09b0 \\u09a5\\u09c7\\u0995\\u09c7 \\u0989\\u09a8\\u09cd\\u09a8\\u09df\\u09a8\\u09b6\\u09c0\\u09b2 \\u09a6\\u09c7\\u09b6\\u09c7 \\u0989\\u09a8\\u09cd\\u09a8\\u09c0\\u09a4 \\u09b9\\u09df\\u09c7\\u099b\\u0964 \\u0985\\u09a5\\u099a \\u09ac\\u0999\\u09cd\\u0997\\u09ac\\u09a8\\u09cd\\u09a7\\u09c1 \\u09b6\\u09c7\\u0996 \\u09ae\\u09c1\\u099c\\u09bf\\u09ac\\u09c1\\u09b0 \\u09b0\\u09b9\\u09ae\\u09be\\u09a8 \\u09af\\u09a6\\u09bf \\u09ac\\u09c7\\u0981\\u099a\\u09c7 \\u09a5\\u09be\\u0995\\u09a4\\u09c7\\u09a8 \\u09a4\\u09ac\\u09c7 \\u09a6\\u09c7\\u09b6 \\u0985\\u09a8\\u09c7\\u0995 \\u0986\\u0997\\u09c7\\u0987 \\u09b8\\u09cb\\u09a8\\u09be\\u09b0 \\u09ac\\u09be\\u0982\\u09b2\\u09be\\u09df \\u09aa\\u09b0\\u09bf\\u09a3\\u09a4 \\u09b9\\u09a4\\u09cb\\u0964 \\u099a\\u09a4\\u09c1\\u09b0\\u09cd\\u09a5 \\u09b6\\u09bf\\u09b2\\u09cd\\u09aa \\u09ac\\u09bf\\u09aa\\u09cd\\u09b2\\u09ac\\u09c7\\u09b0 \\u09af\\u09c1\\u0997\\u09c7 \\u099c\\u09a8\\u09b8\\u0982\\u0996\\u09cd\\u09af\\u09be\\u0995\\u09c7 \\u099c\\u09a8\\u09b6\\u0995\\u09cd\\u09a4\\u09bf\\u09a4\\u09c7 \\u09b0\\u09c2\\u09aa\\u09be\\u09a8\\u09cd\\u09a4\\u09b0\\u09c7\\u09b0 \\u09ac\\u09bf\\u0995\\u09b2\\u09cd\\u09aa \\u09a8\\u09c7\\u0987 \\u099c\\u09be\\u09a8\\u09bf\\u09df\\u09c7 \\u09aa\\u09b2\\u0995 \\u09ac\\u09b2\\u09c7\\u09a8, \\u098f\\u0996\\u09a8 \\u09a6\\u09b0\\u0995\\u09be\\u09b0 \\u09b8\\u09c3\\u099c\\u09a8\\u09b6\\u09c0\\u09b2\\u09a4\\u09be \\u0986\\u09b0 \\u0989\\u09a6\\u09cd\\u09ad\\u09be\\u09ac\\u09a8\\u09c0\\u09b6\\u0995\\u09cd\\u09a4\\u09bf\\u0964 \\u098f \\u09a6\\u09c1\\u09df\\u09c7\\u09b0 \\u09ac\\u09cd\\u09af\\u09ac\\u09b8\\u09cd\\u09a5\\u09be \\u09b8\\u09b0\\u0995\\u09be\\u09b0 \\u0995\\u09b0\\u09c7 \\u09a6\\u09bf\\u099a\\u09cd\\u099b\\u09c7 \\u09aa\\u09cd\\u09b0\\u09af\\u09c1\\u0995\\u09cd\\u09a4\\u09bf\\u0996\\u09be\\u09a4\\u09c7 \\u09ac\\u09bf\\u09ad\\u09bf\\u09a8\\u09cd\\u09a8 \\u09ac\\u09bf\\u09a8\\u09cb\\u09df\\u09cb\\u0997\\u09c7\\u09b0 \\u09ae\\u09be\\u09a7\\u09cd\\u09af\\u09ae\\u09c7\\u0964 \\u09aa\\u09cd\\u09b0\\u09a4\\u09cd\\u09af\\u09c7\\u0995 \\u09b6\\u09bf\\u0995\\u09cd\\u09b7\\u09be\\u09b0\\u09cd\\u09a5\\u09c0\\u09b0 \\u09aa\\u09cd\\u09b0\\u09af\\u09c1\\u0995\\u09cd\\u09a4\\u09bf\\u099c\\u09cd\\u099e\\u09be\\u09a8 \\u09a5\\u09be\\u0995\\u09a4\\u09c7 \\u09b9\\u09ac\\u09c7\\u0964 \\u09aa\\u09cd\\u09b0\\u09af\\u09c1\\u0995\\u09cd\\u09a4\\u09bf \\u0989\\u09aa\\u09c7\\u0995\\u09cd\\u09b7\\u09be \\u0995\\u09b0\\u09c7 \\u099a\\u09b2\\u09be \\u09af\\u09be\\u09ac\\u09c7 \\u09a8\\u09be\\u0964 \\u09a8\\u09ac\\u09c0\\u09a8 \\u09b6\\u09bf\\u0995\\u09cd\\u09b7\\u09be\\u09b0\\u09cd\\u09a5\\u09c0\\u09a6\\u09c7\\u09b0 \\u0989\\u09a6\\u09cd\\u09a6\\u09c7\\u09b6\\u09c7 \\u09aa\\u09cd\\u09b0\\u09a4\\u09bf\\u09ae\\u09a8\\u09cd\\u09a4\\u09cd\\u09b0\\u09c0 \\u09ac\\u09b2\\u09c7\\u09a8, \\u09b6\\u09c1\\u09a7\\u09c1 \\u09aa\\u09cd\\u09b0\\u09a4\\u09bf\\u09b7\\u09cd\\u09a0\\u09bf\\u09a4 \\u09b9\\u0993\\u09df\\u09be\\u09b0 \\u099c\\u09a8\\u09cd\\u09af \\u09a8\\u09df, \\u09a8\\u09c7\\u09a4\\u09c3\\u09a4\\u09cd\\u09ac\\u09a6\\u09be\\u09a8\\u09c7\\u09b0 \\u099c\\u09a8\\u09cd\\u09af \\u098f\\u0996\\u09a8\\u0987 \\u09a8\\u09bf\\u099c\\u09c7\\u09a6\\u09c7\\u09b0 \\u09a4\\u09c8\\u09b0\\u09bf \\u0995\\u09b0\\u09a4\\u09c7 \\u09b9\\u09ac\\u09c7\\u0964 \\u09b8\\u09a8\\u09cd\\u09a4\\u09cd\\u09b0\\u09be\\u09b8, \\u09ae\\u09be\\u09a6\\u0995 \\u0993 \\u099c\\u0999\\u09cd\\u0997\\u09bf\\u09ac\\u09be\\u09a6 \\u09a5\\u09c7\\u0995\\u09c7 \\u09a6\\u09c2\\u09b0\\u09c7 \\u09a5\\u09c7\\u0995\\u09c7 \\u09aa\\u09dc\\u09be\\u09b6\\u09cb\\u09a8\\u09be\\u09b0 \\u09aa\\u09be\\u09b6\\u09be\\u09aa\\u09be\\u09b6\\u09bf \\u09aa\\u09cd\\u09b0\\u09af\\u09c1\\u0995\\u09cd\\u09a4\\u09bf\\u099c\\u09cd\\u099e\\u09be\\u09a8 \\u0985\\u09b0\\u09cd\\u099c\\u09a8\\u09c7 \\u09ae\\u09a8\\u09cb\\u09a8\\u09bf\\u09ac\\u09c7\\u09b6 \\u0995\\u09b0\\u09a4\\u09c7 \\u09b9\\u09ac\\u09c7\\u0964 \\u09ae\\u09c1\\u0995\\u09cd\\u09a4\\u09bf\\u09af\\u09c1\\u09a6\\u09cd\\u09a7\\u09c7\\u09b0 \\u099a\\u09c7\\u09a4\\u09a8\\u09be \\u09b9\\u09c3\\u09a6\\u09df\\u09c7 \\u09a7\\u09be\\u09b0\\u09a3 \\u0995\\u09b0\\u09c7 \\u09a8\\u09bf\\u099c\\u09c7\\u09a6\\u09c7\\u09b0 \\u09a8\\u09c8\\u09a4\\u09bf\\u0995 \\u099c\\u09cd\\u099e\\u09be\\u09a8\\u09b8\\u09ae\\u09cd\\u09aa\\u09a8\\u09cd\\u09a8 \\u09a4\\u09c8\\u09b0\\u09bf \\u0995\\u09b0\\u09a4\\u09c7 \\u09b9\\u09ac\\u09c7\\u0964 \\u09b8\\u09bf\\u0982\\u09dc\\u09be\\u09df \\u09a6\\u09ae\\u09a6\\u09ae\\u09be \\u09aa\\u09be\\u0987\\u09b2\\u099f \\u09b8\\u09cd\\u0995\\u09c1\\u09b2 \\u0985\\u09cd\\u09af\\u09be\\u09a8\\u09cd\\u09a1 \\u0995\\u09b2\\u09c7\\u099c\\u09c7\\u09b0 \\u0997\\u09ad\\u09b0\\u09cd\\u09a8\\u09bf\\u0982 \\u09ac\\u09a1\\u09bf\\u09b0 \\u09b8\\u09ad\\u09be\\u09aa\\u09a4\\u09bf \\u09aa\\u09cc\\u09b0\\u09ae\\u09c7\\u09df\\u09b0 \\u099c\\u09be\\u09a8\\u09cd\\u09a8\\u09be\\u09a4\\u09c1\\u09b2 \\u09ab\\u09c7\\u09b0\\u09a6\\u09cc\\u09b8\\u09c7\\u09b0 \\u09b8\\u09ad\\u09be\\u09aa\\u09a4\\u09bf\\u09a4\\u09cd\\u09ac\\u09c7 \\u0985\\u09a8\\u09c1\\u09b7\\u09cd\\u09a0\\u09be\\u09a8\\u09c7 \\u09ac\\u09be\\u0982\\u09b2\\u09be\\u09a6\\u09c7\\u09b6 \\u09b9\\u09be\\u0987\\u099f\\u09c7\\u0995 \\u09aa\\u09be\\u09b0\\u09cd\\u0995 \\u0995\\u09b0\\u09cd\\u09a4\\u09c3\\u09aa\\u0995\\u09cd\\u09b7\\u09c7\\u09b0 \\u099a\\u09c7\\u09df\\u09be\\u09b0\\u09ae\\u09cd\\u09af\\u09be\\u09a8 \\u09b9\\u09cb\\u09b8\\u09a8\\u09c7 \\u0986\\u09b0\\u09be \\u09ac\\u09c7\\u0997\\u09ae, \\u099c\\u09c7\\u09b2\\u09be\\u09aa\\u09b0\\u09cd\\u09af\\u09be\\u09df\\u09c7 \\u09b9\\u09be\\u0987\\u099f\\u09c7\\u0995 \\u09aa\\u09be\\u09b0\\u09cd\\u0995 \\u09b8\\u09cd\\u09a5\\u09be\\u09aa\\u09a8 \\u09aa\\u09cd\\u09b0\\u0995\\u09b2\\u09cd\\u09aa\\u09c7\\u09b0 \\u09aa\\u09b0\\u09bf\\u099a\\u09be\\u09b2\\u0995 \\u09b8\\u09c8\\u09df\\u09a6 \\u09ae\\u09c7\\u09b9\\u09a6\\u09c0 \\u09b9\\u09be\\u09b8\\u09be\\u09a8, \\u0989\\u09aa\\u09aa\\u09b0\\u09bf\\u099a\\u09be\\u09b2\\u0995 \\u0995\\u09be\\u09ae\\u09b0\\u09c1\\u09b2 \\u09b9\\u09be\\u09b8\\u09be\\u09a8, \\u099c\\u09c7\\u09b2\\u09be \\u09aa\\u09cd\\u09b0\\u09b6\\u09be\\u09b8\\u0995 \\u09b6\\u09be\\u09b9\\u09bf\\u09a8\\u09be \\u0996\\u09be\\u09a4\\u09c1\\u09a8, \\u0989\\u09aa\\u099c\\u09c7\\u09b2\\u09be \\u09a8\\u09bf\\u09b0\\u09cd\\u09ac\\u09be\\u09b9\\u09c0 \\u0995\\u09b0\\u09cd\\u09ae\\u0995\\u09b0\\u09cd\\u09a4\\u09be \\u09b8\\u09c1\\u09b6\\u09be\\u09a8\\u09cd\\u09a4 \\u0995\\u09c1\\u09ae\\u09be\\u09b0 \\u09ae\\u09be\\u09b9\\u09be\\u09a4\\u09cb, \\u099c\\u09a8\\u09b8\\u0982\\u09af\\u09cb\\u0997 \\u0995\\u09b0\\u09cd\\u09ae\\u0995\\u09b0\\u09cd\\u09a4\\u09be \\u0997\\u09cb\\u09b2\\u09be\\u09ae \\u0995\\u09bf\\u09ac\\u09b0\\u09bf\\u09df\\u09be, \\u09a6\\u09ae\\u09a6\\u09ae\\u09be \\u09aa\\u09be\\u0987\\u09b2\\u099f \\u09b8\\u09cd\\u0995\\u09c1\\u09b2 \\u0985\\u09cd\\u09af\\u09be\\u09a8\\u09cd\\u09a1 \\u0995\\u09b2\\u09c7\\u099c\\u09c7\\u09b0 \\u0985\\u09a7\\u09cd\\u09af\\u0995\\u09cd\\u09b7 \\u0986\\u09a8\\u09cb\\u09df\\u09be\\u09b0 \\u09b9\\u09cb\\u09b8\\u09c7\\u09a8 \\u0986\\u09a8\\u09c1 \\u09aa\\u09cd\\u09b0\\u09ae\\u09c1\\u0996 \\u09ac\\u0995\\u09cd\\u09a4\\u09ac\\u09cd\\u09af \\u09b0\\u09be\\u0996\\u09c7\\u09a8\\u0964 \\u0989\\u09b2\\u09cd\\u09b2\\u09c7\\u0996\\u09cd\\u09af, \\u09b9\\u09be\\u0987\\u099f\\u09c7\\u0995 \\u09aa\\u09be\\u09b0\\u09cd\\u0995\\u099f\\u09bf \\u09b8\\u09cd\\u09a5\\u09be\\u09aa\\u09bf\\u09a4 \\u09b9\\u09b2\\u09c7 \\u09b8\\u09bf\\u0982\\u09dc\\u09be \\u0989\\u09aa\\u099c\\u09c7\\u09b2\\u09be\\u09df \\u0986\\u09dc\\u09be\\u0987 \\u09b9\\u09be\\u099c\\u09be\\u09b0 \\u09a4\\u09b0\\u09c1\\u09a3-\\u09a4\\u09b0\\u09c1\\u09a3\\u09c0 \\u0986\\u0987\\u09b8\\u09bf\\u099f\\u09bf \\u09ac\\u09bf\\u09b7\\u09df\\u09c7 \\u09aa\\u09cd\\u09b0\\u09b6\\u09bf\\u0995\\u09cd\\u09b7\\u09a3\\u09c7\\u09b0 \\u09b8\\u09c1\\u09af\\u09cb\\u0997 \\u09aa\\u09be\\u09ac\\u09c7\\u0964 \\u09e8\\u09e6\\u09e8\\u09e6 \\u09b8\\u09be\\u09b2\\u09c7\\u09b0 \\u099c\\u09c1\\u09a8 \\u09ae\\u09be\\u09b8\\u09c7 \\u09aa\\u09cd\\u09b0\\u0995\\u09b2\\u09cd\\u09aa\\u099f\\u09bf \\u09b6\\u09c7\\u09b7 \\u09b9\\u09ac\\u09c7 \\u09ac\\u09b2\\u09c7 \\u0986\\u09b6\\u09be \\u09aa\\u09cd\\u09b0\\u0995\\u09be\\u09b6 \\u0995\\u09b0\\u09c7\\u099b\\u09c7 \\u0995\\u09b0\\u09cd\\u09a4\\u09c3\\u09aa\\u0995\\u09cd\\u09b7\\u0964\"\n        ],\n        \"semantic_type\": \"\",\n        \"description\": \"\"\n      }\n    },\n    {\n      \"column\": \"label\",\n      \"properties\": {\n        \"dtype\": \"number\",\n        \"std\": 0.46336639848682154,\n        \"min\": 0.0,\n        \"max\": 1.0,\n        \"num_unique_values\": 2,\n        \"samples\": [\n          1.0,\n          0.0\n        ],\n        \"semantic_type\": \"\",\n        \"description\": \"\"\n      }\n    }\n  ]\n}"
            }
          },
          "metadata": {},
          "execution_count": 4
        }
      ]
    },
    {
      "cell_type": "code",
      "source": [
        "df.tail()"
      ],
      "metadata": {
        "colab": {
          "base_uri": "https://localhost:8080/",
          "height": 206
        },
        "id": "vyoAmEJ0fRZk",
        "outputId": "47caa363-e545-4ce4-9c8f-5d3a1b8b9916"
      },
      "execution_count": 5,
      "outputs": [
        {
          "output_type": "execute_result",
          "data": {
            "text/plain": [
              "        category                                           headline  \\\n",
              "14532   National  নাইক্ষ্যংছ‌ড়ি‌তে পু‌লি‌শ-ডাকাত বন্দুকযু‌দ্ধে ন...   \n",
              "14533      Crime  এবি ব্যাংকের প্রাক্তন চেয়ারম্যানসহ ৪ জনকে জিজ্...   \n",
              "14534  Education  পরীক্ষা বাতিল হওয়ায় ১ম -৩য় শ্রেণীতে ভর্তি হতে ...   \n",
              "14535     Sports               এশিয়া কাপে আজ ভারত-পাকিস্তানের মহারণ   \n",
              "14536  Lifestyle                           অনলাইনে পোশাক কিনলেই ছাড়   \n",
              "\n",
              "                                                 content  label  \n",
              "14532  বান্দরবা‌নের নাইক্ষ্যংছ‌ড়ি উপজেলায় পু‌লি‌শের স...    0.0  \n",
              "14533  নিজস্ব প্রতিবেদক : সিটিসেলের নামে ৩৮৩ কোটি টাক...    1.0  \n",
              "14534  ১-৩ শ্রেনী পর্যন্ত পরীক্ষা বাতিলের কথা শুনে দে...    0.0  \n",
              "14535  আজ এশিয়া কাপের সবচেয়ে আকর্ষণীয় ম্যাচে ভারতের ম...    0.0  \n",
              "14536  সমসাময়িক ট্রেন্ড এবং তারুণ্য নির্ভর ফ্যাশনে ক্...    1.0  "
            ],
            "text/html": [
              "\n",
              "  <div id=\"df-3e0a4f86-bae1-4595-8799-fe8ea43b3696\" class=\"colab-df-container\">\n",
              "    <div>\n",
              "<style scoped>\n",
              "    .dataframe tbody tr th:only-of-type {\n",
              "        vertical-align: middle;\n",
              "    }\n",
              "\n",
              "    .dataframe tbody tr th {\n",
              "        vertical-align: top;\n",
              "    }\n",
              "\n",
              "    .dataframe thead th {\n",
              "        text-align: right;\n",
              "    }\n",
              "</style>\n",
              "<table border=\"1\" class=\"dataframe\">\n",
              "  <thead>\n",
              "    <tr style=\"text-align: right;\">\n",
              "      <th></th>\n",
              "      <th>category</th>\n",
              "      <th>headline</th>\n",
              "      <th>content</th>\n",
              "      <th>label</th>\n",
              "    </tr>\n",
              "  </thead>\n",
              "  <tbody>\n",
              "    <tr>\n",
              "      <th>14532</th>\n",
              "      <td>National</td>\n",
              "      <td>নাইক্ষ্যংছ‌ড়ি‌তে পু‌লি‌শ-ডাকাত বন্দুকযু‌দ্ধে ন...</td>\n",
              "      <td>বান্দরবা‌নের নাইক্ষ্যংছ‌ড়ি উপজেলায় পু‌লি‌শের স...</td>\n",
              "      <td>0.0</td>\n",
              "    </tr>\n",
              "    <tr>\n",
              "      <th>14533</th>\n",
              "      <td>Crime</td>\n",
              "      <td>এবি ব্যাংকের প্রাক্তন চেয়ারম্যানসহ ৪ জনকে জিজ্...</td>\n",
              "      <td>নিজস্ব প্রতিবেদক : সিটিসেলের নামে ৩৮৩ কোটি টাক...</td>\n",
              "      <td>1.0</td>\n",
              "    </tr>\n",
              "    <tr>\n",
              "      <th>14534</th>\n",
              "      <td>Education</td>\n",
              "      <td>পরীক্ষা বাতিল হওয়ায় ১ম -৩য় শ্রেণীতে ভর্তি হতে ...</td>\n",
              "      <td>১-৩ শ্রেনী পর্যন্ত পরীক্ষা বাতিলের কথা শুনে দে...</td>\n",
              "      <td>0.0</td>\n",
              "    </tr>\n",
              "    <tr>\n",
              "      <th>14535</th>\n",
              "      <td>Sports</td>\n",
              "      <td>এশিয়া কাপে আজ ভারত-পাকিস্তানের মহারণ</td>\n",
              "      <td>আজ এশিয়া কাপের সবচেয়ে আকর্ষণীয় ম্যাচে ভারতের ম...</td>\n",
              "      <td>0.0</td>\n",
              "    </tr>\n",
              "    <tr>\n",
              "      <th>14536</th>\n",
              "      <td>Lifestyle</td>\n",
              "      <td>অনলাইনে পোশাক কিনলেই ছাড়</td>\n",
              "      <td>সমসাময়িক ট্রেন্ড এবং তারুণ্য নির্ভর ফ্যাশনে ক্...</td>\n",
              "      <td>1.0</td>\n",
              "    </tr>\n",
              "  </tbody>\n",
              "</table>\n",
              "</div>\n",
              "    <div class=\"colab-df-buttons\">\n",
              "\n",
              "  <div class=\"colab-df-container\">\n",
              "    <button class=\"colab-df-convert\" onclick=\"convertToInteractive('df-3e0a4f86-bae1-4595-8799-fe8ea43b3696')\"\n",
              "            title=\"Convert this dataframe to an interactive table.\"\n",
              "            style=\"display:none;\">\n",
              "\n",
              "  <svg xmlns=\"http://www.w3.org/2000/svg\" height=\"24px\" viewBox=\"0 -960 960 960\">\n",
              "    <path d=\"M120-120v-720h720v720H120Zm60-500h600v-160H180v160Zm220 220h160v-160H400v160Zm0 220h160v-160H400v160ZM180-400h160v-160H180v160Zm440 0h160v-160H620v160ZM180-180h160v-160H180v160Zm440 0h160v-160H620v160Z\"/>\n",
              "  </svg>\n",
              "    </button>\n",
              "\n",
              "  <style>\n",
              "    .colab-df-container {\n",
              "      display:flex;\n",
              "      gap: 12px;\n",
              "    }\n",
              "\n",
              "    .colab-df-convert {\n",
              "      background-color: #E8F0FE;\n",
              "      border: none;\n",
              "      border-radius: 50%;\n",
              "      cursor: pointer;\n",
              "      display: none;\n",
              "      fill: #1967D2;\n",
              "      height: 32px;\n",
              "      padding: 0 0 0 0;\n",
              "      width: 32px;\n",
              "    }\n",
              "\n",
              "    .colab-df-convert:hover {\n",
              "      background-color: #E2EBFA;\n",
              "      box-shadow: 0px 1px 2px rgba(60, 64, 67, 0.3), 0px 1px 3px 1px rgba(60, 64, 67, 0.15);\n",
              "      fill: #174EA6;\n",
              "    }\n",
              "\n",
              "    .colab-df-buttons div {\n",
              "      margin-bottom: 4px;\n",
              "    }\n",
              "\n",
              "    [theme=dark] .colab-df-convert {\n",
              "      background-color: #3B4455;\n",
              "      fill: #D2E3FC;\n",
              "    }\n",
              "\n",
              "    [theme=dark] .colab-df-convert:hover {\n",
              "      background-color: #434B5C;\n",
              "      box-shadow: 0px 1px 3px 1px rgba(0, 0, 0, 0.15);\n",
              "      filter: drop-shadow(0px 1px 2px rgba(0, 0, 0, 0.3));\n",
              "      fill: #FFFFFF;\n",
              "    }\n",
              "  </style>\n",
              "\n",
              "    <script>\n",
              "      const buttonEl =\n",
              "        document.querySelector('#df-3e0a4f86-bae1-4595-8799-fe8ea43b3696 button.colab-df-convert');\n",
              "      buttonEl.style.display =\n",
              "        google.colab.kernel.accessAllowed ? 'block' : 'none';\n",
              "\n",
              "      async function convertToInteractive(key) {\n",
              "        const element = document.querySelector('#df-3e0a4f86-bae1-4595-8799-fe8ea43b3696');\n",
              "        const dataTable =\n",
              "          await google.colab.kernel.invokeFunction('convertToInteractive',\n",
              "                                                    [key], {});\n",
              "        if (!dataTable) return;\n",
              "\n",
              "        const docLinkHtml = 'Like what you see? Visit the ' +\n",
              "          '<a target=\"_blank\" href=https://colab.research.google.com/notebooks/data_table.ipynb>data table notebook</a>'\n",
              "          + ' to learn more about interactive tables.';\n",
              "        element.innerHTML = '';\n",
              "        dataTable['output_type'] = 'display_data';\n",
              "        await google.colab.output.renderOutput(dataTable, element);\n",
              "        const docLink = document.createElement('div');\n",
              "        docLink.innerHTML = docLinkHtml;\n",
              "        element.appendChild(docLink);\n",
              "      }\n",
              "    </script>\n",
              "  </div>\n",
              "\n",
              "\n",
              "<div id=\"df-4acc7b6d-56fa-4f31-a7da-0319c498f68c\">\n",
              "  <button class=\"colab-df-quickchart\" onclick=\"quickchart('df-4acc7b6d-56fa-4f31-a7da-0319c498f68c')\"\n",
              "            title=\"Suggest charts\"\n",
              "            style=\"display:none;\">\n",
              "\n",
              "<svg xmlns=\"http://www.w3.org/2000/svg\" height=\"24px\"viewBox=\"0 0 24 24\"\n",
              "     width=\"24px\">\n",
              "    <g>\n",
              "        <path d=\"M19 3H5c-1.1 0-2 .9-2 2v14c0 1.1.9 2 2 2h14c1.1 0 2-.9 2-2V5c0-1.1-.9-2-2-2zM9 17H7v-7h2v7zm4 0h-2V7h2v10zm4 0h-2v-4h2v4z\"/>\n",
              "    </g>\n",
              "</svg>\n",
              "  </button>\n",
              "\n",
              "<style>\n",
              "  .colab-df-quickchart {\n",
              "      --bg-color: #E8F0FE;\n",
              "      --fill-color: #1967D2;\n",
              "      --hover-bg-color: #E2EBFA;\n",
              "      --hover-fill-color: #174EA6;\n",
              "      --disabled-fill-color: #AAA;\n",
              "      --disabled-bg-color: #DDD;\n",
              "  }\n",
              "\n",
              "  [theme=dark] .colab-df-quickchart {\n",
              "      --bg-color: #3B4455;\n",
              "      --fill-color: #D2E3FC;\n",
              "      --hover-bg-color: #434B5C;\n",
              "      --hover-fill-color: #FFFFFF;\n",
              "      --disabled-bg-color: #3B4455;\n",
              "      --disabled-fill-color: #666;\n",
              "  }\n",
              "\n",
              "  .colab-df-quickchart {\n",
              "    background-color: var(--bg-color);\n",
              "    border: none;\n",
              "    border-radius: 50%;\n",
              "    cursor: pointer;\n",
              "    display: none;\n",
              "    fill: var(--fill-color);\n",
              "    height: 32px;\n",
              "    padding: 0;\n",
              "    width: 32px;\n",
              "  }\n",
              "\n",
              "  .colab-df-quickchart:hover {\n",
              "    background-color: var(--hover-bg-color);\n",
              "    box-shadow: 0 1px 2px rgba(60, 64, 67, 0.3), 0 1px 3px 1px rgba(60, 64, 67, 0.15);\n",
              "    fill: var(--button-hover-fill-color);\n",
              "  }\n",
              "\n",
              "  .colab-df-quickchart-complete:disabled,\n",
              "  .colab-df-quickchart-complete:disabled:hover {\n",
              "    background-color: var(--disabled-bg-color);\n",
              "    fill: var(--disabled-fill-color);\n",
              "    box-shadow: none;\n",
              "  }\n",
              "\n",
              "  .colab-df-spinner {\n",
              "    border: 2px solid var(--fill-color);\n",
              "    border-color: transparent;\n",
              "    border-bottom-color: var(--fill-color);\n",
              "    animation:\n",
              "      spin 1s steps(1) infinite;\n",
              "  }\n",
              "\n",
              "  @keyframes spin {\n",
              "    0% {\n",
              "      border-color: transparent;\n",
              "      border-bottom-color: var(--fill-color);\n",
              "      border-left-color: var(--fill-color);\n",
              "    }\n",
              "    20% {\n",
              "      border-color: transparent;\n",
              "      border-left-color: var(--fill-color);\n",
              "      border-top-color: var(--fill-color);\n",
              "    }\n",
              "    30% {\n",
              "      border-color: transparent;\n",
              "      border-left-color: var(--fill-color);\n",
              "      border-top-color: var(--fill-color);\n",
              "      border-right-color: var(--fill-color);\n",
              "    }\n",
              "    40% {\n",
              "      border-color: transparent;\n",
              "      border-right-color: var(--fill-color);\n",
              "      border-top-color: var(--fill-color);\n",
              "    }\n",
              "    60% {\n",
              "      border-color: transparent;\n",
              "      border-right-color: var(--fill-color);\n",
              "    }\n",
              "    80% {\n",
              "      border-color: transparent;\n",
              "      border-right-color: var(--fill-color);\n",
              "      border-bottom-color: var(--fill-color);\n",
              "    }\n",
              "    90% {\n",
              "      border-color: transparent;\n",
              "      border-bottom-color: var(--fill-color);\n",
              "    }\n",
              "  }\n",
              "</style>\n",
              "\n",
              "  <script>\n",
              "    async function quickchart(key) {\n",
              "      const quickchartButtonEl =\n",
              "        document.querySelector('#' + key + ' button');\n",
              "      quickchartButtonEl.disabled = true;  // To prevent multiple clicks.\n",
              "      quickchartButtonEl.classList.add('colab-df-spinner');\n",
              "      try {\n",
              "        const charts = await google.colab.kernel.invokeFunction(\n",
              "            'suggestCharts', [key], {});\n",
              "      } catch (error) {\n",
              "        console.error('Error during call to suggestCharts:', error);\n",
              "      }\n",
              "      quickchartButtonEl.classList.remove('colab-df-spinner');\n",
              "      quickchartButtonEl.classList.add('colab-df-quickchart-complete');\n",
              "    }\n",
              "    (() => {\n",
              "      let quickchartButtonEl =\n",
              "        document.querySelector('#df-4acc7b6d-56fa-4f31-a7da-0319c498f68c button');\n",
              "      quickchartButtonEl.style.display =\n",
              "        google.colab.kernel.accessAllowed ? 'block' : 'none';\n",
              "    })();\n",
              "  </script>\n",
              "</div>\n",
              "\n",
              "    </div>\n",
              "  </div>\n"
            ],
            "application/vnd.google.colaboratory.intrinsic+json": {
              "type": "dataframe",
              "summary": "{\n  \"name\": \"df\",\n  \"rows\": 5,\n  \"fields\": [\n    {\n      \"column\": \"category\",\n      \"properties\": {\n        \"dtype\": \"string\",\n        \"num_unique_values\": 5,\n        \"samples\": [\n          \"Crime\",\n          \"Lifestyle\",\n          \"Education\"\n        ],\n        \"semantic_type\": \"\",\n        \"description\": \"\"\n      }\n    },\n    {\n      \"column\": \"headline\",\n      \"properties\": {\n        \"dtype\": \"string\",\n        \"num_unique_values\": 5,\n        \"samples\": [\n          \"\\u098f\\u09ac\\u09bf \\u09ac\\u09cd\\u09af\\u09be\\u0982\\u0995\\u09c7\\u09b0 \\u09aa\\u09cd\\u09b0\\u09be\\u0995\\u09cd\\u09a4\\u09a8 \\u099a\\u09c7\\u09df\\u09be\\u09b0\\u09ae\\u09cd\\u09af\\u09be\\u09a8\\u09b8\\u09b9 \\u09ea \\u099c\\u09a8\\u0995\\u09c7 \\u099c\\u09bf\\u099c\\u09cd\\u099e\\u09be\\u09b8\\u09be\\u09ac\\u09be\\u09a6\",\n          \"\\u0985\\u09a8\\u09b2\\u09be\\u0987\\u09a8\\u09c7 \\u09aa\\u09cb\\u09b6\\u09be\\u0995 \\u0995\\u09bf\\u09a8\\u09b2\\u09c7\\u0987 \\u099b\\u09be\\u09dc\",\n          \"\\u09aa\\u09b0\\u09c0\\u0995\\u09cd\\u09b7\\u09be \\u09ac\\u09be\\u09a4\\u09bf\\u09b2 \\u09b9\\u0993\\u09df\\u09be\\u09df \\u09e7\\u09ae -\\u09e9\\u09df \\u09b6\\u09cd\\u09b0\\u09c7\\u09a3\\u09c0\\u09a4\\u09c7 \\u09ad\\u09b0\\u09cd\\u09a4\\u09bf \\u09b9\\u09a4\\u09c7 \\u09ac\\u09bf\\u09b6\\u09cd\\u09ac\\u09ac\\u09bf\\u09a6\\u09cd\\u09af\\u09be\\u09b2\\u09df \\u09b6\\u09bf\\u0995\\u09cd\\u09b7\\u09be\\u09b0\\u09cd\\u09a5\\u09c0\\u09a6\\u09c7\\u09b0 \\u09a6\\u09c0\\u09b0\\u09cd\\u0998 \\u09b2\\u09be\\u0987\\u09a8 - Bengal Beats\"\n        ],\n        \"semantic_type\": \"\",\n        \"description\": \"\"\n      }\n    },\n    {\n      \"column\": \"content\",\n      \"properties\": {\n        \"dtype\": \"string\",\n        \"num_unique_values\": 5,\n        \"samples\": [\n          \"\\u09a8\\u09bf\\u099c\\u09b8\\u09cd\\u09ac \\u09aa\\u09cd\\u09b0\\u09a4\\u09bf\\u09ac\\u09c7\\u09a6\\u0995 : \\u09b8\\u09bf\\u099f\\u09bf\\u09b8\\u09c7\\u09b2\\u09c7\\u09b0 \\u09a8\\u09be\\u09ae\\u09c7 \\u09e9\\u09ee\\u09e9 \\u0995\\u09cb\\u099f\\u09bf \\u099f\\u09be\\u0995\\u09be \\u0986\\u09a4\\u09cd\\u09ae\\u09b8\\u09be\\u09a4\\u09c7\\u09b0 \\u09ae\\u09be\\u09ae\\u09b2\\u09be\\u09b0 \\u09a4\\u09a6\\u09a8\\u09cd\\u09a4\\u09c7 \\u098f\\u09ac\\u09bf \\u09ac\\u09cd\\u09af\\u09be\\u0982\\u0995\\u09c7\\u09b0 \\u09aa\\u09cd\\u09b0\\u09be\\u0995\\u09cd\\u09a4\\u09a8 \\u099a\\u09c7\\u09df\\u09be\\u09b0\\u09ae\\u09cd\\u09af\\u09be\\u09a8 \\u098f\\u09ae \\u0993\\u09df\\u09be\\u09b9\\u09bf\\u09a6\\u09c1\\u09b2 \\u09b9\\u0995 \\u0993 \\u09a4\\u09bf\\u09a8 \\u09aa\\u09b0\\u09bf\\u099a\\u09be\\u09b2\\u0995\\u0995\\u09c7 \\u099c\\u09bf\\u099c\\u09cd\\u099e\\u09be\\u09b8\\u09be\\u09ac\\u09be\\u09a6 \\u0995\\u09b0\\u099b\\u09c7 \\u09a6\\u09c1\\u09b0\\u09cd\\u09a8\\u09c0\\u09a4\\u09bf \\u09a6\\u09ae\\u09a8 \\u0995\\u09ae\\u09bf\\u09b6\\u09a8 (\\u09a6\\u09c1\\u09a6\\u0995)\\u0964 \\u09b8\\u09cb\\u09ae\\u09ac\\u09be\\u09b0 \\u09aa\\u09cd\\u09b0\\u09a7\\u09be\\u09a8 \\u0995\\u09be\\u09b0\\u09cd\\u09af\\u09be\\u09b2\\u09df\\u09c7 \\u09b8\\u0995\\u09be\\u09b2 \\u09ef\\u099f\\u09be \\u09eb\\u09e6 \\u09ae\\u09bf\\u09a8\\u09bf\\u099f \\u09a5\\u09c7\\u0995\\u09c7 \\u0995\\u09ae\\u09bf\\u09b6\\u09a8\\u09c7\\u09b0 \\u0989\\u09aa\\u09aa\\u09b0\\u09bf\\u099a\\u09be\\u09b2\\u0995 \\u0993 \\u09a4\\u09a6\\u09a8\\u09cd\\u09a4 \\u0995\\u09b0\\u09cd\\u09ae\\u0995\\u09b0\\u09cd\\u09a4\\u09be \\u09ae\\u09cb. \\u09b8\\u09be\\u09ae\\u09b8\\u09c1\\u09b2 \\u0986\\u09b2\\u09ae \\u09a4\\u09be\\u09a6\\u09c7\\u09b0 \\u099c\\u09bf\\u099c\\u09cd\\u099e\\u09be\\u09b8\\u09be\\u09ac\\u09be\\u09a6 \\u09b6\\u09c1\\u09b0\\u09c1 \\u0995\\u09b0\\u09c7\\u099b\\u09c7\\u09a8\\u0964 \\u09b8\\u0982\\u09b8\\u09cd\\u09a5\\u09be\\u099f\\u09bf\\u09b0 \\u099c\\u09a8\\u09b8\\u0982\\u09af\\u09cb\\u0997 \\u0995\\u09b0\\u09cd\\u09ae\\u0995\\u09b0\\u09cd\\u09a4\\u09be \\u09aa\\u09cd\\u09b0\\u09a8\\u09ac \\u0995\\u09c1\\u09ae\\u09be\\u09b0 \\u09ad\\u099f\\u09cd\\u099f\\u09be\\u099a\\u09be\\u09b0\\u09cd\\u09af\\u09cd\\u09af \\u09b0\\u09be\\u0987\\u099c\\u09bf\\u0982\\u09ac\\u09bf\\u09a1\\u09bf\\u0995\\u09c7 \\u098f\\u09b8\\u09ac \\u09a4\\u09a5\\u09cd\\u09af \\u099c\\u09be\\u09a8\\u09bf\\u09df\\u09c7\\u099b\\u09c7\\u09a8\\u0964 \\u09af\\u09be\\u09a6\\u09c7\\u09b0 \\u099c\\u09bf\\u099c\\u09cd\\u099e\\u09be\\u09b8\\u09be\\u09ac\\u09be\\u09a6 \\u0995\\u09b0\\u09be \\u09b9\\u099a\\u09cd\\u099b\\u09c7 \\u09a4\\u09be\\u09b0\\u09be \\u09b9\\u09b2\\u09c7\\u09a8- \\u098f\\u09ac\\u09bf \\u09ac\\u09cd\\u09af\\u09be\\u0982\\u0995\\u09c7\\u09b0 \\u09aa\\u09cd\\u09b0\\u09be\\u0995\\u09cd\\u09a4\\u09a8 \\u099a\\u09c7\\u09df\\u09be\\u09b0\\u09ae\\u09cd\\u09af\\u09be\\u09a8 \\u0993 \\u09aa\\u09b0\\u09bf\\u099a\\u09be\\u09b2\\u0995 \\u098f\\u09ae \\u0993\\u09df\\u09be\\u09b9\\u09bf\\u09a6\\u09c1\\u09b2 \\u09b9\\u0995, \\u09aa\\u09b0\\u09bf\\u099a\\u09be\\u09b2\\u0995 \\u09ae\\u09cb. \\u09ab\\u09bf\\u09b0\\u09cb\\u099c \\u0986\\u09b9\\u09ae\\u09c7\\u09a6, \\u09aa\\u09cd\\u09b0\\u09be\\u0995\\u09cd\\u09a4\\u09a8 \\u09aa\\u09b0\\u09bf\\u099a\\u09be\\u09b2\\u0995 \\u098f\\u09ae \\u098f \\u0986\\u0989\\u09df\\u09be\\u09b2 \\u0993 \\u0985\\u09a7\\u09cd\\u09af\\u09be\\u09aa\\u0995 \\u09ae\\u09cb. \\u0987\\u09ae\\u09a4\\u09bf\\u09df\\u09be\\u099c \\u09b9\\u09cb\\u09b8\\u09c7\\u09a8\\u0964 \\u0997\\u09a4 \\u09e7\\u09ed\\u00a0 \\u09b8\\u09c7\\u09aa\\u09cd\\u099f\\u09c7\\u09ae\\u09cd\\u09ac\\u09b0 \\u09a4\\u09be\\u09a6\\u09c7\\u09b0 \\u09a4\\u09b2\\u09ac \\u0995\\u09b0\\u09c7 \\u099a\\u09bf\\u09a0\\u09bf \\u09a6\\u09c7\\u0993\\u09df\\u09be \\u09b9\\u09df\\u0964 \\u0993\\u0987 \\u09a4\\u09b2\\u09ac\\u09bf \\u09a8\\u09cb\\u099f\\u09bf\\u09b6\\u09c7 \\u0986\\u0997\\u09be\\u09ae\\u09c0 \\u09e8 \\u0993 \\u09e9 \\u0985\\u0995\\u09cd\\u099f\\u09cb\\u09ac\\u09b0 \\u09ac\\u09b0\\u09cd\\u09a4\\u09ae\\u09be\\u09a8 \\u0993 \\u09aa\\u09cd\\u09b0\\u09be\\u0995\\u09cd\\u09a4\\u09a8 \\u09ae\\u09bf\\u09b2\\u09bf\\u09df\\u09c7 \\u0986\\u09b0\\u09cb \\u09ee \\u09aa\\u09b0\\u09bf\\u099a\\u09be\\u09b2\\u0995\\u0995\\u09c7 \\u099c\\u09bf\\u099c\\u09cd\\u099e\\u09be\\u09b8\\u09be\\u09ac\\u09be\\u09a6\\u09c7\\u09b0 \\u099c\\u09a8\\u09cd\\u09af \\u09a4\\u09b2\\u09ac \\u0995\\u09b0\\u09be \\u09b9\\u09df\\u0964 \\u0985\\u09b0\\u09cd\\u09a5 \\u0986\\u09a4\\u09cd\\u09ae\\u09b8\\u09be\\u09a4\\u09c7\\u09b0 \\u0993\\u0987 \\u09ae\\u09be\\u09ae\\u09b2\\u09be\\u09b0 \\u0986\\u09b8\\u09be\\u09ae\\u09bf \\u09ac\\u09bf\\u098f\\u09a8\\u09aa\\u09bf \\u09a8\\u09c7\\u09a4\\u09be \\u098f\\u09ae \\u09ae\\u09cb\\u09b0\\u09b6\\u09c7\\u09a6 \\u0996\\u09be\\u09a8 \\u0993 \\u09a4\\u09be\\u09b0 \\u09b8\\u09cd\\u09a4\\u09cd\\u09b0\\u09c0 \\u09a8\\u09be\\u099b\\u09b0\\u09bf\\u09a8 \\u0996\\u09be\\u09a8\\u0995\\u09c7 \\u099c\\u09bf\\u099c\\u09cd\\u099e\\u09be\\u09b8\\u09be\\u09ac\\u09be\\u09a6\\u09c7\\u09b0 \\u099c\\u09a8\\u09cd\\u09af \\u09a4\\u09b2\\u09ac \\u0995\\u09b0\\u09be \\u09b9\\u09b2\\u09c7\\u0993 \\u0985\\u09b8\\u09c1\\u09b8\\u09cd\\u09a5\\u09a4\\u09be\\u09b0 \\u0995\\u09be\\u09b0\\u09a3 \\u09a6\\u09c7\\u0996\\u09bf\\u09df\\u09c7 \\u09a4\\u09be\\u09b0\\u09be \\u09b9\\u09be\\u099c\\u09bf\\u09b0 \\u09b9\\u09a8\\u09a8\\u09bf\\u0964 \\u09e8\\u09e6\\u09e7\\u09ed \\u09b8\\u09be\\u09b2\\u09c7\\u09b0 \\u09e8\\u09ee \\u099c\\u09c1\\u09a8 \\u09b0\\u09be\\u099c\\u09a7\\u09be\\u09a8\\u09c0\\u09b0 \\u09ac\\u09a8\\u09be\\u09a8\\u09c0 \\u09a5\\u09be\\u09a8\\u09be\\u09df \\u0995\\u09b0\\u09be \\u09ae\\u09be\\u09ae\\u09b2\\u09be\\u09df \\u09ac\\u09bf\\u098f\\u09a8\\u09aa\\u09bf\\u09b0 \\u09ad\\u09be\\u0987\\u09b8 \\u099a\\u09c7\\u09df\\u09be\\u09b0\\u09ae\\u09cd\\u09af\\u09be\\u09a8 \\u09ae\\u09cb\\u09b0\\u09b6\\u09c7\\u09a6 \\u0996\\u09be\\u09a8, \\u09a4\\u09be\\u09b0 \\u09b8\\u09cd\\u09a4\\u09cd\\u09b0\\u09c0, \\u09b8\\u09bf\\u099f\\u09bf\\u09b8\\u09c7\\u09b2\\u09c7\\u09b0 \\u098f\\u09ae\\u09a1\\u09bf \\u09ae\\u09c7\\u09b9\\u09ac\\u09c1\\u09ac \\u099a\\u09cc\\u09a7\\u09c1\\u09b0\\u09c0\\u09b8\\u09b9 \\u09ae\\u09cb\\u099f \\u09e7\\u09ec \\u099c\\u09a8\\u09c7\\u09b0 \\u09a8\\u09be\\u09ae \\u0989\\u09b2\\u09cd\\u09b2\\u09c7\\u0996 \\u0995\\u09b0\\u09be \\u09b9\\u09df\\u0964 \\u09ae\\u09cb\\u09ac\\u09be\\u0987\\u09b2 \\u09ab\\u09cb\\u09a8 \\u0985\\u09aa\\u09be\\u09b0\\u09c7\\u099f\\u09b0 \\u09b8\\u09bf\\u099f\\u09bf\\u09b8\\u09c7\\u09b2\\u09c7\\u09b0 \\u09ae\\u09c2\\u09b2 \\u0995\\u09cb\\u09ae\\u09cd\\u09aa\\u09be\\u09a8\\u09bf\\u09b0 \\u09a8\\u09be\\u09ae \\u09aa\\u09cd\\u09af\\u09be\\u09b8\\u09bf\\u09ab\\u09bf\\u0995 \\u099f\\u09c7\\u09b2\\u09bf\\u0995\\u09ae \\u09ac\\u09be\\u0982\\u09b2\\u09be\\u09a6\\u09c7\\u09b6 \\u09b2\\u09bf\\u09ae\\u09bf\\u099f\\u09c7\\u09a1 (\\u09aa\\u09bf\\u09ac\\u09bf\\u099f\\u09bf\\u098f\\u09b2)\\u0964 \\u098f\\u09ae \\u09ae\\u09cb\\u09b0\\u09b6\\u09c7\\u09a6 \\u0996\\u09be\\u09a8 \\u098f\\u09b0 \\u099a\\u09c7\\u09df\\u09be\\u09b0\\u09ae\\u09cd\\u09af\\u09be\\u09a8, \\u09a4\\u09be\\u09b0 \\u09b8\\u09cd\\u09a4\\u09cd\\u09b0\\u09c0 \\u09a8\\u09be\\u099b\\u09b0\\u09bf\\u09a8 \\u0996\\u09be\\u09a8\\u0993 \\u098f\\u0995\\u099c\\u09a8 \\u09aa\\u09b0\\u09bf\\u099a\\u09be\\u09b2\\u0995\\u0964 \\u098f \\u09ae\\u09be\\u09ae\\u09b2\\u09be\\u09df \\u0986\\u09b8\\u09be\\u09ae\\u09bf\\u09a6\\u09c7\\u09b0 \\u09ac\\u09bf\\u09b0\\u09c1\\u09a6\\u09cd\\u09a7\\u09c7 \\u09b8\\u09bf\\u099f\\u09bf\\u09b8\\u09c7\\u09b2\\u09c7\\u09b0 \\u09a8\\u09be\\u09ae\\u09c7 \\u098f \\u09ac\\u09bf \\u09ac\\u09cd\\u09af\\u09be\\u0982\\u0995 \\u09a5\\u09c7\\u0995\\u09c7 \\u0985\\u09a8\\u09bf\\u09df\\u09ae\\u09c7\\u09b0 \\u09ae\\u09be\\u09a7\\u09cd\\u09af\\u09ae\\u09c7 \\u09b8\\u09be\\u09dc\\u09c7 \\u09a4\\u09bf\\u09a8\\u09b6 \\u0995\\u09cb\\u099f\\u09bf \\u099f\\u09be\\u0995\\u09be \\u098b\\u09a3 \\u09a8\\u09bf\\u09df\\u09c7 \\u0986\\u09a4\\u09cd\\u09ae\\u09b8\\u09be\\u09a4\\u09c7\\u09b0 \\u0985\\u09ad\\u09bf\\u09af\\u09cb\\u0997 \\u09b0\\u09df\\u09c7\\u099b\\u09c7\\u0964 \\u09a6\\u09c7\\u09a8\\u09be\\u09b0 \\u09a6\\u09be\\u09df\\u09c7 \\u09e8\\u09e6\\u09e7\\u09ec \\u09b8\\u09be\\u09b2\\u09c7 \\u09ac\\u09a8\\u09cd\\u09a7 \\u09b9\\u09df\\u09c7 \\u09af\\u09be\\u0993\\u09df\\u09be \\u09b8\\u09bf\\u099f\\u09bf\\u09b8\\u09c7\\u09b2\\u09c7\\u09b0 \\u09b9\\u09be\\u09a4 \\u09a7\\u09b0\\u09c7\\u0987 \\u09a6\\u09c7\\u09dc \\u09af\\u09c1\\u0997 \\u0986\\u0997\\u09c7 \\u09ac\\u09be\\u0982\\u09b2\\u09be\\u09a6\\u09c7\\u09b6\\u09c7 \\u09ae\\u09cb\\u09ac\\u09be\\u0987\\u09b2 \\u09ab\\u09cb\\u09a8 \\u09b8\\u09c7\\u09ac\\u09be\\u09b0 \\u09af\\u09be\\u09a4\\u09cd\\u09b0\\u09be \\u09b6\\u09c1\\u09b0\\u09c1 \\u09b9\\u09df\\u09c7\\u099b\\u09bf\\u09b2\\u0964 \\u09e7\\u09ef\\u09ee\\u09ef \\u09b8\\u09be\\u09b2\\u09c7 \\u09ac\\u09be\\u0982\\u09b2\\u09be\\u09a6\\u09c7\\u09b6 \\u099f\\u09c7\\u09b2\\u09bf\\u0995\\u09ae \\u09b2\\u09bf\\u09ae\\u09bf\\u099f\\u09c7\\u09a1 (\\u09ac\\u09bf\\u099f\\u09bf\\u098f\\u09b2) \\u09a8\\u09be\\u09ae\\u09c7 \\u099f\\u09c7\\u09b2\\u09bf\\u0995\\u09ae \\u09b8\\u09c7\\u09ac\\u09be \\u09aa\\u09b0\\u09bf\\u099a\\u09be\\u09b2\\u09a8\\u09be\\u09b0 \\u09b2\\u09be\\u0987\\u09b8\\u09c7\\u09a8\\u09cd\\u09b8 \\u09aa\\u09be\\u09df \\u09ac\\u09b0\\u09cd\\u09a4\\u09ae\\u09be\\u09a8 \\u09b8\\u09bf\\u099f\\u09bf\\u09b8\\u09c7\\u09b2\\u0964 \\u09aa\\u09b0\\u09c7\\u09b0 \\u09ac\\u099b\\u09b0 \\u09b9\\u0982\\u0995\\u0982 \\u09b9\\u09be\\u099a\\u09bf\\u09b8\\u09a8 \\u099f\\u09c7\\u09b2\\u09bf\\u0995\\u09ae\\u09bf\\u0989\\u09a8\\u09bf\\u0995\\u09c7\\u09b6\\u09a8 \\u09b2\\u09bf\\u09ae\\u09bf\\u099f\\u09c7\\u09a1 \\u098f \\u0995\\u09cb\\u09ae\\u09cd\\u09aa\\u09be\\u09a8\\u09bf\\u09a4\\u09c7 \\u09ac\\u09bf\\u09a8\\u09bf\\u09df\\u09c7\\u09be\\u0997 \\u0995\\u09b0\\u09b2\\u09c7 \\u09ac\\u09bf\\u099f\\u09bf\\u098f\\u09b2 \\u09a8\\u09be\\u09ae \\u09ac\\u09a6\\u09b2\\u09c7 \\u09b9\\u09df \\u09b9\\u09be\\u099a\\u09b8\\u09a8 \\u09ac\\u09be\\u0982\\u09b2\\u09be\\u09a6\\u09c7\\u09b6 \\u099f\\u09c7\\u09b2\\u09bf\\u0995\\u09ae \\u09b2\\u09bf\\u09ae\\u09bf\\u099f\\u09c7\\u09a1 (\\u098f\\u0987\\u099a\\u09ac\\u09bf\\u099f\\u09bf\\u098f\\u09b2)\\u0964 \\u09e7\\u09ef\\u09ef\\u09e9 \\u09b8\\u09be\\u09b2\\u09c7 \\u09ae\\u09cb\\u09b0\\u09b6\\u09c7\\u09a6 \\u0996\\u09be\\u09a8\\u09c7\\u09b0 \\u09ae\\u09be\\u09b2\\u09bf\\u0995\\u09be\\u09a8\\u09be\\u09a7\\u09c0\\u09a8 \\u09aa\\u09cd\\u09af\\u09be\\u09b8\\u09bf\\u09ab\\u09bf\\u0995 \\u09ae\\u099f\\u09b0\\u09b8 \\u0993 \\u09ab\\u09be\\u09b0\\u0987\\u09b8\\u09cd\\u099f \\u099f\\u09c7\\u09b2\\u09bf\\u0995\\u09ae \\u09ae\\u09bf\\u09b2\\u09c7 \\u098f\\u0987\\u099a\\u09ac\\u09bf\\u099f\\u09bf\\u098f\\u09b2 \\u098f\\u09b0 \\u09b6\\u09c7\\u09df\\u09be\\u09b0 \\u0995\\u09bf\\u09a8\\u09c7 \\u09a8\\u09bf\\u09b2\\u09c7 \\u098f \\u0995\\u09cb\\u09ae\\u09cd\\u09aa\\u09be\\u09a8\\u09bf\\u09b0 \\u09ae\\u09be\\u09b2\\u09bf\\u0995\\u09be\\u09a8\\u09be\\u09df \\u09aa\\u09b0\\u09bf\\u09ac\\u09b0\\u09cd\\u09a4\\u09a8 \\u0986\\u09b8\\u09c7\\u0964 \\u0995\\u09cb\\u09ae\\u09cd\\u09aa\\u09be\\u09a8\\u09bf\\u09b0 \\u09a8\\u09be\\u09ae \\u09ac\\u09a6\\u09b2\\u09c7 \\u09b9\\u09df \\u09aa\\u09cd\\u09af\\u09be\\u09b8\\u09bf\\u09ab\\u09bf\\u0995 \\u09ac\\u09be\\u0982\\u09b2\\u09be\\u09a6\\u09c7\\u09b6 \\u099f\\u09c7\\u09b2\\u09bf\\u0995\\u09ae \\u09b2\\u09bf\\u09ae\\u09bf\\u099f\\u09c7\\u09a1\\u0964 \\u09aa\\u09cd\\u09af\\u09be\\u09b8\\u09bf\\u09ab\\u09bf\\u0995 \\u09ae\\u099f\\u09b0\\u09b8 \\u09af\\u0996\\u09a8 \\u09b8\\u09bf\\u099f\\u09bf\\u09b8\\u09c7\\u09b2\\u09c7\\u09b0 \\u09ae\\u09be\\u09b2\\u09bf\\u0995\\u09be\\u09a8\\u09be\\u09df \\u0986\\u09b8\\u09c7, \\u09ae\\u09cb\\u09b0\\u09b6\\u09c7\\u09a6 \\u0996\\u09be\\u09a8 \\u09a4\\u0996\\u09a8 \\u09ae\\u09a8\\u09cd\\u09a4\\u09cd\\u09b0\\u09c0\\u09b0 \\u09aa\\u09a6\\u09ae\\u09b0\\u09cd\\u09af\\u09be\\u09a6\\u09be\\u09af\\u09bc \\u09a4\\u09ce\\u0995\\u09be\\u09b2\\u09c0\\u09a8 \\u09aa\\u09cd\\u09b0\\u09a7\\u09be\\u09a8\\u09ae\\u09a8\\u09cd\\u09a4\\u09cd\\u09b0\\u09c0 \\u0996\\u09be\\u09b2\\u09c7\\u09a6\\u09be \\u099c\\u09bf\\u09df\\u09be\\u09b0 \\u09ac\\u09bf\\u09a8\\u09bf\\u09df\\u09cb\\u0997 \\u09ac\\u09bf\\u09b7\\u09df\\u0995 \\u09ac\\u09bf\\u09b6\\u09c7\\u09b7 \\u09a6\\u09c2\\u09a4\\u09c7\\u09b0 \\u09a6\\u09be\\u09df\\u09bf\\u09a4\\u09cd\\u09ac\\u09c7\\u0964 \\u0986\\u09b0 \\u098f\\u0987\\u099a \\u098f\\u09ae \\u098f\\u09b0\\u09b6\\u09be\\u09a6 \\u09b8\\u09b0\\u0995\\u09be\\u09b0\\u09c7\\u09b0 \\u09b8\\u09ae\\u09df\\u09c7 \\u09b8\\u09bf\\u099f\\u09bf\\u09b8\\u09c7\\u09b2 \\u09af\\u0996\\u09a8 \\u09b2\\u09be\\u0987\\u09b8\\u09c7\\u09a8\\u09cd\\u09b8 \\u09aa\\u09be\\u09df, \\u09ae\\u09cb\\u09b0\\u09b6\\u09c7\\u09a6 \\u0996\\u09be\\u09a8 \\u09a4\\u0996\\u09a8 \\u099b\\u09bf\\u09b2\\u09c7\\u09a8 \\u099c\\u09be\\u09a4\\u09c0\\u09df \\u09aa\\u09be\\u09b0\\u09cd\\u099f\\u09bf\\u09b0 \\u0995\\u09cb\\u09b7\\u09be\\u09a7\\u09cd\\u09af\\u0995\\u09cd\\u09b7\\u0964 \\u098f\\u0995\\u09ae\\u09be\\u09a4\\u09cd\\u09b0 \\u0985\\u09aa\\u09be\\u09b0\\u09c7\\u099f\\u09b0 \\u09b9\\u0993\\u09df\\u09be\\u09b0 \\u09b8\\u09c1\\u09af\\u09cb\\u0997\\u09c7 \\u09b8\\u09bf\\u099f\\u09bf\\u09b8\\u09c7\\u09b2 \\u09ac\\u09bf\\u098f\\u09a8\\u09aa\\u09bf \\u09b8\\u09b0\\u0995\\u09be\\u09b0\\u09c7\\u09b0 \\u09b8\\u09ae\\u09df\\u09c7 \\u098f\\u0995\\u099a\\u09c7\\u099f\\u09bf\\u09df\\u09be \\u09ac\\u09cd\\u09af\\u09ac\\u09b8\\u09be \\u0995\\u09b0\\u09c7\\u0964 \\u09e7\\u09ef\\u09ef\\u09ec \\u09b8\\u09be\\u09b2\\u09c7 \\u0986\\u0993\\u09df\\u09be\\u09ae\\u09c0 \\u09b2\\u09c0\\u0997 \\u0995\\u09cd\\u09b7\\u09ae\\u09a4\\u09be\\u09df \\u09af\\u09be\\u0993\\u09df\\u09be\\u09b0 \\u09aa\\u09b0 \\u0986\\u09b0\\u09cb \\u0995\\u09cb\\u09ae\\u09cd\\u09aa\\u09be\\u09a8\\u09bf\\u0995\\u09c7 \\u09ae\\u09cb\\u09ac\\u09be\\u0987\\u09b2 \\u09ab\\u09cb\\u09a8 \\u09b8\\u09c7\\u09ac\\u09be\\u09b0 \\u09b2\\u09be\\u0987\\u09b8\\u09c7\\u09a8\\u09cd\\u09b8 \\u09a6\\u09c7\\u0993\\u09df\\u09be \\u09b9\\u09b2\\u09c7 \\u09b8\\u09c7\\u0987 \\u098f\\u0995\\u099a\\u09c7\\u099f\\u09bf\\u09df\\u09be \\u09ac\\u09cd\\u09af\\u09ac\\u09b8\\u09be\\u09b0 \\u0985\\u09ac\\u09b8\\u09be\\u09a8 \\u0998\\u099f\\u09c7\\u0964 \\u0995\\u09cb\\u09ae\\u09cd\\u09aa\\u09be\\u09a8\\u09bf\\u09a4\\u09c7 \\u09e8\\u09e6\\u09e6\\u09ea \\u09b8\\u09be\\u09b2\\u09c7 \\u09ac\\u09bf\\u09a8\\u09bf\\u09df\\u09cb\\u0997 \\u0995\\u09b0\\u09c7 \\u09b8\\u09bf\\u0999\\u09cd\\u0997\\u09be\\u09aa\\u09c1\\u09b0\\u09c7\\u09b0 \\u09b8\\u09bf\\u0982\\u099f\\u09c7\\u09b2\\u0964 \\u0995\\u09bf\\u09a8\\u09cd\\u09a4\\u09c1 \\u09ac\\u09cd\\u09af\\u09ac\\u09b8\\u09be\\u09b0 \\u0986\\u09b0 \\u09aa\\u09cd\\u09b0\\u09b8\\u09be\\u09b0 \\u0998\\u099f\\u09c7\\u09a8\\u09bf\\u0964 \\u09b8\\u09b0\\u09cd\\u09ac\\u09b6\\u09c7\\u09b7 \\u09a4\\u09a5\\u09cd\\u09af \\u0985\\u09a8\\u09c1\\u09af\\u09be\\u09df\\u09c0, \\u098f \\u0995\\u09cb\\u09ae\\u09cd\\u09aa\\u09be\\u09a8\\u09bf\\u09b0 \\u09e9\\u09ed \\u09a6\\u09b6\\u09ae\\u09bf\\u0995 \\u09ef\\u09eb \\u09b6\\u09a4\\u09be\\u0982\\u09b6 \\u09b6\\u09c7\\u09df\\u09be\\u09b0\\u09c7\\u09b0 \\u09ae\\u09be\\u09b2\\u09bf\\u0995 \\u09ae\\u09cb\\u09b0\\u09b6\\u09c7\\u09a6 \\u0996\\u09be\\u09a8\\u09c7\\u09b0 \\u09aa\\u09cd\\u09af\\u09be\\u09b8\\u09bf\\u09ab\\u09bf\\u0995 \\u09ae\\u09c7\\u09be\\u099f\\u09b0\\u09b8 \\u09b2\\u09bf\\u09ae\\u09bf\\u099f\\u09c7\\u09a1\\u0964 \\u09b0\\u09be\\u0987\\u099c\\u09bf\\u0982\\u09ac\\u09bf\\u09a1\\u09bf/\\u09a2\\u09be\\u0995\\u09be/\\u09e7 \\u0985\\u0995\\u09cd\\u099f\\u09cb\\u09ac\\u09b0 \\u09e8\\u09e6\\u09e7\\u09ee/\\u098f\\u09ae \\u098f \\u09b0\\u09b9\\u09ae\\u09be\\u09a8/\\u0987\\u09ad\\u09be\",\n          \"\\u09b8\\u09ae\\u09b8\\u09be\\u09ae\\u09df\\u09bf\\u0995 \\u099f\\u09cd\\u09b0\\u09c7\\u09a8\\u09cd\\u09a1 \\u098f\\u09ac\\u0982 \\u09a4\\u09be\\u09b0\\u09c1\\u09a3\\u09cd\\u09af \\u09a8\\u09bf\\u09b0\\u09cd\\u09ad\\u09b0 \\u09ab\\u09cd\\u09af\\u09be\\u09b6\\u09a8\\u09c7 \\u0995\\u09cd\\u09af\\u09be\\u099f\\u09b8 \\u0986\\u0987\\u09df\\u09c7\\u09b0 \\u09a1\\u09bf\\u099c\\u09be\\u0987\\u09a8\\u09be\\u09b0\\u09a6\\u09c7\\u09b0 \\u09ae\\u09c1\\u09a8\\u09cd\\u09b8\\u09bf\\u09df\\u09be\\u09a8\\u09be\\u09df \\u09af\\u09cb\\u0997 \\u0995\\u09b0\\u09be \\u09b9\\u09df\\u09c7\\u099b\\u09c7 \\u09ac\\u09c8\\u099a\\u09bf\\u09a4\\u09cd\\u09b0\\u09cd\\u09af\\u0964 \\u09ac\\u09be\\u09dc\\u09a4\\u09bf \\u09b8\\u0982\\u09af\\u09c1\\u0995\\u09cd\\u09a4 \\u09b9\\u09df\\u09c7\\u099b\\u09c7 \\u09af\\u09c1\\u09ce\\u09b8\\u0987 \\u099f\\u09c7\\u0987\\u09b2\\u09b0\\u09bf\\u0982 \\u098f\\u09ac\\u0982 \\u09ae\\u09be\\u09a8\\u09b8\\u09ae\\u09cd\\u09ae\\u09a4 \\u09ac\\u09c8\\u099a\\u09bf\\u09a4\\u09cd\\u09b0\\u09aa\\u09c2\\u09b0\\u09cd\\u09a3 \\u0995\\u09be\\u09aa\\u09dc\\u0964 \\u09aa\\u09be\\u09b6\\u09be\\u09aa\\u09be\\u09b6\\u09bf \\u09aa\\u09a3\\u09cd\\u09af\\u09c7\\u09b0 \\u09a1\\u09bf\\u099c\\u09be\\u0987\\u09a8\\u09c7 \\u0986\\u09a7\\u09c1\\u09a8\\u09bf\\u0995\\u09a4\\u09be\\u09b0 \\u09b8\\u0999\\u09cd\\u0997\\u09c7 \\u09a5\\u09be\\u0995\\u099b\\u09c7 \\u09b8\\u09be\\u09b6\\u09cd\\u09b0\\u09df\\u09c0 \\u09a6\\u09be\\u09ae\\u0964 \\u09aa\\u09a3\\u09cd\\u09af\\u09c7\\u09b0 \\u09b8\\u09be\\u09b0\\u09cd\\u09ac\\u09bf\\u0995 \\u09ac\\u09bf\\u09a8\\u09cd\\u09af\\u09be\\u09b8\\u09c7\\u0993 \\u098f\\u09b8\\u09c7\\u099b\\u09c7 \\u0986\\u09a7\\u09c1\\u09a8\\u09bf\\u0995\\u09a4\\u09be\\u0964 \\u098f\\u09ac\\u09be\\u09b0 \\u09b8\\u09cd\\u09ae\\u09be\\u09b0\\u09cd\\u099f \\u0995\\u09cd\\u09af\\u09be\\u099c\\u09c1\\u09df\\u09be\\u09b2 \\u0993 \\u09b6\\u09be\\u09b0\\u09cd\\u099f\\u0997\\u09c1\\u09b2\\u09cb\\u09b0 \\u09a6\\u09be\\u09ae \\u09a5\\u09be\\u0995\\u099b\\u09c7 \\u09e7 \\u09b9\\u09be\\u099c\\u09be\\u09b0 \\u09ec\\u09ec\\u09ec \\u099f\\u09be\\u0995\\u09be \\u09a5\\u09c7\\u0995\\u09c7\\u0964 \\u09a4\\u09b0\\u09c1\\u09a3\\u09c0\\u09a6\\u09c7\\u09b0 \\u099c\\u09a8\\u09cd\\u09af \\u09b8\\u09cd\\u09b2\\u09bf\\u09ad, \\u09ab\\u09bf\\u099f\\u09bf\\u0982\\u09b8 \\u098f\\u09ac\\u0982 \\u09a8\\u09c7\\u0995 \\u09b2\\u09be\\u0987\\u09a8 \\u09ad\\u09bf\\u09a8\\u09cd\\u09a8\\u09a4\\u09be\\u09b0 \\u09b2\\u0982 \\u09aa\\u09cd\\u09af\\u09be\\u099f\\u09be\\u09b0\\u09cd\\u09a8 \\u099f\\u09aa\\u09b8 \\u09aa\\u09be\\u0993\\u09df\\u09be \\u09af\\u09be\\u09ac\\u09c7 \\u09e8 \\u09b9\\u09be\\u099c\\u09be\\u09b0 \\u09e9\\u09ed\\u09e7 \\u099f\\u09be\\u0995\\u09be \\u09a5\\u09c7\\u0995\\u09c7 \\u09e8 \\u09b9\\u09be\\u099c\\u09be\\u09b0 \\u09ee\\u09ea\\u09ed \\u099f\\u09be\\u0995\\u09be\\u09b0 \\u09ae\\u09a7\\u09cd\\u09af\\u09c7\\u0964\\u00a0 \\u09aa\\u09a3\\u09cd\\u09af\\u09c7\\u09b0 \\u09a6\\u09be\\u09ae \\u09b8\\u09be\\u09b6\\u09cd\\u09b0\\u09df\\u09c0 \\u0995\\u09b0\\u09be\\u09b0 \\u09aa\\u09be\\u09b6\\u09be\\u09aa\\u09be\\u09b6\\u09bf \\u09a6\\u09c7\\u09b6\\u099c\\u09c1\\u09dc\\u09c7 \\u09b8\\u0995\\u09b2 \\u09b8\\u09cd\\u099f\\u09cb\\u09b0\\u09c7 \\u09b9\\u09be\\u09ab\\u09b9\\u09be\\u09a4\\u09be \\u09b6\\u09be\\u09b0\\u09cd\\u099f\\u09c7 \\u09ae\\u09bf\\u09b2\\u09ac\\u09c7 \\u09e8\\u09eb \\u09ad\\u09be\\u0997 \\u099b\\u09be\\u09dc\\u09c7\\u09b0 \\u09b8\\u09c1\\u09af\\u09cb\\u0997\\u0964 \\u09b8\\u09cd\\u099f\\u09cb\\u09b0\\u09c7\\u09b0 \\u09aa\\u09a3\\u09cd\\u09af \\u0998\\u09b0\\u09c7 \\u09ac\\u09b8\\u09c7 \\u09a6\\u09c7\\u0996\\u09a4\\u09c7 \\u098f\\u09ac\\u0982 \\u09a8\\u09a4\\u09c1\\u09a8 \\u09aa\\u09a3\\u09cd\\u09af \\u0995\\u09bf\\u09a8\\u09a4\\u09c7 \\u09a4\\u09be\\u0987 \\u09a2\\u09c1 \\u09ae\\u09be\\u09b0\\u09a4\\u09c7 \\u09aa\\u09be\\u09b0\\u09c7\\u09a8 \\u0993\\u09df\\u09c7\\u09ac\\u09b8\\u09be\\u0987\\u099f\\u09c7\\u0964 \\u0985\\u09a8\\u09cd\\u09af\\u09a6\\u09bf\\u0995\\u09c7 \\u09aa\\u09c2\\u099c\\u09be\\u099c\\u09c1\\u09dc\\u09c7 \\u0995\\u09cd\\u09af\\u09be\\u099f\\u09b8 \\u0986\\u0987 \\u098f\\u09b0 \\u0993\\u09df\\u09c7\\u09ac\\u09b8\\u09be\\u0987\\u099f\\u09c7 \\u09b8\\u09ac \\u09aa\\u09a3\\u09cd\\u09af\\u09c7 \\u09ae\\u09bf\\u09b2\\u09ac\\u09c7 \\u09e7\\u09e6 \\u09a5\\u09c7\\u0995\\u09c7 \\u09eb\\u09e6 \\u09ad\\u09be\\u0997 \\u09aa\\u09b0\\u09cd\\u09af\\u09a8\\u09cd\\u09a4 \\u099b\\u09be\\u09dc\\u09c7\\u09b0 \\u09b8\\u09c1\\u09ac\\u09bf\\u09a7\\u09be\\u0964\",\n          \"\\u09e7-\\u09e9 \\u09b6\\u09cd\\u09b0\\u09c7\\u09a8\\u09c0 \\u09aa\\u09b0\\u09cd\\u09af\\u09a8\\u09cd\\u09a4 \\u09aa\\u09b0\\u09c0\\u0995\\u09cd\\u09b7\\u09be \\u09ac\\u09be\\u09a4\\u09bf\\u09b2\\u09c7\\u09b0 \\u0995\\u09a5\\u09be \\u09b6\\u09c1\\u09a8\\u09c7 \\u09a6\\u09c7\\u09b6\\u09c7\\u09b0 \\u09ac\\u09bf\\u09ad\\u09bf\\u09a8\\u09cd\\u09a8 \\u09b8\\u09cd\\u0995\\u09c1\\u09b2\\u0997\\u09c1\\u09b2\\u09cb\\u09a4\\u09c7 \\u09ac\\u09bf\\u09b6\\u09cd\\u09ac\\u09ac\\u09bf\\u09a6\\u09cd\\u09af\\u09be\\u09b2\\u09df \\u09aa\\u09dc\\u09c1\\u09df\\u09be\\u09a6\\u09c7\\u09b0 \\u09b9\\u09bf\\u09dc\\u09bf\\u0995 \\u09b2\\u09c7\\u0997\\u09c7 \\u0997\\u09c7\\u099b\\u09c7\\u0964 \\u09b8\\u09be\\u09ae\\u09cd\\u09aa\\u09cd\\u09b0\\u09a4\\u09bf\\u0995 \\u09b8\\u09ae\\u09df\\u09c7 \\u0995\\u09bf\\u099b\\u09c1 \\u09a6\\u09bf\\u09a8 \\u0986\\u0997\\u09c7 \\u09b8\\u09b0\\u0995\\u09be\\u09b0 \\u09e7-\\u09e9 \\u09b6\\u09cd\\u09b0\\u09c7\\u09a8\\u09c0 \\u09aa\\u09b0\\u09cd\\u09af\\u09a8\\u09cd\\u09a4 \\u09aa\\u09b0\\u09c0\\u0995\\u09cd\\u09b7\\u09be \\u09ac\\u09be\\u09a4\\u09bf\\u09b2 \\u0995\\u09b0\\u09a4\\u09c7 \\u09b8\\u0995\\u09b2 \\u09b8\\u09cd\\u0995\\u09c1\\u09b2 \\u0995\\u09b2\\u09c7\\u099c\\u0995\\u09c7 \\u09a8\\u09bf\\u09b0\\u09cd\\u09a6\\u09c7\\u09b6\\u09a8\\u09be \\u09a6\\u09c7\\u09df\\u0964 \\u098f\\u09a4\\u09c7 \\u0995\\u09b0\\u09c7 \\u09b8\\u0995\\u09b2 \\u09b6\\u09cd\\u09b0\\u09c7\\u09a8\\u09c0 \\u09aa\\u09c7\\u09b6\\u09be \\u09ac\\u09bf\\u09b6\\u09c7\\u09b7 \\u0995\\u09b0\\u09c7 \\u09ac\\u09bf\\u09b6\\u09cd\\u09ac\\u09ac\\u09bf\\u09a6\\u09cd\\u09af\\u09be\\u09b2\\u09df \\u09aa\\u09dc\\u09c2\\u09df\\u09be \\u09af\\u09c7\\u09b8\\u09ae\\u09b8\\u09cd\\u09a4 \\u09aa\\u09cb\\u09b2\\u09be\\u09aa\\u09be\\u09a8 \\u09aa\\u09b0\\u09c0\\u0995\\u09cd\\u09b7\\u09be\\u0995\\u09c7 \\u09b9\\u09be\\u09b6\\u09b0\\u09c7\\u09b0 \\u09ae\\u09df\\u09a6\\u09be\\u09a8\\u09c7\\u09b0 \\u0995\\u09a0\\u09bf\\u09a8 \\u09aa\\u09b0\\u09c0\\u0995\\u09cd\\u09b7\\u09be\\u09b0 \\u09ae\\u09a4\\u09cb \\u09ae\\u09a8\\u09c7 \\u0995\\u09b0\\u09c7 \\u09b8\\u09c7\\u0987 \\u09b8\\u09ae\\u09b8\\u09cd\\u09a4 \\u099b\\u09be\\u09a4\\u09cd\\u09b0\\u09a6\\u09c7\\u09b0 \\u09ae\\u09be\\u09a5\\u09be \\u09aa\\u09c1\\u09b0\\u09cb\\u09aa\\u09c1\\u09b0\\u09bf \\u0986\\u0989\\u09b2\\u09be-\\u099d\\u09be\\u0989\\u09b2\\u09be \\u09b9\\u09df\\u09c7 \\u0997\\u09c7\\u099b\\u09c7\\u0964 \\u09a4\\u09be\\u09b0\\u09be \\u0997\\u09a8\\u09b9\\u09be\\u09b0\\u09c7 \\u09e7-\\u09e9 \\u09a4\\u09c3\\u09a4\\u09c0\\u09df \\u09b6\\u09cd\\u09b0\\u09c7\\u09a8\\u09c0\\u09b0 \\u09ab\\u09b0\\u09cd\\u09ae \\u0995\\u09c7\\u09a8\\u09be \\u09b6\\u09c1\\u09b0\\u09c1 \\u0995\\u09b0\\u09c7\\u0964 \\u098f\\u09a4\\u09c7 \\u0995\\u09b0\\u09c7 \\u099a\\u09be\\u09b9\\u09bf\\u09a6\\u09be \\u09ae\\u09c7\\u099f\\u09be\\u09a4\\u09c7 \\u09a8\\u09be \\u09aa\\u09c7\\u09b0\\u09c7 \\u09b6\\u09c1\\u09b0\\u09c1 \\u09b9\\u09df \\u09ab\\u09b0\\u09cd\\u09ae \\u09b8\\u0982\\u0995\\u099f\\u0964 \\u0995\\u09bf\\u099b\\u09c1 \\u0995\\u09bf\\u099b\\u09c1 \\u099b\\u09be\\u09a4\\u09cd\\u09b0 \\u0986\\u09ac\\u09be\\u09b0 \\u09a6\\u09c1\\u0987 \\u098f\\u0995\\u099f\\u09be \\u09ab\\u09b0\\u09cd\\u09ae \\u09ac\\u09c7\\u09b6\\u09bf \\u0995\\u09b0\\u09c7 \\u0995\\u09bf\\u09a8\\u09c7 \\u09ac\\u09cd\\u09b2\\u09cd\\u09af\\u09be\\u0995\\u09c7 \\u09ac\\u09c7\\u09b6\\u09bf \\u09a6\\u09be\\u09ae\\u09c7 \\u09ac\\u09c7\\u099a\\u09be \\u09b6\\u09c1\\u09b0\\u09c1 \\u0995\\u09b0\\u09c7 \\u09a6\\u09bf\\u09df\\u09c7\\u099b\\u09c7\\u0964\\u098f\\u09a6\\u09bf\\u0995\\u09c7 \\u098f\\u0995 \\u099c\\u09b0\\u09c1\\u09b0\\u09bf \\u09b8\\u0982\\u09ac\\u09be\\u09a6 \\u09b8\\u09ae\\u09cd\\u09ae\\u09c7\\u09b2\\u09a8\\u09c7 \\u098f\\u09a4\\u09a6\\u09bf\\u09a8 \\u09a7\\u09b0\\u09c7 \\u0990\\u09a4\\u09bf\\u09b9\\u09cd\\u09af \\u09ac\\u099c\\u09be\\u09df \\u09b0\\u09c7\\u0996\\u09c7 \\u09aa\\u09cd\\u09b0\\u09b6\\u09cd\\u09a8\\u09aa\\u09a4\\u09cd\\u09b0 \\u09ab\\u09be\\u0981\\u09b8 \\u0995\\u09b0\\u09c7 \\u0986\\u09b8\\u09be \\u0995\\u09ae\\u09bf\\u099f\\u09bf \\u09aa\\u09cd\\u09b0\\u09ab\\u09be\\u0995-\\u098f\\u09b0 \\u09b8\\u09be\\u09a7\\u09be\\u09b0\\u09a3 \\u09b8\\u09a6\\u09b8\\u09cd\\u09af \\u099c\\u09be\\u09a8\\u09be\\u09a8- \\u201c\\u09ad\\u09be\\u0987! \\u0986\\u09ae\\u09b0\\u09be \\u098f\\u09ae\\u09a8 \\u09b8\\u09bf\\u09a6\\u09cd\\u09a7\\u09be\\u09a8\\u09cd\\u09a4\\u09c7\\u09b0 \\u09a4\\u09c0\\u09ac\\u09cd\\u09b0 \\u09a8\\u09bf\\u09a8\\u09cd\\u09a6\\u09be \\u099c\\u09be\\u09a8\\u09be\\u0987, \\u098f\\u0995\\u09ac\\u09be\\u09b0 \\u099a\\u09bf\\u09a8\\u09cd\\u09a4\\u09be \\u0995\\u0987\\u09b0\\u09be \\u09a6\\u09c7\\u0996\\u09c7\\u09a8\\u0964 \\u098f\\u09ad\\u09be\\u09ac\\u09c7 \\u09af\\u09a6\\u09bf \\u09b8\\u09ac \\u0995\\u09cd\\u09b2\\u09be\\u09b8\\u09c7\\u09b0 \\u09aa\\u09b0\\u09c0\\u0995\\u09cd\\u09b7\\u09be \\u0989\\u09a0\\u09c7 \\u09af\\u09be\\u09df \\u09a4\\u09be\\u09b9\\u09b2\\u09c7 \\u0986\\u09ae\\u09be\\u09a6\\u09c7\\u09b0 \\u09ac\\u09cc \\u09ac\\u09be\\u099a\\u09cd\\u099a\\u09be \\u09b2\\u0987\\u09df\\u09be \\u0986\\u09ae\\u09b0\\u09be \\u0995\\u0987 \\u09af\\u09be\\u09ae\\u09c1? \\u09a4\\u09be\\u099b\\u09be\\u09dc\\u09be \\u098f\\u0987 \\u09a7\\u09b0\\u09a8\\u09c7\\u09b0 \\u09b8\\u09bf\\u09a6\\u09cd\\u09a7\\u09be\\u09a8\\u09cd\\u09a4\\u09c7\\u09b0 \\u09ae\\u09be\\u09a7\\u09cd\\u09af\\u09ae\\u09c7 \\u098f\\u0995\\u099f\\u09bf \\u0995\\u09c1\\u099a\\u0995\\u09cd\\u09b0\\u09c0 \\u09ae\\u09b9\\u09b2 \\u09a6\\u09c7\\u09b6\\u0995\\u09c7 \\u09ae\\u09c7\\u09a7\\u09be \\u09b6\\u09c2\\u09a8\\u09cd\\u09af \\u0995\\u09b0\\u09be\\u09b0 \\u09aa\\u09be\\u09df\\u09a4\\u09be\\u09b0\\u09be \\u0995\\u09b0\\u09a4\\u09c7\\u099b\\u09c7! \\u0995\\u09bf\\u09a8\\u09cd\\u09a4\\u09c1 \\u09ae\\u09c7\\u09a7\\u09be \\u09b6\\u09c2\\u09a8\\u09cd\\u09af \\u09af\\u0996\\u09a8 \\u0995\\u09b0\\u09a4\\u09c7\\u0987 \\u09b9\\u09ac\\u09c7 \\u09b8\\u09c7\\u099f\\u09be \\u09aa\\u09b0\\u09c0\\u0995\\u09cd\\u09b7\\u09be \\u09a6\\u09bf\\u09df\\u09be \\u09aa\\u09cd\\u09b0\\u09b6\\u09cd\\u09a8 \\u09ab\\u09be\\u0981\\u09b8\\u09c7\\u09b0 \\u09ae\\u09be\\u09a7\\u09cd\\u09af\\u09ae\\u09c7\\u0987 \\u09b9\\u0993\\u09df\\u09be \\u0989\\u099a\\u09bf\\u09a4 \\u09ac\\u09b2\\u09c7 \\u0986\\u09ae\\u09b0\\u09be \\u09ae\\u09a8\\u09c7 \\u0995\\u09b0\\u09bf! \\u098f\\u09a4\\u09c7 \\u0995\\u09b0\\u09c7 \\u09aa\\u09cd\\u09b0\\u09b6\\u09cd\\u09a8\\u09ab\\u09be\\u0981\\u09b8 \\u09b6\\u09bf\\u09b2\\u09cd\\u09aa\\u09c7\\u09b0 \\u09b8\\u09be\\u09a5\\u09c7 \\u099c\\u09dc\\u09bf\\u09a4\\u09b0\\u09be \\u09a4\\u09be\\u09a6\\u09c7\\u09b0 \\u09aa\\u09b0\\u09bf\\u09ac\\u09be\\u09b0 \\u09a8\\u09bf\\u09df\\u09c7 \\u09ac\\u09be\\u0981\\u099a\\u09a4\\u09c7 \\u09aa\\u09be\\u09b0\\u09ac\\u09c7\\u201d\\u098f \\u09ac\\u09cd\\u09af\\u09be\\u09aa\\u09be\\u09b0\\u09c7 \\u09a8\\u09b0\\u09cd\\u09a5 \\u09b8\\u09be\\u0989\\u09a5 \\u09ac\\u09bf\\u09b6\\u09cd\\u09ac\\u09ac\\u09bf\\u09a6\\u09cd\\u09af\\u09be\\u09b2\\u09df\\u09c7\\u09b0 \\u098f\\u0995\\u099c\\u09a8\\u09c7\\u09b0 \\u09b8\\u09be\\u09a5\\u09c7 \\u0995\\u09a5\\u09be \\u09ac\\u09b2\\u09a4\\u09c7 \\u0997\\u09c7\\u09b2\\u09c7 \\u09a4\\u09bf\\u09a8\\u09bf \\u09ac\\u09b2\\u09c7\\u09a8 \\u09af\\u09c7- \\u201c\\u09aa\\u09b0\\u09c0\\u0995\\u09cd\\u09b7\\u09be \\u09a6\\u09bf\\u09a4\\u09c7 \\u09a6\\u09bf\\u09a4\\u09c7 \\u099c\\u09c0\\u09ac\\u09a8\\u099f\\u09be \\u09a4\\u09be\\u09ae\\u09be \\u09a4\\u09be\\u09ae\\u09be \\u09b9\\u09df\\u09be \\u0997\\u09c7\\u09b8\\u09c7 \\u09ad\\u09be\\u0987, \\u09af\\u09c7\\u0996\\u09be\\u09a8\\u09c7\\u0987 \\u09af\\u09be\\u0987 \\u09b8\\u09c7\\u0996\\u09be\\u09a8\\u09c7\\u0987 \\u0996\\u09be\\u09b2\\u09bf \\u09aa\\u09b0\\u09c0\\u0995\\u09cd\\u09b7\\u09be \\u0986\\u09b0 \\u09aa\\u09b0\\u09c0\\u0995\\u09cd\\u09b7\\u09be\\u09b0 \\u0996\\u09ac\\u09b0\\u0964 \\u098f\\u0987 \\u09af\\u09c7 \\u09ae\\u09a8\\u09c7 \\u0995\\u09b0\\u09c7\\u09a8, \\u098f\\u0995\\u099f\\u09be \\u09aa\\u09b0\\u09c0\\u0995\\u09cd\\u09b7\\u09be \\u09b6\\u09c7\\u09b7 \\u09b0\\u09be\\u0987\\u09a4\\u09c7\\u09b0 \\u09ac\\u09c7\\u09b2\\u09be\\u09df \\u0998\\u09c1\\u09ae\\u09be\\u09df\\u09be \\u09b8\\u0995\\u09be\\u09b2\\u09c7 \\u0989\\u0987\\u09a0\\u09be\\u0987 \\u09b9\\u09c1\\u09a8\\u09bf \\u0986\\u09b0\\u09c7\\u0995\\u099f\\u09be \\u09aa\\u09b0\\u09c0\\u0995\\u09cd\\u09b7\\u09be! \\u0986\\u09b0 \\u09ad\\u09be\\u09b2\\u09cb \\u09b2\\u09be\\u0997\\u09c7\\u09a8\\u09be! \\u09a4\\u09be\\u0987 \\u0986\\u09ac\\u09be\\u09b0 \\u0993\\u09df\\u09be\\u09a8, \\u099f\\u09c1 \\u0995\\u09bf\\u0982\\u09ac\\u09be \\u09a5\\u09cd\\u09b0\\u09bf\\u09a4\\u09c7 \\u09ad\\u09b0\\u09cd\\u09a4\\u09bf \\u09b9\\u09df\\u09c7 \\u0995\\u09df\\u09c7\\u0995\\u09a6\\u09bf\\u09a8 \\u099a\\u09bf\\u09b2 \\u0995\\u09b0\\u09c7 \\u09b6\\u09bf\\u0995\\u09cd\\u09b7\\u09be\\u099c\\u09c0\\u09ac\\u09a8 \\u0995\\u09be\\u099f\\u09be\\u09a4\\u09c7 \\u099a\\u09be\\u0987\\u0964 \\u09a4\\u09be\\u099b\\u09be\\u09dc\\u09be \\u09b8\\u09cd\\u0995\\u09c1\\u09b2\\u09c7 \\u09a5\\u09be\\u0995\\u09a4\\u09c7 \\u098f\\u0987 \\u09aa\\u09b0\\u09c0\\u0995\\u09cd\\u09b7\\u09be\\u09b0 \\u099c\\u09a8\\u09cd\\u09af \\u0986\\u09ae\\u09be\\u09b0 \\u09e7-\\u09e9 \\u09aa\\u09cd\\u09b0\\u09a4\\u09cd\\u09af\\u09c7\\u0995\\u099f\\u09be \\u0995\\u09cd\\u09b2\\u09be\\u09b8\\u09c7 \\u09a1\\u09be\\u09ac\\u09cd\\u09ac\\u09be \\u09ae\\u09c7\\u09b0\\u09c7 \\u0986\\u09ae\\u09be\\u09b0 \\u098f\\u0995 \\u0987\\u09df\\u09be\\u09b0\\u09c7\\u0987 \\u09a5\\u09be\\u0995\\u09be\\u09b0 \\u098f\\u0995\\u099f\\u09be \\u09a6\\u09be\\u09b0\\u09c1\\u09a8 \\u0985\\u09ad\\u09bf\\u099c\\u09cd\\u099e\\u09a4\\u09be \\u09b0\\u09df\\u09c7\\u099b\\u09c7\\u0964\\u201d \\u098f\\u09b8\\u09ac \\u09b6\\u09c1\\u09a8\\u09c7 \\u0986\\u09ae\\u09be\\u09a6\\u09c7\\u09b0 \\u09aa\\u09cd\\u09b0\\u09a4\\u09bf\\u09ac\\u09c7\\u09a6\\u0995 \\u09af\\u09bf\\u09a8\\u09bf \\u09a8\\u09bf\\u099c\\u09c7\\u0993 \\u098f\\u0995\\u099c\\u09a8 \\u09ab\\u09be\\u0981\\u0995\\u09bf\\u09ac\\u09be\\u099c \\u099b\\u09be\\u09a4\\u09cd\\u09b0 \\u099b\\u09bf\\u09b2\\u09c7\\u09a8 \\u09a4\\u09bf\\u09a8\\u09bf\\u0993\\u0993 \\u09ab\\u09b0\\u09cd\\u09ae \\u0995\\u09c7\\u09a8\\u09be\\u09b0 \\u099c\\u09a8\\u09cd\\u09af \\u09b2\\u09be\\u0987\\u09a8\\u09c7 \\u09a6\\u09be\\u09dc\\u09be\\u09b2\\u09c7 \\u0989\\u09a8\\u09be\\u09b0 \\u09a5\\u09c7\\u0995\\u09c7 \\u0986\\u09b0 \\u0995\\u09bf\\u099b\\u09c1 \\u099c\\u09be\\u09a8\\u09a4\\u09c7 \\u09aa\\u09be\\u09b0\\u09c7\\u09a8\\u09a8\\u09bf\\u0964 \\u09a7\\u09a8\\u09cd\\u09af\\u09ac\\u09be\\u09a6\\u0964\"\n        ],\n        \"semantic_type\": \"\",\n        \"description\": \"\"\n      }\n    },\n    {\n      \"column\": \"label\",\n      \"properties\": {\n        \"dtype\": \"number\",\n        \"std\": 0.5477225575051662,\n        \"min\": 0.0,\n        \"max\": 1.0,\n        \"num_unique_values\": 2,\n        \"samples\": [\n          1.0,\n          0.0\n        ],\n        \"semantic_type\": \"\",\n        \"description\": \"\"\n      }\n    }\n  ]\n}"
            }
          },
          "metadata": {},
          "execution_count": 5
        }
      ]
    },
    {
      "cell_type": "code",
      "source": [
        "df.shape"
      ],
      "metadata": {
        "colab": {
          "base_uri": "https://localhost:8080/"
        },
        "id": "wLHVgiQJbM4G",
        "outputId": "f114f545-3cde-40af-c96a-1407b8d1990c"
      },
      "execution_count": 49,
      "outputs": [
        {
          "output_type": "execute_result",
          "data": {
            "text/plain": [
              "(14537, 4)"
            ]
          },
          "metadata": {},
          "execution_count": 49
        }
      ]
    },
    {
      "cell_type": "code",
      "source": [
        "df.isnull().sum()\n"
      ],
      "metadata": {
        "colab": {
          "base_uri": "https://localhost:8080/",
          "height": 209
        },
        "id": "IIRz1gPkgDVV",
        "outputId": "d707a937-ba57-4d59-b546-aa8018d57aa0"
      },
      "execution_count": 6,
      "outputs": [
        {
          "output_type": "execute_result",
          "data": {
            "text/plain": [
              "category    0\n",
              "headline    0\n",
              "content     0\n",
              "label       0\n",
              "dtype: int64"
            ],
            "text/html": [
              "<div>\n",
              "<style scoped>\n",
              "    .dataframe tbody tr th:only-of-type {\n",
              "        vertical-align: middle;\n",
              "    }\n",
              "\n",
              "    .dataframe tbody tr th {\n",
              "        vertical-align: top;\n",
              "    }\n",
              "\n",
              "    .dataframe thead th {\n",
              "        text-align: right;\n",
              "    }\n",
              "</style>\n",
              "<table border=\"1\" class=\"dataframe\">\n",
              "  <thead>\n",
              "    <tr style=\"text-align: right;\">\n",
              "      <th></th>\n",
              "      <th>0</th>\n",
              "    </tr>\n",
              "  </thead>\n",
              "  <tbody>\n",
              "    <tr>\n",
              "      <th>category</th>\n",
              "      <td>0</td>\n",
              "    </tr>\n",
              "    <tr>\n",
              "      <th>headline</th>\n",
              "      <td>0</td>\n",
              "    </tr>\n",
              "    <tr>\n",
              "      <th>content</th>\n",
              "      <td>0</td>\n",
              "    </tr>\n",
              "    <tr>\n",
              "      <th>label</th>\n",
              "      <td>0</td>\n",
              "    </tr>\n",
              "  </tbody>\n",
              "</table>\n",
              "</div><br><label><b>dtype:</b> int64</label>"
            ]
          },
          "metadata": {},
          "execution_count": 6
        }
      ]
    },
    {
      "cell_type": "markdown",
      "source": [
        "No Null values found\n"
      ],
      "metadata": {
        "id": "qQoUQQnTbnfV"
      }
    },
    {
      "cell_type": "code",
      "source": [
        "counts = df['label'].value_counts()\n",
        "\n",
        "# Plot the bar chart\n",
        "plt.figure(figsize=(6, 4))\n",
        "plt.bar(['True News', 'Fake News'], counts, color=['blue', 'red'])\n",
        "plt.xlabel('News Type')\n",
        "plt.ylabel('Total Count')\n",
        "plt.title('Count of True News vs Fake News')\n",
        "plt.show()"
      ],
      "metadata": {
        "colab": {
          "base_uri": "https://localhost:8080/",
          "height": 410
        },
        "id": "8TqksQhxsZE9",
        "outputId": "c1c6ac5c-a3fc-41bf-8c83-e3248b19bc3b"
      },
      "execution_count": 7,
      "outputs": [
        {
          "output_type": "display_data",
          "data": {
            "text/plain": [
              "<Figure size 600x400 with 1 Axes>"
            ],
            "image/png": "[encoded data removed]"
          },
          "metadata": {}
        }
      ]
    },
    {
      "cell_type": "markdown",
      "source": [],
      "metadata": {
        "id": "YwKzO-LKbrvO"
      }
    },
    {
      "cell_type": "markdown",
      "source": [
        "The dataset is Imbalanced\n"
      ],
      "metadata": {
        "id": "rMsX34l0btJR"
      }
    },
    {
      "cell_type": "code",
      "source": [
        "zero_label_count = df[df['label'] == 0].shape[0]\n",
        "print(\"Total labeled data with label 0:\", zero_label_count)"
      ],
      "metadata": {
        "colab": {
          "base_uri": "https://localhost:8080/"
        },
        "id": "EXEOFo2HtVgg",
        "outputId": "c7f24cbc-d9c2-4b11-ccc3-1715b5138506"
      },
      "execution_count": 50,
      "outputs": [
        {
          "output_type": "stream",
          "name": "stdout",
          "text": [
            "Total labeled data with label 0: 4537\n"
          ]
        }
      ]
    },
    {
      "cell_type": "code",
      "source": [
        "one_label_count = df[df['label'] == 1].shape[0]\n",
        "print(\"Total labeled data with label 1:\", one_label_count)"
      ],
      "metadata": {
        "colab": {
          "base_uri": "https://localhost:8080/"
        },
        "id": "hObEu5L1tkLv",
        "outputId": "2229f6a3-2b57-40b0-99d8-8db9553a3a82"
      },
      "execution_count": 51,
      "outputs": [
        {
          "output_type": "stream",
          "name": "stdout",
          "text": [
            "Total labeled data with label 1: 10000\n"
          ]
        }
      ]
    },
    {
      "cell_type": "markdown",
      "source": [
        "# Balancing the Dataset"
      ],
      "metadata": {
        "id": "koMJRqHrb-dh"
      }
    },
    {
      "cell_type": "code",
      "source": [
        "import random\n",
        "\n",
        "\n",
        "rows_to_drop =  (10000 - 4537)\n",
        "print(\"Number of rows to drop:\", rows_to_drop)\n",
        "\n",
        "\n",
        "label_one_indices = df[df['label'] == 1].index\n",
        "\n",
        "\n",
        "indices_to_drop = random.sample(list(label_one_indices), rows_to_drop)\n",
        "\n",
        "\n",
        "df.drop(indices_to_drop, inplace=True)\n",
        "\n",
        "# Print the updated counts to verify the changes\n",
        "print(\"Total labeled data with label 0 after dropping:\", df[df['label'] == 0].shape[0])\n",
        "print(\"Total labeled data with label 1 after dropping:\", df[df['label'] == 1].shape[0])\n"
      ],
      "metadata": {
        "colab": {
          "base_uri": "https://localhost:8080/"
        },
        "id": "2Pjk-fd9tw5k",
        "outputId": "1f8359cf-1dc2-48a3-bff2-754c2d56b19c"
      },
      "execution_count": 10,
      "outputs": [
        {
          "output_type": "stream",
          "name": "stdout",
          "text": [
            "Number of rows to drop: 5463\n",
            "Total labeled data with label 0 after dropping: 4537\n",
            "Total labeled data with label 1 after dropping: 4537\n"
          ]
        }
      ]
    },
    {
      "cell_type": "code",
      "source": [
        "counts = df['label'].value_counts()\n",
        "\n",
        "# Plot the bar chart\n",
        "plt.figure(figsize=(6, 4))\n",
        "plt.bar(['True News', 'Fake News'], counts, color=['blue', 'red'])\n",
        "plt.xlabel('News Type')\n",
        "plt.ylabel('Total Count')\n",
        "plt.title('Count of True News vs Fake News')\n",
        "plt.show()"
      ],
      "metadata": {
        "colab": {
          "base_uri": "https://localhost:8080/",
          "height": 410
        },
        "id": "gqN_yyQru5a0",
        "outputId": "1d04e987-179b-4b43-f8c9-adfa86670e45"
      },
      "execution_count": 11,
      "outputs": [
        {
          "output_type": "display_data",
          "data": {
            "text/plain": [
              "<Figure size 600x400 with 1 Axes>"
            ],
            "image/png": "[encoded data removed]"
          },
          "metadata": {}
        }
      ]
    },
    {
      "cell_type": "markdown",
      "source": [
        "Now the Dataset is Balanced\n"
      ],
      "metadata": {
        "id": "ElT90WQRcG4l"
      }
    },
    {
      "cell_type": "code",
      "source": [
        "df.reset_index( inplace=True)"
      ],
      "metadata": {
        "id": "yQjJSh4gvFQo"
      },
      "execution_count": 12,
      "outputs": []
    },
    {
      "cell_type": "markdown",
      "source": [],
      "metadata": {
        "id": "rGQ3KZkDcFnv"
      }
    },
    {
      "cell_type": "markdown",
      "source": [
        "# **Correcting** **sentences before  vectorization**\n"
      ],
      "metadata": {
        "id": "hN80XGQ_ceuD"
      }
    },
    {
      "cell_type": "code",
      "source": [
        "def wordopt(content):\n",
        "  content = content.lower()\n",
        "  content = re.sub('\\[.*?\\]', '', content)\n",
        "  content = re.sub(\"\\\\W\",\" \",content)\n",
        "  content = re.sub('https?://\\S+|www\\.\\S+', '', content)\n",
        "  content = re.sub('<.*?>+', '', content)\n",
        "  content = re.sub('[%s]' % re.escape(string.punctuation), '', content)\n",
        "  content = re.sub('\\n', '', content)\n",
        "  content = re.sub('\\w*\\d\\w*', '', content)\n",
        "  return content"
      ],
      "metadata": {
        "id": "9oFy7jP9gntO"
      },
      "execution_count": 13,
      "outputs": []
    },
    {
      "cell_type": "code",
      "source": [
        "df[\"content\"] = df[\"content\"].apply(wordopt)"
      ],
      "metadata": {
        "id": "nrnpB_V2rDI5"
      },
      "execution_count": 14,
      "outputs": []
    },
    {
      "cell_type": "code",
      "source": [
        "x=df[\"content\"]\n",
        "y=df[\"label\"]"
      ],
      "metadata": {
        "id": "O5M4H1WvrHRJ"
      },
      "execution_count": 15,
      "outputs": []
    },
    {
      "cell_type": "code",
      "source": [
        "x"
      ],
      "metadata": {
        "colab": {
          "base_uri": "https://localhost:8080/",
          "height": 458
        },
        "id": "6fgKUFCeymyZ",
        "outputId": "3777ce86-16a9-403c-a257-90fd0dbd9f43"
      },
      "execution_count": 16,
      "outputs": [
        {
          "output_type": "execute_result",
          "data": {
            "text/plain": [
              "0       দশম জ ত য় স সদ র ম য় দ শ ষ হয়  য চ ছ   ক র যত ...\n",
              "1       এক দশ জ ত য় স সদ ন র ব চনক  স মন  র খ  স  গঠন ...\n",
              "2       গ জ প র  জ ড়  খ ন ম মল র প রধ ন আস ম  ম দ র স ...\n",
              "3       স ফ অন র ধ ব  ন র  ফ টবল চ য ম প য়নশ প  ন প লক...\n",
              "4       ক ড় গ র ম প রত ন ধ    ক ড় গ র ম সদর উপজ ল র ব ...\n",
              "                              ...                        \n",
              "9069    প থ ব র য  ম য় ট  আক শর জ র ব ড়  ক জ কর  ত র ন...\n",
              "9070    ব ন দরব  ন র ন ইক ষ য ছ ড়  উপজ ল য় প  ল  শ র স...\n",
              "9071    ন জস ব প রত ব দক   স ট স ল র ন ম   ক ট  ট ক  আ...\n",
              "9072      শ র ন  পর যন ত পর ক ষ  ব ত ল র কথ  শ ন  দ শ ...\n",
              "9073    আজ এশ য়  ক প র সবচ য়  আকর ষণ য় ম য চ  ভ রত র ম...\n",
              "Name: content, Length: 9074, dtype: object"
            ],
            "text/html": [
              "<div>\n",
              "<style scoped>\n",
              "    .dataframe tbody tr th:only-of-type {\n",
              "        vertical-align: middle;\n",
              "    }\n",
              "\n",
              "    .dataframe tbody tr th {\n",
              "        vertical-align: top;\n",
              "    }\n",
              "\n",
              "    .dataframe thead th {\n",
              "        text-align: right;\n",
              "    }\n",
              "</style>\n",
              "<table border=\"1\" class=\"dataframe\">\n",
              "  <thead>\n",
              "    <tr style=\"text-align: right;\">\n",
              "      <th></th>\n",
              "      <th>content</th>\n",
              "    </tr>\n",
              "  </thead>\n",
              "  <tbody>\n",
              "    <tr>\n",
              "      <th>0</th>\n",
              "      <td>দশম জ ত য় স সদ র ম য় দ শ ষ হয়  য চ ছ   ক র যত ...</td>\n",
              "    </tr>\n",
              "    <tr>\n",
              "      <th>1</th>\n",
              "      <td>এক দশ জ ত য় স সদ ন র ব চনক  স মন  র খ  স  গঠন ...</td>\n",
              "    </tr>\n",
              "    <tr>\n",
              "      <th>2</th>\n",
              "      <td>গ জ প র  জ ড়  খ ন ম মল র প রধ ন আস ম  ম দ র স ...</td>\n",
              "    </tr>\n",
              "    <tr>\n",
              "      <th>3</th>\n",
              "      <td>স ফ অন র ধ ব  ন র  ফ টবল চ য ম প য়নশ প  ন প লক...</td>\n",
              "    </tr>\n",
              "    <tr>\n",
              "      <th>4</th>\n",
              "      <td>ক ড় গ র ম প রত ন ধ    ক ড় গ র ম সদর উপজ ল র ব ...</td>\n",
              "    </tr>\n",
              "    <tr>\n",
              "      <th>...</th>\n",
              "      <td>...</td>\n",
              "    </tr>\n",
              "    <tr>\n",
              "      <th>9069</th>\n",
              "      <td>প থ ব র য  ম য় ট  আক শর জ র ব ড়  ক জ কর  ত র ন...</td>\n",
              "    </tr>\n",
              "    <tr>\n",
              "      <th>9070</th>\n",
              "      <td>ব ন দরব  ন র ন ইক ষ য ছ ড়  উপজ ল য় প  ল  শ র স...</td>\n",
              "    </tr>\n",
              "    <tr>\n",
              "      <th>9071</th>\n",
              "      <td>ন জস ব প রত ব দক   স ট স ল র ন ম   ক ট  ট ক  আ...</td>\n",
              "    </tr>\n",
              "    <tr>\n",
              "      <th>9072</th>\n",
              "      <td>শ র ন  পর যন ত পর ক ষ  ব ত ল র কথ  শ ন  দ শ ...</td>\n",
              "    </tr>\n",
              "    <tr>\n",
              "      <th>9073</th>\n",
              "      <td>আজ এশ য়  ক প র সবচ য়  আকর ষণ য় ম য চ  ভ রত র ম...</td>\n",
              "    </tr>\n",
              "  </tbody>\n",
              "</table>\n",
              "<p>9074 rows × 1 columns</p>\n",
              "</div><br><label><b>dtype:</b> object</label>"
            ]
          },
          "metadata": {},
          "execution_count": 16
        }
      ]
    },
    {
      "cell_type": "code",
      "source": [
        "y"
      ],
      "metadata": {
        "colab": {
          "base_uri": "https://localhost:8080/",
          "height": 458
        },
        "id": "gGeb0OpZzIcu",
        "outputId": "c45d6b34-9154-45e2-d95e-6dcacc7501f9"
      },
      "execution_count": 17,
      "outputs": [
        {
          "output_type": "execute_result",
          "data": {
            "text/plain": [
              "0       0.0\n",
              "1       0.0\n",
              "2       0.0\n",
              "3       1.0\n",
              "4       1.0\n",
              "       ... \n",
              "9069    0.0\n",
              "9070    0.0\n",
              "9071    1.0\n",
              "9072    0.0\n",
              "9073    0.0\n",
              "Name: label, Length: 9074, dtype: float64"
            ],
            "text/html": [
              "<div>\n",
              "<style scoped>\n",
              "    .dataframe tbody tr th:only-of-type {\n",
              "        vertical-align: middle;\n",
              "    }\n",
              "\n",
              "    .dataframe tbody tr th {\n",
              "        vertical-align: top;\n",
              "    }\n",
              "\n",
              "    .dataframe thead th {\n",
              "        text-align: right;\n",
              "    }\n",
              "</style>\n",
              "<table border=\"1\" class=\"dataframe\">\n",
              "  <thead>\n",
              "    <tr style=\"text-align: right;\">\n",
              "      <th></th>\n",
              "      <th>label</th>\n",
              "    </tr>\n",
              "  </thead>\n",
              "  <tbody>\n",
              "    <tr>\n",
              "      <th>0</th>\n",
              "      <td>0.0</td>\n",
              "    </tr>\n",
              "    <tr>\n",
              "      <th>1</th>\n",
              "      <td>0.0</td>\n",
              "    </tr>\n",
              "    <tr>\n",
              "      <th>2</th>\n",
              "      <td>0.0</td>\n",
              "    </tr>\n",
              "    <tr>\n",
              "      <th>3</th>\n",
              "      <td>1.0</td>\n",
              "    </tr>\n",
              "    <tr>\n",
              "      <th>4</th>\n",
              "      <td>1.0</td>\n",
              "    </tr>\n",
              "    <tr>\n",
              "      <th>...</th>\n",
              "      <td>...</td>\n",
              "    </tr>\n",
              "    <tr>\n",
              "      <th>9069</th>\n",
              "      <td>0.0</td>\n",
              "    </tr>\n",
              "    <tr>\n",
              "      <th>9070</th>\n",
              "      <td>0.0</td>\n",
              "    </tr>\n",
              "    <tr>\n",
              "      <th>9071</th>\n",
              "      <td>1.0</td>\n",
              "    </tr>\n",
              "    <tr>\n",
              "      <th>9072</th>\n",
              "      <td>0.0</td>\n",
              "    </tr>\n",
              "    <tr>\n",
              "      <th>9073</th>\n",
              "      <td>0.0</td>\n",
              "    </tr>\n",
              "  </tbody>\n",
              "</table>\n",
              "<p>9074 rows × 1 columns</p>\n",
              "</div><br><label><b>dtype:</b> float64</label>"
            ]
          },
          "metadata": {},
          "execution_count": 17
        }
      ]
    },
    {
      "cell_type": "markdown",
      "source": [
        "# **Training and Testing**"
      ],
      "metadata": {
        "id": "QXQppm4idxO-"
      }
    },
    {
      "cell_type": "code",
      "source": [
        "x_train, x_test, y_train, y_test = train_test_split(x, y, test_size=0.25)"
      ],
      "metadata": {
        "id": "Vfp90htGzIzm"
      },
      "execution_count": 18,
      "outputs": []
    },
    {
      "cell_type": "code",
      "source": [
        "x_train.shape"
      ],
      "metadata": {
        "colab": {
          "base_uri": "https://localhost:8080/"
        },
        "id": "q_Nj6V0z0AJl",
        "outputId": "fc995772-5c6f-4098-fff0-d1559974f7b0"
      },
      "execution_count": 19,
      "outputs": [
        {
          "output_type": "execute_result",
          "data": {
            "text/plain": [
              "(6805,)"
            ]
          },
          "metadata": {},
          "execution_count": 19
        }
      ]
    },
    {
      "cell_type": "code",
      "source": [
        "x_test.shape"
      ],
      "metadata": {
        "colab": {
          "base_uri": "https://localhost:8080/"
        },
        "id": "9ydbGPiZ0Js1",
        "outputId": "dbebe9b0-6b0a-44d6-dfa4-386f9f252b33"
      },
      "execution_count": 20,
      "outputs": [
        {
          "output_type": "execute_result",
          "data": {
            "text/plain": [
              "(2269,)"
            ]
          },
          "metadata": {},
          "execution_count": 20
        }
      ]
    },
    {
      "cell_type": "code",
      "source": [
        "vectorization = TfidfVectorizer()\n"
      ],
      "metadata": {
        "id": "ufyj714l0OFl"
      },
      "execution_count": 21,
      "outputs": []
    },
    {
      "cell_type": "code",
      "source": [
        "xv_train = vectorization.fit_transform(x_train)\n",
        "xv_test = vectorization.transform(x_test)"
      ],
      "metadata": {
        "id": "POt59qll2HJt"
      },
      "execution_count": 22,
      "outputs": []
    },
    {
      "cell_type": "code",
      "source": [
        "xv_train"
      ],
      "metadata": {
        "colab": {
          "base_uri": "https://localhost:8080/"
        },
        "id": "zIxpw_Gw2Q21",
        "outputId": "da443e7c-b1e0-4d72-cf88-6fd22023ace9"
      },
      "execution_count": 23,
      "outputs": [
        {
          "output_type": "execute_result",
          "data": {
            "text/plain": [
              "<6805x9720 sparse matrix of type '<class 'numpy.float64'>'\n",
              "\twith 620099 stored elements in Compressed Sparse Row format>"
            ]
          },
          "metadata": {},
          "execution_count": 23
        }
      ]
    },
    {
      "cell_type": "code",
      "source": [
        "xv_test"
      ],
      "metadata": {
        "colab": {
          "base_uri": "https://localhost:8080/"
        },
        "id": "ysPfOHql2WZW",
        "outputId": "f425a9dc-cacb-4b04-8eb5-7bff68974558"
      },
      "execution_count": 24,
      "outputs": [
        {
          "output_type": "execute_result",
          "data": {
            "text/plain": [
              "<2269x9720 sparse matrix of type '<class 'numpy.float64'>'\n",
              "\twith 206361 stored elements in Compressed Sparse Row format>"
            ]
          },
          "metadata": {},
          "execution_count": 24
        }
      ]
    },
    {
      "cell_type": "code",
      "source": [
        "LR=LogisticRegression()"
      ],
      "metadata": {
        "id": "MnsgzWZP2YRN"
      },
      "execution_count": 25,
      "outputs": []
    },
    {
      "cell_type": "code",
      "source": [
        "LR.fit(xv_train,y_train)"
      ],
      "metadata": {
        "colab": {
          "base_uri": "https://localhost:8080/",
          "height": 80
        },
        "id": "NqjdJpz62zwi",
        "outputId": "2107e3dc-b184-41e1-d88a-6a927f1f6d43"
      },
      "execution_count": 26,
      "outputs": [
        {
          "output_type": "execute_result",
          "data": {
            "text/plain": [
              "LogisticRegression()"
            ],
            "text/html": [
              "<style>#sk-container-id-1 {\n",
              "  /* Definition of color scheme common for light and dark mode */\n",
              "  --sklearn-color-text: black;\n",
              "  --sklearn-color-line: gray;\n",
              "  /* Definition of color scheme for unfitted estimators */\n",
              "  --sklearn-color-unfitted-level-0: #fff5e6;\n",
              "  --sklearn-color-unfitted-level-1: #f6e4d2;\n",
              "  --sklearn-color-unfitted-level-2: #ffe0b3;\n",
              "  --sklearn-color-unfitted-level-3: chocolate;\n",
              "  /* Definition of color scheme for fitted estimators */\n",
              "  --sklearn-color-fitted-level-0: #f0f8ff;\n",
              "  --sklearn-color-fitted-level-1: #d4ebff;\n",
              "  --sklearn-color-fitted-level-2: #b3dbfd;\n",
              "  --sklearn-color-fitted-level-3: cornflowerblue;\n",
              "\n",
              "  /* Specific color for light theme */\n",
              "  --sklearn-color-text-on-default-background: var(--sg-text-color, var(--theme-code-foreground, var(--jp-content-font-color1, black)));\n",
              "  --sklearn-color-background: var(--sg-background-color, var(--theme-background, var(--jp-layout-color0, white)));\n",
              "  --sklearn-color-border-box: var(--sg-text-color, var(--theme-code-foreground, var(--jp-content-font-color1, black)));\n",
              "  --sklearn-color-icon: #696969;\n",
              "\n",
              "  @media (prefers-color-scheme: dark) {\n",
              "    /* Redefinition of color scheme for dark theme */\n",
              "    --sklearn-color-text-on-default-background: var(--sg-text-color, var(--theme-code-foreground, var(--jp-content-font-color1, white)));\n",
              "    --sklearn-color-background: var(--sg-background-color, var(--theme-background, var(--jp-layout-color0, #111)));\n",
              "    --sklearn-color-border-box: var(--sg-text-color, var(--theme-code-foreground, var(--jp-content-font-color1, white)));\n",
              "    --sklearn-color-icon: #878787;\n",
              "  }\n",
              "}\n",
              "\n",
              "#sk-container-id-1 {\n",
              "  color: var(--sklearn-color-text);\n",
              "}\n",
              "\n",
              "#sk-container-id-1 pre {\n",
              "  padding: 0;\n",
              "}\n",
              "\n",
              "#sk-container-id-1 input.sk-hidden--visually {\n",
              "  border: 0;\n",
              "  clip: rect(1px 1px 1px 1px);\n",
              "  clip: rect(1px, 1px, 1px, 1px);\n",
              "  height: 1px;\n",
              "  margin: -1px;\n",
              "  overflow: hidden;\n",
              "  padding: 0;\n",
              "  position: absolute;\n",
              "  width: 1px;\n",
              "}\n",
              "\n",
              "#sk-container-id-1 div.sk-dashed-wrapped {\n",
              "  border: 1px dashed var(--sklearn-color-line);\n",
              "  margin: 0 0.4em 0.5em 0.4em;\n",
              "  box-sizing: border-box;\n",
              "  padding-bottom: 0.4em;\n",
              "  background-color: var(--sklearn-color-background);\n",
              "}\n",
              "\n",
              "#sk-container-id-1 div.sk-container {\n",
              "  /* jupyter's `normalize.less` sets `[hidden] { display: none; }`\n",
              "     but bootstrap.min.css set `[hidden] { display: none !important; }`\n",
              "     so we also need the `!important` here to be able to override the\n",
              "     default hidden behavior on the sphinx rendered scikit-learn.org.\n",
              "     See: https://github.com/scikit-learn/scikit-learn/issues/21755 */\n",
              "  display: inline-block !important;\n",
              "  position: relative;\n",
              "}\n",
              "\n",
              "#sk-container-id-1 div.sk-text-repr-fallback {\n",
              "  display: none;\n",
              "}\n",
              "\n",
              "div.sk-parallel-item,\n",
              "div.sk-serial,\n",
              "div.sk-item {\n",
              "  /* draw centered vertical line to link estimators */\n",
              "  background-image: linear-gradient(var(--sklearn-color-text-on-default-background), var(--sklearn-color-text-on-default-background));\n",
              "  background-size: 2px 100%;\n",
              "  background-repeat: no-repeat;\n",
              "  background-position: center center;\n",
              "}\n",
              "\n",
              "/* Parallel-specific style estimator block */\n",
              "\n",
              "#sk-container-id-1 div.sk-parallel-item::after {\n",
              "  content: \"\";\n",
              "  width: 100%;\n",
              "  border-bottom: 2px solid var(--sklearn-color-text-on-default-background);\n",
              "  flex-grow: 1;\n",
              "}\n",
              "\n",
              "#sk-container-id-1 div.sk-parallel {\n",
              "  display: flex;\n",
              "  align-items: stretch;\n",
              "  justify-content: center;\n",
              "  background-color: var(--sklearn-color-background);\n",
              "  position: relative;\n",
              "}\n",
              "\n",
              "#sk-container-id-1 div.sk-parallel-item {\n",
              "  display: flex;\n",
              "  flex-direction: column;\n",
              "}\n",
              "\n",
              "#sk-container-id-1 div.sk-parallel-item:first-child::after {\n",
              "  align-self: flex-end;\n",
              "  width: 50%;\n",
              "}\n",
              "\n",
              "#sk-container-id-1 div.sk-parallel-item:last-child::after {\n",
              "  align-self: flex-start;\n",
              "  width: 50%;\n",
              "}\n",
              "\n",
              "#sk-container-id-1 div.sk-parallel-item:only-child::after {\n",
              "  width: 0;\n",
              "}\n",
              "\n",
              "/* Serial-specific style estimator block */\n",
              "\n",
              "#sk-container-id-1 div.sk-serial {\n",
              "  display: flex;\n",
              "  flex-direction: column;\n",
              "  align-items: center;\n",
              "  background-color: var(--sklearn-color-background);\n",
              "  padding-right: 1em;\n",
              "  padding-left: 1em;\n",
              "}\n",
              "\n",
              "\n",
              "/* Toggleable style: style used for estimator/Pipeline/ColumnTransformer box that is\n",
              "clickable and can be expanded/collapsed.\n",
              "- Pipeline and ColumnTransformer use this feature and define the default style\n",
              "- Estimators will overwrite some part of the style using the `sk-estimator` class\n",
              "*/\n",
              "\n",
              "/* Pipeline and ColumnTransformer style (default) */\n",
              "\n",
              "#sk-container-id-1 div.sk-toggleable {\n",
              "  /* Default theme specific background. It is overwritten whether we have a\n",
              "  specific estimator or a Pipeline/ColumnTransformer */\n",
              "  background-color: var(--sklearn-color-background);\n",
              "}\n",
              "\n",
              "/* Toggleable label */\n",
              "#sk-container-id-1 label.sk-toggleable__label {\n",
              "  cursor: pointer;\n",
              "  display: block;\n",
              "  width: 100%;\n",
              "  margin-bottom: 0;\n",
              "  padding: 0.5em;\n",
              "  box-sizing: border-box;\n",
              "  text-align: center;\n",
              "}\n",
              "\n",
              "#sk-container-id-1 label.sk-toggleable__label-arrow:before {\n",
              "  /* Arrow on the left of the label */\n",
              "  content: \"▸\";\n",
              "  float: left;\n",
              "  margin-right: 0.25em;\n",
              "  color: var(--sklearn-color-icon);\n",
              "}\n",
              "\n",
              "#sk-container-id-1 label.sk-toggleable__label-arrow:hover:before {\n",
              "  color: var(--sklearn-color-text);\n",
              "}\n",
              "\n",
              "/* Toggleable content - dropdown */\n",
              "\n",
              "#sk-container-id-1 div.sk-toggleable__content {\n",
              "  max-height: 0;\n",
              "  max-width: 0;\n",
              "  overflow: hidden;\n",
              "  text-align: left;\n",
              "  /* unfitted */\n",
              "  background-color: var(--sklearn-color-unfitted-level-0);\n",
              "}\n",
              "\n",
              "#sk-container-id-1 div.sk-toggleable__content.fitted {\n",
              "  /* fitted */\n",
              "  background-color: var(--sklearn-color-fitted-level-0);\n",
              "}\n",
              "\n",
              "#sk-container-id-1 div.sk-toggleable__content pre {\n",
              "  margin: 0.2em;\n",
              "  border-radius: 0.25em;\n",
              "  color: var(--sklearn-color-text);\n",
              "  /* unfitted */\n",
              "  background-color: var(--sklearn-color-unfitted-level-0);\n",
              "}\n",
              "\n",
              "#sk-container-id-1 div.sk-toggleable__content.fitted pre {\n",
              "  /* unfitted */\n",
              "  background-color: var(--sklearn-color-fitted-level-0);\n",
              "}\n",
              "\n",
              "#sk-container-id-1 input.sk-toggleable__control:checked~div.sk-toggleable__content {\n",
              "  /* Expand drop-down */\n",
              "  max-height: 200px;\n",
              "  max-width: 100%;\n",
              "  overflow: auto;\n",
              "}\n",
              "\n",
              "#sk-container-id-1 input.sk-toggleable__control:checked~label.sk-toggleable__label-arrow:before {\n",
              "  content: \"▾\";\n",
              "}\n",
              "\n",
              "/* Pipeline/ColumnTransformer-specific style */\n",
              "\n",
              "#sk-container-id-1 div.sk-label input.sk-toggleable__control:checked~label.sk-toggleable__label {\n",
              "  color: var(--sklearn-color-text);\n",
              "  background-color: var(--sklearn-color-unfitted-level-2);\n",
              "}\n",
              "\n",
              "#sk-container-id-1 div.sk-label.fitted input.sk-toggleable__control:checked~label.sk-toggleable__label {\n",
              "  background-color: var(--sklearn-color-fitted-level-2);\n",
              "}\n",
              "\n",
              "/* Estimator-specific style */\n",
              "\n",
              "/* Colorize estimator box */\n",
              "#sk-container-id-1 div.sk-estimator input.sk-toggleable__control:checked~label.sk-toggleable__label {\n",
              "  /* unfitted */\n",
              "  background-color: var(--sklearn-color-unfitted-level-2);\n",
              "}\n",
              "\n",
              "#sk-container-id-1 div.sk-estimator.fitted input.sk-toggleable__control:checked~label.sk-toggleable__label {\n",
              "  /* fitted */\n",
              "  background-color: var(--sklearn-color-fitted-level-2);\n",
              "}\n",
              "\n",
              "#sk-container-id-1 div.sk-label label.sk-toggleable__label,\n",
              "#sk-container-id-1 div.sk-label label {\n",
              "  /* The background is the default theme color */\n",
              "  color: var(--sklearn-color-text-on-default-background);\n",
              "}\n",
              "\n",
              "/* On hover, darken the color of the background */\n",
              "#sk-container-id-1 div.sk-label:hover label.sk-toggleable__label {\n",
              "  color: var(--sklearn-color-text);\n",
              "  background-color: var(--sklearn-color-unfitted-level-2);\n",
              "}\n",
              "\n",
              "/* Label box, darken color on hover, fitted */\n",
              "#sk-container-id-1 div.sk-label.fitted:hover label.sk-toggleable__label.fitted {\n",
              "  color: var(--sklearn-color-text);\n",
              "  background-color: var(--sklearn-color-fitted-level-2);\n",
              "}\n",
              "\n",
              "/* Estimator label */\n",
              "\n",
              "#sk-container-id-1 div.sk-label label {\n",
              "  font-family: monospace;\n",
              "  font-weight: bold;\n",
              "  display: inline-block;\n",
              "  line-height: 1.2em;\n",
              "}\n",
              "\n",
              "#sk-container-id-1 div.sk-label-container {\n",
              "  text-align: center;\n",
              "}\n",
              "\n",
              "/* Estimator-specific */\n",
              "#sk-container-id-1 div.sk-estimator {\n",
              "  font-family: monospace;\n",
              "  border: 1px dotted var(--sklearn-color-border-box);\n",
              "  border-radius: 0.25em;\n",
              "  box-sizing: border-box;\n",
              "  margin-bottom: 0.5em;\n",
              "  /* unfitted */\n",
              "  background-color: var(--sklearn-color-unfitted-level-0);\n",
              "}\n",
              "\n",
              "#sk-container-id-1 div.sk-estimator.fitted {\n",
              "  /* fitted */\n",
              "  background-color: var(--sklearn-color-fitted-level-0);\n",
              "}\n",
              "\n",
              "/* on hover */\n",
              "#sk-container-id-1 div.sk-estimator:hover {\n",
              "  /* unfitted */\n",
              "  background-color: var(--sklearn-color-unfitted-level-2);\n",
              "}\n",
              "\n",
              "#sk-container-id-1 div.sk-estimator.fitted:hover {\n",
              "  /* fitted */\n",
              "  background-color: var(--sklearn-color-fitted-level-2);\n",
              "}\n",
              "\n",
              "/* Specification for estimator info (e.g. \"i\" and \"?\") */\n",
              "\n",
              "/* Common style for \"i\" and \"?\" */\n",
              "\n",
              ".sk-estimator-doc-link,\n",
              "a:link.sk-estimator-doc-link,\n",
              "a:visited.sk-estimator-doc-link {\n",
              "  float: right;\n",
              "  font-size: smaller;\n",
              "  line-height: 1em;\n",
              "  font-family: monospace;\n",
              "  background-color: var(--sklearn-color-background);\n",
              "  border-radius: 1em;\n",
              "  height: 1em;\n",
              "  width: 1em;\n",
              "  text-decoration: none !important;\n",
              "  margin-left: 1ex;\n",
              "  /* unfitted */\n",
              "  border: var(--sklearn-color-unfitted-level-1) 1pt solid;\n",
              "  color: var(--sklearn-color-unfitted-level-1);\n",
              "}\n",
              "\n",
              ".sk-estimator-doc-link.fitted,\n",
              "a:link.sk-estimator-doc-link.fitted,\n",
              "a:visited.sk-estimator-doc-link.fitted {\n",
              "  /* fitted */\n",
              "  border: var(--sklearn-color-fitted-level-1) 1pt solid;\n",
              "  color: var(--sklearn-color-fitted-level-1);\n",
              "}\n",
              "\n",
              "/* On hover */\n",
              "div.sk-estimator:hover .sk-estimator-doc-link:hover,\n",
              ".sk-estimator-doc-link:hover,\n",
              "div.sk-label-container:hover .sk-estimator-doc-link:hover,\n",
              ".sk-estimator-doc-link:hover {\n",
              "  /* unfitted */\n",
              "  background-color: var(--sklearn-color-unfitted-level-3);\n",
              "  color: var(--sklearn-color-background);\n",
              "  text-decoration: none;\n",
              "}\n",
              "\n",
              "div.sk-estimator.fitted:hover .sk-estimator-doc-link.fitted:hover,\n",
              ".sk-estimator-doc-link.fitted:hover,\n",
              "div.sk-label-container:hover .sk-estimator-doc-link.fitted:hover,\n",
              ".sk-estimator-doc-link.fitted:hover {\n",
              "  /* fitted */\n",
              "  background-color: var(--sklearn-color-fitted-level-3);\n",
              "  color: var(--sklearn-color-background);\n",
              "  text-decoration: none;\n",
              "}\n",
              "\n",
              "/* Span, style for the box shown on hovering the info icon */\n",
              ".sk-estimator-doc-link span {\n",
              "  display: none;\n",
              "  z-index: 9999;\n",
              "  position: relative;\n",
              "  font-weight: normal;\n",
              "  right: .2ex;\n",
              "  padding: .5ex;\n",
              "  margin: .5ex;\n",
              "  width: min-content;\n",
              "  min-width: 20ex;\n",
              "  max-width: 50ex;\n",
              "  color: var(--sklearn-color-text);\n",
              "  box-shadow: 2pt 2pt 4pt #999;\n",
              "  /* unfitted */\n",
              "  background: var(--sklearn-color-unfitted-level-0);\n",
              "  border: .5pt solid var(--sklearn-color-unfitted-level-3);\n",
              "}\n",
              "\n",
              ".sk-estimator-doc-link.fitted span {\n",
              "  /* fitted */\n",
              "  background: var(--sklearn-color-fitted-level-0);\n",
              "  border: var(--sklearn-color-fitted-level-3);\n",
              "}\n",
              "\n",
              ".sk-estimator-doc-link:hover span {\n",
              "  display: block;\n",
              "}\n",
              "\n",
              "/* \"?\"-specific style due to the `<a>` HTML tag */\n",
              "\n",
              "#sk-container-id-1 a.estimator_doc_link {\n",
              "  float: right;\n",
              "  font-size: 1rem;\n",
              "  line-height: 1em;\n",
              "  font-family: monospace;\n",
              "  background-color: var(--sklearn-color-background);\n",
              "  border-radius: 1rem;\n",
              "  height: 1rem;\n",
              "  width: 1rem;\n",
              "  text-decoration: none;\n",
              "  /* unfitted */\n",
              "  color: var(--sklearn-color-unfitted-level-1);\n",
              "  border: var(--sklearn-color-unfitted-level-1) 1pt solid;\n",
              "}\n",
              "\n",
              "#sk-container-id-1 a.estimator_doc_link.fitted {\n",
              "  /* fitted */\n",
              "  border: var(--sklearn-color-fitted-level-1) 1pt solid;\n",
              "  color: var(--sklearn-color-fitted-level-1);\n",
              "}\n",
              "\n",
              "/* On hover */\n",
              "#sk-container-id-1 a.estimator_doc_link:hover {\n",
              "  /* unfitted */\n",
              "  background-color: var(--sklearn-color-unfitted-level-3);\n",
              "  color: var(--sklearn-color-background);\n",
              "  text-decoration: none;\n",
              "}\n",
              "\n",
              "#sk-container-id-1 a.estimator_doc_link.fitted:hover {\n",
              "  /* fitted */\n",
              "  background-color: var(--sklearn-color-fitted-level-3);\n",
              "}\n",
              "</style><div id=\"sk-container-id-1\" class=\"sk-top-container\"><div class=\"sk-text-repr-fallback\"><pre>LogisticRegression()</pre><b>In a Jupyter environment, please rerun this cell to show the HTML representation or trust the notebook. <br />On GitHub, the HTML representation is unable to render, please try loading this page with nbviewer.org.</b></div><div class=\"sk-container\" hidden><div class=\"sk-item\"><div class=\"sk-estimator fitted sk-toggleable\"><input class=\"sk-toggleable__control sk-hidden--visually\" id=\"sk-estimator-id-1\" type=\"checkbox\" checked><label for=\"sk-estimator-id-1\" class=\"sk-toggleable__label fitted sk-toggleable__label-arrow fitted\">&nbsp;&nbsp;LogisticRegression<a class=\"sk-estimator-doc-link fitted\" rel=\"noreferrer\" target=\"_blank\" href=\"https://scikit-learn.org/1.5/modules/generated/sklearn.linear_model.LogisticRegression.html\">?<span>Documentation for LogisticRegression</span></a><span class=\"sk-estimator-doc-link fitted\">i<span>Fitted</span></span></label><div class=\"sk-toggleable__content fitted\"><pre>LogisticRegression()</pre></div> </div></div></div></div>"
            ]
          },
          "metadata": {},
          "execution_count": 26
        }
      ]
    },
    {
      "cell_type": "code",
      "source": [
        "pred_lr=LR.predict(xv_test)"
      ],
      "metadata": {
        "id": "PZWB13Lb3Bbj"
      },
      "execution_count": 27,
      "outputs": []
    },
    {
      "cell_type": "code",
      "source": [
        "LR.score(xv_test, y_test)"
      ],
      "metadata": {
        "colab": {
          "base_uri": "https://localhost:8080/"
        },
        "id": "URWTaYOC3J3z",
        "outputId": "a6eac5b9-e8d8-4c9a-a994-e946e3744535"
      },
      "execution_count": 28,
      "outputs": [
        {
          "output_type": "execute_result",
          "data": {
            "text/plain": [
              "0.6690171881886293"
            ]
          },
          "metadata": {},
          "execution_count": 28
        }
      ]
    },
    {
      "cell_type": "code",
      "source": [
        "print(classification_report(y_test, pred_lr))"
      ],
      "metadata": {
        "colab": {
          "base_uri": "https://localhost:8080/"
        },
        "id": "OkRybQOB3Pjd",
        "outputId": "2b8e8f34-f57a-41e3-8070-70ea89d0957f"
      },
      "execution_count": 29,
      "outputs": [
        {
          "output_type": "stream",
          "name": "stdout",
          "text": [
            "              precision    recall  f1-score   support\n",
            "\n",
            "         0.0       0.67      0.68      0.68      1158\n",
            "         1.0       0.66      0.66      0.66      1111\n",
            "\n",
            "    accuracy                           0.67      2269\n",
            "   macro avg       0.67      0.67      0.67      2269\n",
            "weighted avg       0.67      0.67      0.67      2269\n",
            "\n"
          ]
        }
      ]
    },
    {
      "cell_type": "code",
      "source": [
        "DTC=DecisionTreeClassifier()"
      ],
      "metadata": {
        "id": "58Zh9B3j7IMh"
      },
      "execution_count": 30,
      "outputs": []
    },
    {
      "cell_type": "code",
      "source": [
        "DTC.fit(xv_train,y_train)"
      ],
      "metadata": {
        "colab": {
          "base_uri": "https://localhost:8080/",
          "height": 80
        },
        "id": "btxBqvJB8vT0",
        "outputId": "e83a1a33-4f15-40e2-e56a-a094c9057c8c"
      },
      "execution_count": 31,
      "outputs": [
        {
          "output_type": "execute_result",
          "data": {
            "text/plain": [
              "DecisionTreeClassifier()"
            ],
            "text/html": [
              "<style>#sk-container-id-2 {\n",
              "  /* Definition of color scheme common for light and dark mode */\n",
              "  --sklearn-color-text: black;\n",
              "  --sklearn-color-line: gray;\n",
              "  /* Definition of color scheme for unfitted estimators */\n",
              "  --sklearn-color-unfitted-level-0: #fff5e6;\n",
              "  --sklearn-color-unfitted-level-1: #f6e4d2;\n",
              "  --sklearn-color-unfitted-level-2: #ffe0b3;\n",
              "  --sklearn-color-unfitted-level-3: chocolate;\n",
              "  /* Definition of color scheme for fitted estimators */\n",
              "  --sklearn-color-fitted-level-0: #f0f8ff;\n",
              "  --sklearn-color-fitted-level-1: #d4ebff;\n",
              "  --sklearn-color-fitted-level-2: #b3dbfd;\n",
              "  --sklearn-color-fitted-level-3: cornflowerblue;\n",
              "\n",
              "  /* Specific color for light theme */\n",
              "  --sklearn-color-text-on-default-background: var(--sg-text-color, var(--theme-code-foreground, var(--jp-content-font-color1, black)));\n",
              "  --sklearn-color-background: var(--sg-background-color, var(--theme-background, var(--jp-layout-color0, white)));\n",
              "  --sklearn-color-border-box: var(--sg-text-color, var(--theme-code-foreground, var(--jp-content-font-color1, black)));\n",
              "  --sklearn-color-icon: #696969;\n",
              "\n",
              "  @media (prefers-color-scheme: dark) {\n",
              "    /* Redefinition of color scheme for dark theme */\n",
              "    --sklearn-color-text-on-default-background: var(--sg-text-color, var(--theme-code-foreground, var(--jp-content-font-color1, white)));\n",
              "    --sklearn-color-background: var(--sg-background-color, var(--theme-background, var(--jp-layout-color0, #111)));\n",
              "    --sklearn-color-border-box: var(--sg-text-color, var(--theme-code-foreground, var(--jp-content-font-color1, white)));\n",
              "    --sklearn-color-icon: #878787;\n",
              "  }\n",
              "}\n",
              "\n",
              "#sk-container-id-2 {\n",
              "  color: var(--sklearn-color-text);\n",
              "}\n",
              "\n",
              "#sk-container-id-2 pre {\n",
              "  padding: 0;\n",
              "}\n",
              "\n",
              "#sk-container-id-2 input.sk-hidden--visually {\n",
              "  border: 0;\n",
              "  clip: rect(1px 1px 1px 1px);\n",
              "  clip: rect(1px, 1px, 1px, 1px);\n",
              "  height: 1px;\n",
              "  margin: -1px;\n",
              "  overflow: hidden;\n",
              "  padding: 0;\n",
              "  position: absolute;\n",
              "  width: 1px;\n",
              "}\n",
              "\n",
              "#sk-container-id-2 div.sk-dashed-wrapped {\n",
              "  border: 1px dashed var(--sklearn-color-line);\n",
              "  margin: 0 0.4em 0.5em 0.4em;\n",
              "  box-sizing: border-box;\n",
              "  padding-bottom: 0.4em;\n",
              "  background-color: var(--sklearn-color-background);\n",
              "}\n",
              "\n",
              "#sk-container-id-2 div.sk-container {\n",
              "  /* jupyter's `normalize.less` sets `[hidden] { display: none; }`\n",
              "     but bootstrap.min.css set `[hidden] { display: none !important; }`\n",
              "     so we also need the `!important` here to be able to override the\n",
              "     default hidden behavior on the sphinx rendered scikit-learn.org.\n",
              "     See: https://github.com/scikit-learn/scikit-learn/issues/21755 */\n",
              "  display: inline-block !important;\n",
              "  position: relative;\n",
              "}\n",
              "\n",
              "#sk-container-id-2 div.sk-text-repr-fallback {\n",
              "  display: none;\n",
              "}\n",
              "\n",
              "div.sk-parallel-item,\n",
              "div.sk-serial,\n",
              "div.sk-item {\n",
              "  /* draw centered vertical line to link estimators */\n",
              "  background-image: linear-gradient(var(--sklearn-color-text-on-default-background), var(--sklearn-color-text-on-default-background));\n",
              "  background-size: 2px 100%;\n",
              "  background-repeat: no-repeat;\n",
              "  background-position: center center;\n",
              "}\n",
              "\n",
              "/* Parallel-specific style estimator block */\n",
              "\n",
              "#sk-container-id-2 div.sk-parallel-item::after {\n",
              "  content: \"\";\n",
              "  width: 100%;\n",
              "  border-bottom: 2px solid var(--sklearn-color-text-on-default-background);\n",
              "  flex-grow: 1;\n",
              "}\n",
              "\n",
              "#sk-container-id-2 div.sk-parallel {\n",
              "  display: flex;\n",
              "  align-items: stretch;\n",
              "  justify-content: center;\n",
              "  background-color: var(--sklearn-color-background);\n",
              "  position: relative;\n",
              "}\n",
              "\n",
              "#sk-container-id-2 div.sk-parallel-item {\n",
              "  display: flex;\n",
              "  flex-direction: column;\n",
              "}\n",
              "\n",
              "#sk-container-id-2 div.sk-parallel-item:first-child::after {\n",
              "  align-self: flex-end;\n",
              "  width: 50%;\n",
              "}\n",
              "\n",
              "#sk-container-id-2 div.sk-parallel-item:last-child::after {\n",
              "  align-self: flex-start;\n",
              "  width: 50%;\n",
              "}\n",
              "\n",
              "#sk-container-id-2 div.sk-parallel-item:only-child::after {\n",
              "  width: 0;\n",
              "}\n",
              "\n",
              "/* Serial-specific style estimator block */\n",
              "\n",
              "#sk-container-id-2 div.sk-serial {\n",
              "  display: flex;\n",
              "  flex-direction: column;\n",
              "  align-items: center;\n",
              "  background-color: var(--sklearn-color-background);\n",
              "  padding-right: 1em;\n",
              "  padding-left: 1em;\n",
              "}\n",
              "\n",
              "\n",
              "/* Toggleable style: style used for estimator/Pipeline/ColumnTransformer box that is\n",
              "clickable and can be expanded/collapsed.\n",
              "- Pipeline and ColumnTransformer use this feature and define the default style\n",
              "- Estimators will overwrite some part of the style using the `sk-estimator` class\n",
              "*/\n",
              "\n",
              "/* Pipeline and ColumnTransformer style (default) */\n",
              "\n",
              "#sk-container-id-2 div.sk-toggleable {\n",
              "  /* Default theme specific background. It is overwritten whether we have a\n",
              "  specific estimator or a Pipeline/ColumnTransformer */\n",
              "  background-color: var(--sklearn-color-background);\n",
              "}\n",
              "\n",
              "/* Toggleable label */\n",
              "#sk-container-id-2 label.sk-toggleable__label {\n",
              "  cursor: pointer;\n",
              "  display: block;\n",
              "  width: 100%;\n",
              "  margin-bottom: 0;\n",
              "  padding: 0.5em;\n",
              "  box-sizing: border-box;\n",
              "  text-align: center;\n",
              "}\n",
              "\n",
              "#sk-container-id-2 label.sk-toggleable__label-arrow:before {\n",
              "  /* Arrow on the left of the label */\n",
              "  content: \"▸\";\n",
              "  float: left;\n",
              "  margin-right: 0.25em;\n",
              "  color: var(--sklearn-color-icon);\n",
              "}\n",
              "\n",
              "#sk-container-id-2 label.sk-toggleable__label-arrow:hover:before {\n",
              "  color: var(--sklearn-color-text);\n",
              "}\n",
              "\n",
              "/* Toggleable content - dropdown */\n",
              "\n",
              "#sk-container-id-2 div.sk-toggleable__content {\n",
              "  max-height: 0;\n",
              "  max-width: 0;\n",
              "  overflow: hidden;\n",
              "  text-align: left;\n",
              "  /* unfitted */\n",
              "  background-color: var(--sklearn-color-unfitted-level-0);\n",
              "}\n",
              "\n",
              "#sk-container-id-2 div.sk-toggleable__content.fitted {\n",
              "  /* fitted */\n",
              "  background-color: var(--sklearn-color-fitted-level-0);\n",
              "}\n",
              "\n",
              "#sk-container-id-2 div.sk-toggleable__content pre {\n",
              "  margin: 0.2em;\n",
              "  border-radius: 0.25em;\n",
              "  color: var(--sklearn-color-text);\n",
              "  /* unfitted */\n",
              "  background-color: var(--sklearn-color-unfitted-level-0);\n",
              "}\n",
              "\n",
              "#sk-container-id-2 div.sk-toggleable__content.fitted pre {\n",
              "  /* unfitted */\n",
              "  background-color: var(--sklearn-color-fitted-level-0);\n",
              "}\n",
              "\n",
              "#sk-container-id-2 input.sk-toggleable__control:checked~div.sk-toggleable__content {\n",
              "  /* Expand drop-down */\n",
              "  max-height: 200px;\n",
              "  max-width: 100%;\n",
              "  overflow: auto;\n",
              "}\n",
              "\n",
              "#sk-container-id-2 input.sk-toggleable__control:checked~label.sk-toggleable__label-arrow:before {\n",
              "  content: \"▾\";\n",
              "}\n",
              "\n",
              "/* Pipeline/ColumnTransformer-specific style */\n",
              "\n",
              "#sk-container-id-2 div.sk-label input.sk-toggleable__control:checked~label.sk-toggleable__label {\n",
              "  color: var(--sklearn-color-text);\n",
              "  background-color: var(--sklearn-color-unfitted-level-2);\n",
              "}\n",
              "\n",
              "#sk-container-id-2 div.sk-label.fitted input.sk-toggleable__control:checked~label.sk-toggleable__label {\n",
              "  background-color: var(--sklearn-color-fitted-level-2);\n",
              "}\n",
              "\n",
              "/* Estimator-specific style */\n",
              "\n",
              "/* Colorize estimator box */\n",
              "#sk-container-id-2 div.sk-estimator input.sk-toggleable__control:checked~label.sk-toggleable__label {\n",
              "  /* unfitted */\n",
              "  background-color: var(--sklearn-color-unfitted-level-2);\n",
              "}\n",
              "\n",
              "#sk-container-id-2 div.sk-estimator.fitted input.sk-toggleable__control:checked~label.sk-toggleable__label {\n",
              "  /* fitted */\n",
              "  background-color: var(--sklearn-color-fitted-level-2);\n",
              "}\n",
              "\n",
              "#sk-container-id-2 div.sk-label label.sk-toggleable__label,\n",
              "#sk-container-id-2 div.sk-label label {\n",
              "  /* The background is the default theme color */\n",
              "  color: var(--sklearn-color-text-on-default-background);\n",
              "}\n",
              "\n",
              "/* On hover, darken the color of the background */\n",
              "#sk-container-id-2 div.sk-label:hover label.sk-toggleable__label {\n",
              "  color: var(--sklearn-color-text);\n",
              "  background-color: var(--sklearn-color-unfitted-level-2);\n",
              "}\n",
              "\n",
              "/* Label box, darken color on hover, fitted */\n",
              "#sk-container-id-2 div.sk-label.fitted:hover label.sk-toggleable__label.fitted {\n",
              "  color: var(--sklearn-color-text);\n",
              "  background-color: var(--sklearn-color-fitted-level-2);\n",
              "}\n",
              "\n",
              "/* Estimator label */\n",
              "\n",
              "#sk-container-id-2 div.sk-label label {\n",
              "  font-family: monospace;\n",
              "  font-weight: bold;\n",
              "  display: inline-block;\n",
              "  line-height: 1.2em;\n",
              "}\n",
              "\n",
              "#sk-container-id-2 div.sk-label-container {\n",
              "  text-align: center;\n",
              "}\n",
              "\n",
              "/* Estimator-specific */\n",
              "#sk-container-id-2 div.sk-estimator {\n",
              "  font-family: monospace;\n",
              "  border: 1px dotted var(--sklearn-color-border-box);\n",
              "  border-radius: 0.25em;\n",
              "  box-sizing: border-box;\n",
              "  margin-bottom: 0.5em;\n",
              "  /* unfitted */\n",
              "  background-color: var(--sklearn-color-unfitted-level-0);\n",
              "}\n",
              "\n",
              "#sk-container-id-2 div.sk-estimator.fitted {\n",
              "  /* fitted */\n",
              "  background-color: var(--sklearn-color-fitted-level-0);\n",
              "}\n",
              "\n",
              "/* on hover */\n",
              "#sk-container-id-2 div.sk-estimator:hover {\n",
              "  /* unfitted */\n",
              "  background-color: var(--sklearn-color-unfitted-level-2);\n",
              "}\n",
              "\n",
              "#sk-container-id-2 div.sk-estimator.fitted:hover {\n",
              "  /* fitted */\n",
              "  background-color: var(--sklearn-color-fitted-level-2);\n",
              "}\n",
              "\n",
              "/* Specification for estimator info (e.g. \"i\" and \"?\") */\n",
              "\n",
              "/* Common style for \"i\" and \"?\" */\n",
              "\n",
              ".sk-estimator-doc-link,\n",
              "a:link.sk-estimator-doc-link,\n",
              "a:visited.sk-estimator-doc-link {\n",
              "  float: right;\n",
              "  font-size: smaller;\n",
              "  line-height: 1em;\n",
              "  font-family: monospace;\n",
              "  background-color: var(--sklearn-color-background);\n",
              "  border-radius: 1em;\n",
              "  height: 1em;\n",
              "  width: 1em;\n",
              "  text-decoration: none !important;\n",
              "  margin-left: 1ex;\n",
              "  /* unfitted */\n",
              "  border: var(--sklearn-color-unfitted-level-1) 1pt solid;\n",
              "  color: var(--sklearn-color-unfitted-level-1);\n",
              "}\n",
              "\n",
              ".sk-estimator-doc-link.fitted,\n",
              "a:link.sk-estimator-doc-link.fitted,\n",
              "a:visited.sk-estimator-doc-link.fitted {\n",
              "  /* fitted */\n",
              "  border: var(--sklearn-color-fitted-level-1) 1pt solid;\n",
              "  color: var(--sklearn-color-fitted-level-1);\n",
              "}\n",
              "\n",
              "/* On hover */\n",
              "div.sk-estimator:hover .sk-estimator-doc-link:hover,\n",
              ".sk-estimator-doc-link:hover,\n",
              "div.sk-label-container:hover .sk-estimator-doc-link:hover,\n",
              ".sk-estimator-doc-link:hover {\n",
              "  /* unfitted */\n",
              "  background-color: var(--sklearn-color-unfitted-level-3);\n",
              "  color: var(--sklearn-color-background);\n",
              "  text-decoration: none;\n",
              "}\n",
              "\n",
              "div.sk-estimator.fitted:hover .sk-estimator-doc-link.fitted:hover,\n",
              ".sk-estimator-doc-link.fitted:hover,\n",
              "div.sk-label-container:hover .sk-estimator-doc-link.fitted:hover,\n",
              ".sk-estimator-doc-link.fitted:hover {\n",
              "  /* fitted */\n",
              "  background-color: var(--sklearn-color-fitted-level-3);\n",
              "  color: var(--sklearn-color-background);\n",
              "  text-decoration: none;\n",
              "}\n",
              "\n",
              "/* Span, style for the box shown on hovering the info icon */\n",
              ".sk-estimator-doc-link span {\n",
              "  display: none;\n",
              "  z-index: 9999;\n",
              "  position: relative;\n",
              "  font-weight: normal;\n",
              "  right: .2ex;\n",
              "  padding: .5ex;\n",
              "  margin: .5ex;\n",
              "  width: min-content;\n",
              "  min-width: 20ex;\n",
              "  max-width: 50ex;\n",
              "  color: var(--sklearn-color-text);\n",
              "  box-shadow: 2pt 2pt 4pt #999;\n",
              "  /* unfitted */\n",
              "  background: var(--sklearn-color-unfitted-level-0);\n",
              "  border: .5pt solid var(--sklearn-color-unfitted-level-3);\n",
              "}\n",
              "\n",
              ".sk-estimator-doc-link.fitted span {\n",
              "  /* fitted */\n",
              "  background: var(--sklearn-color-fitted-level-0);\n",
              "  border: var(--sklearn-color-fitted-level-3);\n",
              "}\n",
              "\n",
              ".sk-estimator-doc-link:hover span {\n",
              "  display: block;\n",
              "}\n",
              "\n",
              "/* \"?\"-specific style due to the `<a>` HTML tag */\n",
              "\n",
              "#sk-container-id-2 a.estimator_doc_link {\n",
              "  float: right;\n",
              "  font-size: 1rem;\n",
              "  line-height: 1em;\n",
              "  font-family: monospace;\n",
              "  background-color: var(--sklearn-color-background);\n",
              "  border-radius: 1rem;\n",
              "  height: 1rem;\n",
              "  width: 1rem;\n",
              "  text-decoration: none;\n",
              "  /* unfitted */\n",
              "  color: var(--sklearn-color-unfitted-level-1);\n",
              "  border: var(--sklearn-color-unfitted-level-1) 1pt solid;\n",
              "}\n",
              "\n",
              "#sk-container-id-2 a.estimator_doc_link.fitted {\n",
              "  /* fitted */\n",
              "  border: var(--sklearn-color-fitted-level-1) 1pt solid;\n",
              "  color: var(--sklearn-color-fitted-level-1);\n",
              "}\n",
              "\n",
              "/* On hover */\n",
              "#sk-container-id-2 a.estimator_doc_link:hover {\n",
              "  /* unfitted */\n",
              "  background-color: var(--sklearn-color-unfitted-level-3);\n",
              "  color: var(--sklearn-color-background);\n",
              "  text-decoration: none;\n",
              "}\n",
              "\n",
              "#sk-container-id-2 a.estimator_doc_link.fitted:hover {\n",
              "  /* fitted */\n",
              "  background-color: var(--sklearn-color-fitted-level-3);\n",
              "}\n",
              "</style><div id=\"sk-container-id-2\" class=\"sk-top-container\"><div class=\"sk-text-repr-fallback\"><pre>DecisionTreeClassifier()</pre><b>In a Jupyter environment, please rerun this cell to show the HTML representation or trust the notebook. <br />On GitHub, the HTML representation is unable to render, please try loading this page with nbviewer.org.</b></div><div class=\"sk-container\" hidden><div class=\"sk-item\"><div class=\"sk-estimator fitted sk-toggleable\"><input class=\"sk-toggleable__control sk-hidden--visually\" id=\"sk-estimator-id-2\" type=\"checkbox\" checked><label for=\"sk-estimator-id-2\" class=\"sk-toggleable__label fitted sk-toggleable__label-arrow fitted\">&nbsp;&nbsp;DecisionTreeClassifier<a class=\"sk-estimator-doc-link fitted\" rel=\"noreferrer\" target=\"_blank\" href=\"https://scikit-learn.org/1.5/modules/generated/sklearn.tree.DecisionTreeClassifier.html\">?<span>Documentation for DecisionTreeClassifier</span></a><span class=\"sk-estimator-doc-link fitted\">i<span>Fitted</span></span></label><div class=\"sk-toggleable__content fitted\"><pre>DecisionTreeClassifier()</pre></div> </div></div></div></div>"
            ]
          },
          "metadata": {},
          "execution_count": 31
        }
      ]
    },
    {
      "cell_type": "code",
      "source": [
        "pred_dtc=DTC.predict(xv_test)"
      ],
      "metadata": {
        "id": "eb0I5ilN81Fk"
      },
      "execution_count": 32,
      "outputs": []
    },
    {
      "cell_type": "code",
      "source": [
        "DTC.score(xv_test, y_test)"
      ],
      "metadata": {
        "colab": {
          "base_uri": "https://localhost:8080/"
        },
        "id": "fTL2YC6g89JO",
        "outputId": "779f3a29-d2d1-420c-8c30-62265cd446a9"
      },
      "execution_count": 33,
      "outputs": [
        {
          "output_type": "execute_result",
          "data": {
            "text/plain": [
              "0.5962979286029088"
            ]
          },
          "metadata": {},
          "execution_count": 33
        }
      ]
    },
    {
      "cell_type": "code",
      "source": [
        "print(classification_report(y_test, pred_dtc))"
      ],
      "metadata": {
        "colab": {
          "base_uri": "https://localhost:8080/"
        },
        "id": "zk3Vw0vA9Cgd",
        "outputId": "8f05d930-0c13-40be-e90a-000e5596245c"
      },
      "execution_count": 34,
      "outputs": [
        {
          "output_type": "stream",
          "name": "stdout",
          "text": [
            "              precision    recall  f1-score   support\n",
            "\n",
            "         0.0       0.60      0.61      0.61      1158\n",
            "         1.0       0.59      0.58      0.59      1111\n",
            "\n",
            "    accuracy                           0.60      2269\n",
            "   macro avg       0.60      0.60      0.60      2269\n",
            "weighted avg       0.60      0.60      0.60      2269\n",
            "\n"
          ]
        }
      ]
    },
    {
      "cell_type": "code",
      "source": [
        "rfc=RandomForestClassifier()"
      ],
      "metadata": {
        "id": "bVUmiglGEAD2"
      },
      "execution_count": 35,
      "outputs": []
    },
    {
      "cell_type": "code",
      "source": [
        "rfc.fit(xv_train,y_train)"
      ],
      "metadata": {
        "colab": {
          "base_uri": "https://localhost:8080/",
          "height": 80
        },
        "id": "8I_m9bJbEDrV",
        "outputId": "87ab8837-9e53-4b10-f3f6-f2de3e2a3eeb"
      },
      "execution_count": 36,
      "outputs": [
        {
          "output_type": "execute_result",
          "data": {
            "text/plain": [
              "RandomForestClassifier()"
            ],
            "text/html": [
              "<style>#sk-container-id-3 {\n",
              "  /* Definition of color scheme common for light and dark mode */\n",
              "  --sklearn-color-text: black;\n",
              "  --sklearn-color-line: gray;\n",
              "  /* Definition of color scheme for unfitted estimators */\n",
              "  --sklearn-color-unfitted-level-0: #fff5e6;\n",
              "  --sklearn-color-unfitted-level-1: #f6e4d2;\n",
              "  --sklearn-color-unfitted-level-2: #ffe0b3;\n",
              "  --sklearn-color-unfitted-level-3: chocolate;\n",
              "  /* Definition of color scheme for fitted estimators */\n",
              "  --sklearn-color-fitted-level-0: #f0f8ff;\n",
              "  --sklearn-color-fitted-level-1: #d4ebff;\n",
              "  --sklearn-color-fitted-level-2: #b3dbfd;\n",
              "  --sklearn-color-fitted-level-3: cornflowerblue;\n",
              "\n",
              "  /* Specific color for light theme */\n",
              "  --sklearn-color-text-on-default-background: var(--sg-text-color, var(--theme-code-foreground, var(--jp-content-font-color1, black)));\n",
              "  --sklearn-color-background: var(--sg-background-color, var(--theme-background, var(--jp-layout-color0, white)));\n",
              "  --sklearn-color-border-box: var(--sg-text-color, var(--theme-code-foreground, var(--jp-content-font-color1, black)));\n",
              "  --sklearn-color-icon: #696969;\n",
              "\n",
              "  @media (prefers-color-scheme: dark) {\n",
              "    /* Redefinition of color scheme for dark theme */\n",
              "    --sklearn-color-text-on-default-background: var(--sg-text-color, var(--theme-code-foreground, var(--jp-content-font-color1, white)));\n",
              "    --sklearn-color-background: var(--sg-background-color, var(--theme-background, var(--jp-layout-color0, #111)));\n",
              "    --sklearn-color-border-box: var(--sg-text-color, var(--theme-code-foreground, var(--jp-content-font-color1, white)));\n",
              "    --sklearn-color-icon: #878787;\n",
              "  }\n",
              "}\n",
              "\n",
              "#sk-container-id-3 {\n",
              "  color: var(--sklearn-color-text);\n",
              "}\n",
              "\n",
              "#sk-container-id-3 pre {\n",
              "  padding: 0;\n",
              "}\n",
              "\n",
              "#sk-container-id-3 input.sk-hidden--visually {\n",
              "  border: 0;\n",
              "  clip: rect(1px 1px 1px 1px);\n",
              "  clip: rect(1px, 1px, 1px, 1px);\n",
              "  height: 1px;\n",
              "  margin: -1px;\n",
              "  overflow: hidden;\n",
              "  padding: 0;\n",
              "  position: absolute;\n",
              "  width: 1px;\n",
              "}\n",
              "\n",
              "#sk-container-id-3 div.sk-dashed-wrapped {\n",
              "  border: 1px dashed var(--sklearn-color-line);\n",
              "  margin: 0 0.4em 0.5em 0.4em;\n",
              "  box-sizing: border-box;\n",
              "  padding-bottom: 0.4em;\n",
              "  background-color: var(--sklearn-color-background);\n",
              "}\n",
              "\n",
              "#sk-container-id-3 div.sk-container {\n",
              "  /* jupyter's `normalize.less` sets `[hidden] { display: none; }`\n",
              "     but bootstrap.min.css set `[hidden] { display: none !important; }`\n",
              "     so we also need the `!important` here to be able to override the\n",
              "     default hidden behavior on the sphinx rendered scikit-learn.org.\n",
              "     See: https://github.com/scikit-learn/scikit-learn/issues/21755 */\n",
              "  display: inline-block !important;\n",
              "  position: relative;\n",
              "}\n",
              "\n",
              "#sk-container-id-3 div.sk-text-repr-fallback {\n",
              "  display: none;\n",
              "}\n",
              "\n",
              "div.sk-parallel-item,\n",
              "div.sk-serial,\n",
              "div.sk-item {\n",
              "  /* draw centered vertical line to link estimators */\n",
              "  background-image: linear-gradient(var(--sklearn-color-text-on-default-background), var(--sklearn-color-text-on-default-background));\n",
              "  background-size: 2px 100%;\n",
              "  background-repeat: no-repeat;\n",
              "  background-position: center center;\n",
              "}\n",
              "\n",
              "/* Parallel-specific style estimator block */\n",
              "\n",
              "#sk-container-id-3 div.sk-parallel-item::after {\n",
              "  content: \"\";\n",
              "  width: 100%;\n",
              "  border-bottom: 2px solid var(--sklearn-color-text-on-default-background);\n",
              "  flex-grow: 1;\n",
              "}\n",
              "\n",
              "#sk-container-id-3 div.sk-parallel {\n",
              "  display: flex;\n",
              "  align-items: stretch;\n",
              "  justify-content: center;\n",
              "  background-color: var(--sklearn-color-background);\n",
              "  position: relative;\n",
              "}\n",
              "\n",
              "#sk-container-id-3 div.sk-parallel-item {\n",
              "  display: flex;\n",
              "  flex-direction: column;\n",
              "}\n",
              "\n",
              "#sk-container-id-3 div.sk-parallel-item:first-child::after {\n",
              "  align-self: flex-end;\n",
              "  width: 50%;\n",
              "}\n",
              "\n",
              "#sk-container-id-3 div.sk-parallel-item:last-child::after {\n",
              "  align-self: flex-start;\n",
              "  width: 50%;\n",
              "}\n",
              "\n",
              "#sk-container-id-3 div.sk-parallel-item:only-child::after {\n",
              "  width: 0;\n",
              "}\n",
              "\n",
              "/* Serial-specific style estimator block */\n",
              "\n",
              "#sk-container-id-3 div.sk-serial {\n",
              "  display: flex;\n",
              "  flex-direction: column;\n",
              "  align-items: center;\n",
              "  background-color: var(--sklearn-color-background);\n",
              "  padding-right: 1em;\n",
              "  padding-left: 1em;\n",
              "}\n",
              "\n",
              "\n",
              "/* Toggleable style: style used for estimator/Pipeline/ColumnTransformer box that is\n",
              "clickable and can be expanded/collapsed.\n",
              "- Pipeline and ColumnTransformer use this feature and define the default style\n",
              "- Estimators will overwrite some part of the style using the `sk-estimator` class\n",
              "*/\n",
              "\n",
              "/* Pipeline and ColumnTransformer style (default) */\n",
              "\n",
              "#sk-container-id-3 div.sk-toggleable {\n",
              "  /* Default theme specific background. It is overwritten whether we have a\n",
              "  specific estimator or a Pipeline/ColumnTransformer */\n",
              "  background-color: var(--sklearn-color-background);\n",
              "}\n",
              "\n",
              "/* Toggleable label */\n",
              "#sk-container-id-3 label.sk-toggleable__label {\n",
              "  cursor: pointer;\n",
              "  display: block;\n",
              "  width: 100%;\n",
              "  margin-bottom: 0;\n",
              "  padding: 0.5em;\n",
              "  box-sizing: border-box;\n",
              "  text-align: center;\n",
              "}\n",
              "\n",
              "#sk-container-id-3 label.sk-toggleable__label-arrow:before {\n",
              "  /* Arrow on the left of the label */\n",
              "  content: \"▸\";\n",
              "  float: left;\n",
              "  margin-right: 0.25em;\n",
              "  color: var(--sklearn-color-icon);\n",
              "}\n",
              "\n",
              "#sk-container-id-3 label.sk-toggleable__label-arrow:hover:before {\n",
              "  color: var(--sklearn-color-text);\n",
              "}\n",
              "\n",
              "/* Toggleable content - dropdown */\n",
              "\n",
              "#sk-container-id-3 div.sk-toggleable__content {\n",
              "  max-height: 0;\n",
              "  max-width: 0;\n",
              "  overflow: hidden;\n",
              "  text-align: left;\n",
              "  /* unfitted */\n",
              "  background-color: var(--sklearn-color-unfitted-level-0);\n",
              "}\n",
              "\n",
              "#sk-container-id-3 div.sk-toggleable__content.fitted {\n",
              "  /* fitted */\n",
              "  background-color: var(--sklearn-color-fitted-level-0);\n",
              "}\n",
              "\n",
              "#sk-container-id-3 div.sk-toggleable__content pre {\n",
              "  margin: 0.2em;\n",
              "  border-radius: 0.25em;\n",
              "  color: var(--sklearn-color-text);\n",
              "  /* unfitted */\n",
              "  background-color: var(--sklearn-color-unfitted-level-0);\n",
              "}\n",
              "\n",
              "#sk-container-id-3 div.sk-toggleable__content.fitted pre {\n",
              "  /* unfitted */\n",
              "  background-color: var(--sklearn-color-fitted-level-0);\n",
              "}\n",
              "\n",
              "#sk-container-id-3 input.sk-toggleable__control:checked~div.sk-toggleable__content {\n",
              "  /* Expand drop-down */\n",
              "  max-height: 200px;\n",
              "  max-width: 100%;\n",
              "  overflow: auto;\n",
              "}\n",
              "\n",
              "#sk-container-id-3 input.sk-toggleable__control:checked~label.sk-toggleable__label-arrow:before {\n",
              "  content: \"▾\";\n",
              "}\n",
              "\n",
              "/* Pipeline/ColumnTransformer-specific style */\n",
              "\n",
              "#sk-container-id-3 div.sk-label input.sk-toggleable__control:checked~label.sk-toggleable__label {\n",
              "  color: var(--sklearn-color-text);\n",
              "  background-color: var(--sklearn-color-unfitted-level-2);\n",
              "}\n",
              "\n",
              "#sk-container-id-3 div.sk-label.fitted input.sk-toggleable__control:checked~label.sk-toggleable__label {\n",
              "  background-color: var(--sklearn-color-fitted-level-2);\n",
              "}\n",
              "\n",
              "/* Estimator-specific style */\n",
              "\n",
              "/* Colorize estimator box */\n",
              "#sk-container-id-3 div.sk-estimator input.sk-toggleable__control:checked~label.sk-toggleable__label {\n",
              "  /* unfitted */\n",
              "  background-color: var(--sklearn-color-unfitted-level-2);\n",
              "}\n",
              "\n",
              "#sk-container-id-3 div.sk-estimator.fitted input.sk-toggleable__control:checked~label.sk-toggleable__label {\n",
              "  /* fitted */\n",
              "  background-color: var(--sklearn-color-fitted-level-2);\n",
              "}\n",
              "\n",
              "#sk-container-id-3 div.sk-label label.sk-toggleable__label,\n",
              "#sk-container-id-3 div.sk-label label {\n",
              "  /* The background is the default theme color */\n",
              "  color: var(--sklearn-color-text-on-default-background);\n",
              "}\n",
              "\n",
              "/* On hover, darken the color of the background */\n",
              "#sk-container-id-3 div.sk-label:hover label.sk-toggleable__label {\n",
              "  color: var(--sklearn-color-text);\n",
              "  background-color: var(--sklearn-color-unfitted-level-2);\n",
              "}\n",
              "\n",
              "/* Label box, darken color on hover, fitted */\n",
              "#sk-container-id-3 div.sk-label.fitted:hover label.sk-toggleable__label.fitted {\n",
              "  color: var(--sklearn-color-text);\n",
              "  background-color: var(--sklearn-color-fitted-level-2);\n",
              "}\n",
              "\n",
              "/* Estimator label */\n",
              "\n",
              "#sk-container-id-3 div.sk-label label {\n",
              "  font-family: monospace;\n",
              "  font-weight: bold;\n",
              "  display: inline-block;\n",
              "  line-height: 1.2em;\n",
              "}\n",
              "\n",
              "#sk-container-id-3 div.sk-label-container {\n",
              "  text-align: center;\n",
              "}\n",
              "\n",
              "/* Estimator-specific */\n",
              "#sk-container-id-3 div.sk-estimator {\n",
              "  font-family: monospace;\n",
              "  border: 1px dotted var(--sklearn-color-border-box);\n",
              "  border-radius: 0.25em;\n",
              "  box-sizing: border-box;\n",
              "  margin-bottom: 0.5em;\n",
              "  /* unfitted */\n",
              "  background-color: var(--sklearn-color-unfitted-level-0);\n",
              "}\n",
              "\n",
              "#sk-container-id-3 div.sk-estimator.fitted {\n",
              "  /* fitted */\n",
              "  background-color: var(--sklearn-color-fitted-level-0);\n",
              "}\n",
              "\n",
              "/* on hover */\n",
              "#sk-container-id-3 div.sk-estimator:hover {\n",
              "  /* unfitted */\n",
              "  background-color: var(--sklearn-color-unfitted-level-2);\n",
              "}\n",
              "\n",
              "#sk-container-id-3 div.sk-estimator.fitted:hover {\n",
              "  /* fitted */\n",
              "  background-color: var(--sklearn-color-fitted-level-2);\n",
              "}\n",
              "\n",
              "/* Specification for estimator info (e.g. \"i\" and \"?\") */\n",
              "\n",
              "/* Common style for \"i\" and \"?\" */\n",
              "\n",
              ".sk-estimator-doc-link,\n",
              "a:link.sk-estimator-doc-link,\n",
              "a:visited.sk-estimator-doc-link {\n",
              "  float: right;\n",
              "  font-size: smaller;\n",
              "  line-height: 1em;\n",
              "  font-family: monospace;\n",
              "  background-color: var(--sklearn-color-background);\n",
              "  border-radius: 1em;\n",
              "  height: 1em;\n",
              "  width: 1em;\n",
              "  text-decoration: none !important;\n",
              "  margin-left: 1ex;\n",
              "  /* unfitted */\n",
              "  border: var(--sklearn-color-unfitted-level-1) 1pt solid;\n",
              "  color: var(--sklearn-color-unfitted-level-1);\n",
              "}\n",
              "\n",
              ".sk-estimator-doc-link.fitted,\n",
              "a:link.sk-estimator-doc-link.fitted,\n",
              "a:visited.sk-estimator-doc-link.fitted {\n",
              "  /* fitted */\n",
              "  border: var(--sklearn-color-fitted-level-1) 1pt solid;\n",
              "  color: var(--sklearn-color-fitted-level-1);\n",
              "}\n",
              "\n",
              "/* On hover */\n",
              "div.sk-estimator:hover .sk-estimator-doc-link:hover,\n",
              ".sk-estimator-doc-link:hover,\n",
              "div.sk-label-container:hover .sk-estimator-doc-link:hover,\n",
              ".sk-estimator-doc-link:hover {\n",
              "  /* unfitted */\n",
              "  background-color: var(--sklearn-color-unfitted-level-3);\n",
              "  color: var(--sklearn-color-background);\n",
              "  text-decoration: none;\n",
              "}\n",
              "\n",
              "div.sk-estimator.fitted:hover .sk-estimator-doc-link.fitted:hover,\n",
              ".sk-estimator-doc-link.fitted:hover,\n",
              "div.sk-label-container:hover .sk-estimator-doc-link.fitted:hover,\n",
              ".sk-estimator-doc-link.fitted:hover {\n",
              "  /* fitted */\n",
              "  background-color: var(--sklearn-color-fitted-level-3);\n",
              "  color: var(--sklearn-color-background);\n",
              "  text-decoration: none;\n",
              "}\n",
              "\n",
              "/* Span, style for the box shown on hovering the info icon */\n",
              ".sk-estimator-doc-link span {\n",
              "  display: none;\n",
              "  z-index: 9999;\n",
              "  position: relative;\n",
              "  font-weight: normal;\n",
              "  right: .2ex;\n",
              "  padding: .5ex;\n",
              "  margin: .5ex;\n",
              "  width: min-content;\n",
              "  min-width: 20ex;\n",
              "  max-width: 50ex;\n",
              "  color: var(--sklearn-color-text);\n",
              "  box-shadow: 2pt 2pt 4pt #999;\n",
              "  /* unfitted */\n",
              "  background: var(--sklearn-color-unfitted-level-0);\n",
              "  border: .5pt solid var(--sklearn-color-unfitted-level-3);\n",
              "}\n",
              "\n",
              ".sk-estimator-doc-link.fitted span {\n",
              "  /* fitted */\n",
              "  background: var(--sklearn-color-fitted-level-0);\n",
              "  border: var(--sklearn-color-fitted-level-3);\n",
              "}\n",
              "\n",
              ".sk-estimator-doc-link:hover span {\n",
              "  display: block;\n",
              "}\n",
              "\n",
              "/* \"?\"-specific style due to the `<a>` HTML tag */\n",
              "\n",
              "#sk-container-id-3 a.estimator_doc_link {\n",
              "  float: right;\n",
              "  font-size: 1rem;\n",
              "  line-height: 1em;\n",
              "  font-family: monospace;\n",
              "  background-color: var(--sklearn-color-background);\n",
              "  border-radius: 1rem;\n",
              "  height: 1rem;\n",
              "  width: 1rem;\n",
              "  text-decoration: none;\n",
              "  /* unfitted */\n",
              "  color: var(--sklearn-color-unfitted-level-1);\n",
              "  border: var(--sklearn-color-unfitted-level-1) 1pt solid;\n",
              "}\n",
              "\n",
              "#sk-container-id-3 a.estimator_doc_link.fitted {\n",
              "  /* fitted */\n",
              "  border: var(--sklearn-color-fitted-level-1) 1pt solid;\n",
              "  color: var(--sklearn-color-fitted-level-1);\n",
              "}\n",
              "\n",
              "/* On hover */\n",
              "#sk-container-id-3 a.estimator_doc_link:hover {\n",
              "  /* unfitted */\n",
              "  background-color: var(--sklearn-color-unfitted-level-3);\n",
              "  color: var(--sklearn-color-background);\n",
              "  text-decoration: none;\n",
              "}\n",
              "\n",
              "#sk-container-id-3 a.estimator_doc_link.fitted:hover {\n",
              "  /* fitted */\n",
              "  background-color: var(--sklearn-color-fitted-level-3);\n",
              "}\n",
              "</style><div id=\"sk-container-id-3\" class=\"sk-top-container\"><div class=\"sk-text-repr-fallback\"><pre>RandomForestClassifier()</pre><b>In a Jupyter environment, please rerun this cell to show the HTML representation or trust the notebook. <br />On GitHub, the HTML representation is unable to render, please try loading this page with nbviewer.org.</b></div><div class=\"sk-container\" hidden><div class=\"sk-item\"><div class=\"sk-estimator fitted sk-toggleable\"><input class=\"sk-toggleable__control sk-hidden--visually\" id=\"sk-estimator-id-3\" type=\"checkbox\" checked><label for=\"sk-estimator-id-3\" class=\"sk-toggleable__label fitted sk-toggleable__label-arrow fitted\">&nbsp;&nbsp;RandomForestClassifier<a class=\"sk-estimator-doc-link fitted\" rel=\"noreferrer\" target=\"_blank\" href=\"https://scikit-learn.org/1.5/modules/generated/sklearn.ensemble.RandomForestClassifier.html\">?<span>Documentation for RandomForestClassifier</span></a><span class=\"sk-estimator-doc-link fitted\">i<span>Fitted</span></span></label><div class=\"sk-toggleable__content fitted\"><pre>RandomForestClassifier()</pre></div> </div></div></div></div>"
            ]
          },
          "metadata": {},
          "execution_count": 36
        }
      ]
    },
    {
      "cell_type": "code",
      "source": [
        "predict_rfc=rfc.predict(xv_test)"
      ],
      "metadata": {
        "id": "urip2yT2EHTG"
      },
      "execution_count": 37,
      "outputs": []
    },
    {
      "cell_type": "code",
      "source": [
        "rfc.score(xv_test, y_test)"
      ],
      "metadata": {
        "colab": {
          "base_uri": "https://localhost:8080/"
        },
        "id": "9pDNs_4NERMX",
        "outputId": "fff934a5-b6f7-4db9-b71d-c783939d365e"
      },
      "execution_count": 38,
      "outputs": [
        {
          "output_type": "execute_result",
          "data": {
            "text/plain": [
              "0.6685764654032613"
            ]
          },
          "metadata": {},
          "execution_count": 38
        }
      ]
    },
    {
      "cell_type": "code",
      "source": [
        "print(classification_report(y_test, predict_rfc))"
      ],
      "metadata": {
        "colab": {
          "base_uri": "https://localhost:8080/"
        },
        "id": "lyor7ScDEVJa",
        "outputId": "2e485ca4-c9ac-4823-d078-33034baeb091"
      },
      "execution_count": 39,
      "outputs": [
        {
          "output_type": "stream",
          "name": "stdout",
          "text": [
            "              precision    recall  f1-score   support\n",
            "\n",
            "         0.0       0.68      0.65      0.67      1158\n",
            "         1.0       0.65      0.68      0.67      1111\n",
            "\n",
            "    accuracy                           0.67      2269\n",
            "   macro avg       0.67      0.67      0.67      2269\n",
            "weighted avg       0.67      0.67      0.67      2269\n",
            "\n"
          ]
        }
      ]
    },
    {
      "cell_type": "code",
      "source": [
        "def output_lable(n):\n",
        "    if n == 0:\n",
        "        return \"Fake News\"\n",
        "    elif n == 1:\n",
        "        return \"It is a Genuine news\""
      ],
      "metadata": {
        "id": "FXXZ45iyEZSA"
      },
      "execution_count": 40,
      "outputs": []
    },
    {
      "cell_type": "code",
      "source": [
        "def manual_testing(df):\n",
        "    testing_news = {\"text\":[df]}\n",
        "    new_def_test = pd.DataFrame(testing_news)\n",
        "    new_def_test[\"text\"] = new_def_test[\"text\"].apply(wordopt)\n",
        "    new_x_test = new_def_test[\"text\"]\n",
        "    new_xv_test = vectorization.transform(new_x_test)\n",
        "    pred_LR = LR.predict(new_xv_test)\n",
        "    pred_DT = DTC.predict(new_xv_test)\n",
        "    pred_RFC = rfc.predict(new_xv_test)\n",
        "\n",
        "    return \"\\n\\nLR Prediction: {} \\nDT Prediction: {} \\nRFC Prediction: {}\".format(output_lable(pred_LR[0]),\n",
        "                                                                                       output_lable(pred_DT[0]),\n",
        "                                                                                       output_lable(pred_RFC[0]))"
      ],
      "metadata": {
        "id": "MPEccPFCE7Us"
      },
      "execution_count": 41,
      "outputs": []
    },
    {
      "cell_type": "code",
      "source": [
        "%matplotlib inline\n"
      ],
      "metadata": {
        "id": "3IOUIdv6NcJe"
      },
      "execution_count": 42,
      "outputs": []
    },
    {
      "cell_type": "code",
      "source": [
        "# prompt:  Create Confusion Matrix: This helps you visualize the accuracy of the classification by showing true positives, true negatives, false positives, and false negatives.\n",
        "\n",
        "# Assuming 'y_test' and 'pred_lr' are defined as in your previous code\n",
        "cm = confusion_matrix(y_test, pred_lr)\n",
        "\n",
        "plt.figure(figsize=(6, 6))\n",
        "sns.heatmap(cm, annot=True, fmt='d', cmap='Blues', cbar=False,\n",
        "            xticklabels=['Predicted Fake', 'Predicted Real'],\n",
        "            yticklabels=['Actual Fake', 'Actual Real'])\n",
        "plt.xlabel('Predicted Labels')\n",
        "plt.ylabel('True Labels')\n",
        "plt.title('Confusion Matrix for Logistic Regression')\n",
        "plt.show()"
      ],
      "metadata": {
        "colab": {
          "base_uri": "https://localhost:8080/",
          "height": 564
        },
        "id": "CvDV63UUNs2f",
        "outputId": "ae8c555e-9436-4e90-8a2f-95f4be6cce2a"
      },
      "execution_count": 43,
      "outputs": [
        {
          "output_type": "display_data",
          "data": {
            "text/plain": [
              "<Figure size 600x600 with 1 Axes>"
            ],
            "image/png": "[encoded data removed]"
          },
          "metadata": {}
        }
      ]
    },
    {
      "cell_type": "code",
      "source": [
        "# prompt: create ROC Curve (Receiver Operating Characteristic): Useful for understanding the true positive rate versus the false positive rate. It’s ideal for binary classification tasks.\n",
        "\n",
        "# Assuming y_test and pred_lr (or predictions from another model) are available.\n",
        "\n",
        "# Calculate ROC curve and AUC\n",
        "fpr, tpr, thresholds = roc_curve(y_test, pred_lr)\n",
        "roc_auc = auc(fpr, tpr)\n",
        "\n",
        "# Plot ROC curve\n",
        "plt.figure()\n",
        "plt.plot(fpr, tpr, color='darkorange', lw=2, label='ROC curve (area = %0.2f)' % roc_auc)\n",
        "plt.plot([0, 1], [0, 1], color='navy', lw=2, linestyle='--')\n",
        "plt.xlim([0.0, 1.0])\n",
        "plt.ylim([0.0, 1.05])\n",
        "plt.xlabel('False Positive Rate')\n",
        "plt.ylabel('True Positive Rate')\n",
        "plt.title('Receiver operating characteristic example')\n",
        "plt.legend(loc=\"lower right\")\n",
        "plt.show()"
      ],
      "metadata": {
        "colab": {
          "base_uri": "https://localhost:8080/",
          "height": 472
        },
        "id": "j6dOlDymOgxI",
        "outputId": "0828f40c-138e-4f36-f882-0be0e0816bca"
      },
      "execution_count": 44,
      "outputs": [
        {
          "output_type": "display_data",
          "data": {
            "text/plain": [
              "<Figure size 640x480 with 1 Axes>"
            ],
            "image/png": "[encoded data removed]"
          },
          "metadata": {}
        }
      ]
    },
    {
      "cell_type": "markdown",
      "source": [
        "An AUC of 0.67 suggests that  model performs better than random guessing but still has room for improvement.\n"
      ],
      "metadata": {
        "id": "wqSAcCExPywM"
      }
    },
    {
      "cell_type": "code",
      "source": [
        "from sklearn.metrics import accuracy_score, precision_score, recall_score, f1_score\n",
        "accuracy = accuracy_score(y_test, pred_lr)\n",
        "precision = precision_score(y_test, pred_lr)\n",
        "recall = recall_score(y_test, pred_lr)\n",
        "f1 = f1_score(y_test, pred_lr)\n",
        "\n",
        "print(f\"Accuracy: {accuracy}\")\n",
        "print(f\"Precision: {precision}\")\n",
        "print(f\"Recall: {recall}\")\n",
        "print(f\"F1 Score: {f1}\")"
      ],
      "metadata": {
        "colab": {
          "base_uri": "https://localhost:8080/"
        },
        "id": "HXNsQeIdfRMW",
        "outputId": "bdfd6079-e347-4e67-b32c-79ff8491f3a5"
      },
      "execution_count": 53,
      "outputs": [
        {
          "output_type": "stream",
          "name": "stdout",
          "text": [
            "Accuracy: 0.6690171881886293\n",
            "Precision: 0.6639344262295082\n",
            "Recall: 0.6561656165616562\n",
            "F1 Score: 0.6600271616115889\n"
          ]
        }
      ]
    },
    {
      "cell_type": "markdown",
      "source": [
        "**Accuracy:** 0.669 (66.9%)\n",
        "\n",
        " The model correctly predicts whether an article is fake or real about 66.9% of the time.\n",
        "\n",
        "**Precision:** 0.664 (66.4%)\n",
        "\n",
        "When the model predicts that an article is fake, it is correct about 66.4% of the time. Precision is a useful metric if false positives (real news incorrectly labeled as fake) are particularly costly or problematic.\n",
        "\n",
        "**Recall:** 0.656 (65.6%)\n",
        "\n",
        " The model correctly identifies 65.6% of the actual fake news articles in the dataset. Recall is crucial if your priority is to catch as many instances of fake news as possible, even if that means occasionally mislabeling real news as fake.\n",
        "\n",
        "**F1 Score:** 0.660 (66.0%)\n",
        "\n",
        " The F1 Score is the harmonic mean of precision and recall, balancing the two metrics. A score of 66.0% suggests that the model maintains a reasonable balance between correctly identifying fake news and avoiding false positives, though it indicates room for improvement."
      ],
      "metadata": {
        "id": "NS51j74qgGx5"
      }
    },
    {
      "cell_type": "code",
      "source": [
        "\n",
        "news_content = str(input())\n"
      ],
      "metadata": {
        "id": "chFpJLqzFnrS",
        "colab": {
          "base_uri": "https://localhost:8080/"
        },
        "outputId": "3c03af56-630b-40dc-9eb8-996d14a938a4"
      },
      "execution_count": 47,
      "outputs": [
        {
          "name": "stdout",
          "output_type": "stream",
          "text": [
            "ফরিদপুরের বোয়ালমারীতে জেলা গোয়েন্দা (ডিবি) পুলিশের এক উপ-পরিদর্শকের (এসআই) বাড়িতে ঘরের দরজা ভেঙে ভেতরে ঢুকে মা ও বোনকে পিস্তল ঠেকিয়ে ডাকাতি করার অভিযোগ উঠেছে।  বুধবার (৬ নভেম্বর) বিকেলে ওই ডিবি পুলিশের মা কামরুন্নেছা এ তথ্য নিশ্চিত করেছেন।  এর আগে মঙ্গলবার (৫ নভেম্বর) রাত সাড়ে ১২টার দিকে এ ডাকাতির ঘটনা ঘটে।  উপজেলা শেখর ইউনিয়নের দরিসহস্রাইল গ্রামের বাসিন্দা ঢাকা ডিবি পুলিশে কর্মরত এসআই মো. নাসিরুদ্দিন বকুলের (৩৮) বাড়িতে এ ডাকাতি সংঘটিত হয়।  ভুক্তভোগী পরিবার সূত্রে জানা যায়, ঘরের দরজার হ্যাজবোল্ট (দরজার ছিটকানি) চাপদিয়ে ভেঙে ডাকাত দলের আট-দশজন ডাকাত ঘরে প্রবেশ করে। পরে ডিবি পুলিশের মা কামরুন্নেছার (৬৫), মাথায় পিস্তল ও তার বড় বোন মুন্নি খানমকে (৪০) ছুরি ঠেকিয়ে জিম্মি করে ডাকাতি কার্যক্রম চালায়। প্রায় তিন-চার ঘণ্টা সময় নিয়ে ডাকাতরা ঘরের ভেতরের আসবাবপত্র তল্লাশি চালিয়ে ২ লাখ ১০ হাজার টাকা ও আট-দশ ভরি স্বর্ণালংকার নিয়ে যায়।  ডিবি পুলিশের মা কামরুন্নেছা বলেন, ‘খাবার খেয়ে রাতে আমি ও আমার মেয়ে দরজার হ্যাজবোল্ট লক ও ছিটকিনি লাগিয়ে ঘুমিয়ে ছিলাম। হঠাৎ করে আট-দশজন ডাকাত ঘরের দরজা ভেঙে ভেতরে প্রবেশ করে। ডাকাতদের সবার হাতে অস্ত্র ছিল। ডাকাতদের দেখে আমি চিৎকার দিলে, আমার মাথায় পিস্তল ঠেকিয়ে, মেয়ের শয়ন কক্ষে নিয়ে মেয়েকেও জিম্মি করে ডাকাতরা। পরে আমার গলায় থাকা স্বর্ণের চেন ও কানের দুল খুলে নেয়। পরে ঘর তছনছ করে স্বর্ণালংকার টাকা ও রেশনের ১০ কেজি তেল, চিনি, আটা, ফ্রিজ থেকে ১০ কেজি মাংস নিয়ে যায় ডাকাতরা।  ডিবি পুলিশের ভুক্তভোগী বোন মুন্নি খানম বলেন, আমার ভাই ডিবি পুলিশের এসআই নাছিরুদ্দিন বকুল। ঢাকায় আরেক ভাই বিমান বাহিনীতে চাকরি করেন। বাড়িতে আমি ও আমার মা থাকি। ডাকাতরা আমার মাকে পিস্তল ঠেকিয়ে আমার রুমে এনে আমাকেও জিম্মি করে। পরে আমার গলায় থাকা স্বর্ণের চেন, কানের দুল ভয় দেখিয়ে ছিনিয়ে নেয়। সে সময় ডাকাতরা আসবাবপত্র তছনছ করে মায়ের ক্যান্সার চিকিৎসার ২ লাখ ১০ হাজার টাকা ও আমার স্বর্ণের সাড়ে ৩ ভরি ওজনের সীতাহার, ৩ ভরি ২ রতি ওজনের স্বর্ণের চুর, পাঁচ জোড়া স্বর্ণের দুল, ও তিনটি চেন নিয়ে যায় ডাকাতরা। তারা ১০ জনের মতো ছিল।  বোয়ালমারী থানার পরিদর্শক (তদন্ত) মো. মজিবর রহমান জানান, খবর পেয়ে ঘটনাস্থল পরিদর্শন করা হয়েছে। তবে এটা চুরির ঘটনা। এখনও কেউ অভিযোগ করেননি। অভিযোগ পেলে আইনি ব্যবস্থা নেওয়া হবে।  বাংলাদেশ সময়: ২১৩৫ ঘণ্টা, নভেম্বর ০৬, ২০২৪ এসআরএস\n"
          ]
        }
      ]
    },
    {
      "cell_type": "markdown",
      "source": [
        "ফরিদপুরের বোয়ালমারীতে জেলা গোয়েন্দা (ডিবি) পুলিশের এক উপ-পরিদর্শকের (এসআই) বাড়িতে ঘরের দরজা ভেঙে ভেতরে ঢুকে মা ও বোনকে পিস্তল ঠেকিয়ে ডাকাতি করার অভিযোগ উঠেছে।  \n",
        "\n",
        "বুধবার (৬ নভেম্বর) বিকেলে ওই ডিবি পুলিশের মা কামরুন্নেছা এ তথ্য নিশ্চিত করেছেন।\n",
        "\n",
        "\n",
        "এর আগে মঙ্গলবার (৫ নভেম্বর) রাত সাড়ে ১২টার দিকে এ ডাকাতির ঘটনা ঘটে।  \n",
        "\n",
        "উপজেলা শেখর ইউনিয়নের দরিসহস্রাইল গ্রামের বাসিন্দা ঢাকা ডিবি পুলিশে কর্মরত এসআই মো. নাসিরুদ্দিন বকুলের (৩৮) বাড়িতে এ ডাকাতি সংঘটিত হয়।  \n",
        "\n",
        "ভুক্তভোগী পরিবার সূত্রে জানা যায়, ঘরের দরজার হ্যাজবোল্ট (দরজার ছিটকানি) চাপদিয়ে ভেঙে ডাকাত দলের আট-দশজন ডাকাত ঘরে প্রবেশ করে। পরে ডিবি পুলিশের মা কামরুন্নেছার (৬৫), মাথায় পিস্তল ও তার বড় বোন মুন্নি খানমকে (৪০) ছুরি ঠেকিয়ে জিম্মি করে ডাকাতি কার্যক্রম চালায়। প্রায় তিন-চার ঘণ্টা সময় নিয়ে ডাকাতরা ঘরের ভেতরের আসবাবপত্র তল্লাশি চালিয়ে ২ লাখ ১০ হাজার টাকা ও আট-দশ ভরি স্বর্ণালংকার নিয়ে যায়।\n",
        "\n",
        "ডিবি পুলিশের মা কামরুন্নেছা বলেন, ‘খাবার খেয়ে রাতে আমি ও আমার মেয়ে দরজার হ্যাজবোল্ট লক ও ছিটকিনি লাগিয়ে ঘুমিয়ে ছিলাম। হঠাৎ করে আট-দশজন ডাকাত ঘরের দরজা ভেঙে ভেতরে প্রবেশ করে। ডাকাতদের সবার হাতে অস্ত্র ছিল। ডাকাতদের দেখে আমি চিৎকার দিলে, আমার মাথায় পিস্তল ঠেকিয়ে, মেয়ের শয়ন কক্ষে নিয়ে মেয়েকেও জিম্মি করে ডাকাতরা। পরে আমার গলায় থাকা স্বর্ণের চেন ও কানের দুল খুলে নেয়। পরে ঘর তছনছ করে স্বর্ণালংকার টাকা ও রেশনের ১০ কেজি তেল, চিনি, আটা, ফ্রিজ থেকে ১০ কেজি মাংস নিয়ে যায় ডাকাতরা।  \n",
        "\n",
        "ডিবি পুলিশের ভুক্তভোগী বোন মুন্নি খানম বলেন, আমার ভাই ডিবি পুলিশের এসআই নাছিরুদ্দিন বকুল। ঢাকায় আরেক ভাই বিমান বাহিনীতে চাকরি করেন। বাড়িতে আমি ও আমার মা থাকি। ডাকাতরা আমার মাকে পিস্তল ঠেকিয়ে আমার রুমে এনে আমাকেও জিম্মি করে। পরে আমার গলায় থাকা স্বর্ণের চেন, কানের দুল ভয় দেখিয়ে ছিনিয়ে নেয়। সে সময় ডাকাতরা আসবাবপত্র তছনছ করে মায়ের ক্যান্সার চিকিৎসার ২ লাখ ১০ হাজার টাকা ও আমার স্বর্ণের সাড়ে ৩ ভরি ওজনের সীতাহার, ৩ ভরি ২ রতি ওজনের স্বর্ণের চুর, পাঁচ জোড়া স্বর্ণের দুল, ও তিনটি চেন নিয়ে যায় ডাকাতরা। তারা ১০ জনের মতো ছিল।\n",
        "\n",
        "বোয়ালমারী থানার পরিদর্শক (তদন্ত) মো. মজিবর রহমান জানান, খবর পেয়ে ঘটনাস্থল পরিদর্শন করা হয়েছে। তবে এটা চুরির ঘটনা। এখনও কেউ অভিযোগ করেননি। অভিযোগ পেলে আইনি ব্যবস্থা নেওয়া হবে।\n",
        "\n",
        "বাংলাদেশ সময়: ২১৩৫ ঘণ্টা, নভেম্বর ০৬, ২০২৪\n",
        "এসআরএস\n",
        "\n",
        "[Bangladesh24](https://www.banglanews24.com/national/news/bd/1420564.details)\n"
      ],
      "metadata": {
        "id": "-yy-6INAT6EK"
      }
    },
    {
      "cell_type": "code",
      "source": [
        "manual_testing(news_content)"
      ],
      "metadata": {
        "id": "IVuCZQv_Fy2T",
        "colab": {
          "base_uri": "https://localhost:8080/",
          "height": 36
        },
        "outputId": "9a85e52e-af65-48ff-fc34-5eba5b886bed"
      },
      "execution_count": 46,
      "outputs": [
        {
          "output_type": "execute_result",
          "data": {
            "text/plain": [
              "'\\n\\nLR Prediction: It is a Genuine news \\nDT Prediction: Fake News \\nRFC Prediction: It is a Genuine news'"
            ],
            "application/vnd.google.colaboratory.intrinsic+json": {
              "type": "string"
            }
          },
          "metadata": {},
          "execution_count": 46
        }
      ]
    },
    {
      "cell_type": "code",
      "source": [
        "news_content = str(input())"
      ],
      "metadata": {
        "colab": {
          "base_uri": "https://localhost:8080/"
        },
        "id": "rBQ6tqSHhUYf",
        "outputId": "3f6063c9-20ba-49fc-e2ab-8876be28c196"
      },
      "execution_count": 54,
      "outputs": [
        {
          "name": "stdout",
          "output_type": "stream",
          "text": [
            "সম্প্রতি এক গবেষণায় দাবি করা হয়েছে, বছরে মাত্র একবার আমলকি খেলে মানবদেহের সকল রোগের নিরাময় সম্ভব। এই গবেষণা পরিচালনা করেছেন কথিত বিশেষজ্ঞরা, যারা বলছেন, আমলকি খেলে ক্যান্সার, ডায়াবেটিস, হার্টের অসুখ সহ যেকোনো রোগ প্রতিরোধ করা যায়। তারা আরও জানান, শরীরের রোগপ্রতিরোধ ক্ষমতা এমনভাবে বৃদ্ধি পায় যে, পরবর্তীকালে কোনো ধরনের ঔষধের প্রয়োজন পড়বে না। ইতিমধ্যেই অনেক মানুষ এই পদ্ধতি গ্রহণ করে সুস্থ জীবনযাপন করছেন।\n"
          ]
        }
      ]
    },
    {
      "cell_type": "markdown",
      "source": [
        "Fake news generated by chat gpt\n",
        "সম্প্রতি এক গবেষণায় দাবি করা হয়েছে, বছরে মাত্র একবার আমলকি খেলে মানবদেহের সকল রোগের নিরাময় সম্ভব। এই গবেষণা পরিচালনা করেছেন কথিত বিশেষজ্ঞরা, যারা বলছেন, আমলকি খেলে ক্যান্সার, ডায়াবেটিস, হার্টের অসুখ সহ যেকোনো রোগ প্রতিরোধ করা যায়। তারা আরও জানান, শরীরের রোগপ্রতিরোধ ক্ষমতা এমনভাবে বৃদ্ধি পায় যে, পরবর্তীকালে কোনো ধরনের ঔষধের প্রয়োজন পড়বে না। ইতিমধ্যেই অনেক মানুষ এই পদ্ধতি গ্রহণ করে সুস্থ জীবনযাপন করছেন।"
      ],
      "metadata": {
        "id": "nDJTgjA6hd7W"
      }
    },
    {
      "cell_type": "code",
      "source": [
        "manual_testing(news_content)"
      ],
      "metadata": {
        "colab": {
          "base_uri": "https://localhost:8080/",
          "height": 36
        },
        "id": "cva_GeuXhWyv",
        "outputId": "6e4339b0-752b-4a47-e65c-06311d56d44c"
      },
      "execution_count": 55,
      "outputs": [
        {
          "output_type": "execute_result",
          "data": {
            "text/plain": [
              "'\\n\\nLR Prediction: Fake News \\nDT Prediction: Fake News \\nRFC Prediction: Fake News'"
            ],
            "application/vnd.google.colaboratory.intrinsic+json": {
              "type": "string"
            }
          },
          "metadata": {},
          "execution_count": 55
        }
      ]
    },
    {
      "cell_type": "code",
      "source": [],
      "metadata": {
        "id": "yhXxi9njhchP"
      },
      "execution_count": null,
      "outputs": []
    }
  ]
}